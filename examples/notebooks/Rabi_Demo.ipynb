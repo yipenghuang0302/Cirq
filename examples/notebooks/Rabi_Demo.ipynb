{
  "nbformat": 4,
  "nbformat_minor": 0,
  "metadata": {
    "colab": {
      "name": "Rabi_Demo.ipynb",
      "provenance": [],
      "collapsed_sections": [
        "V6uE-yFxoT-3"
      ]
    },
    "kernelspec": {
      "name": "python3",
      "display_name": "Python 3"
    }
  },
  "cells": [
    {
      "cell_type": "code",
      "metadata": {
        "id": "B48YJv5c6SNC",
        "colab_type": "code",
        "colab": {}
      },
      "source": [
        "%%capture\n",
        "!pip install --upgrade pip\n",
        "!pip install cirq==0.7"
      ],
      "execution_count": 0,
      "outputs": []
    },
    {
      "cell_type": "markdown",
      "metadata": {
        "id": "kL2C06ln6h48",
        "colab_type": "text"
      },
      "source": [
        "# Rabi Oscillation Experiment\n",
        "\n",
        "In this experiment, you are going to use Cirq to check that rotating a qubit by an increasing angle, and then measuring the qubit, produces Rabi oscillations. This requires you to do the following things:\n",
        "\n",
        "1. Prepare the $|0\\rangle$ state.\n",
        "2. Rotate by an angle $\\theta$ around the $X$ axis.\n",
        "3. Measure to see if the result is a 1 or a 0.\n",
        "4. Repeat steps 1-3 $k$ times.\n",
        "5. Report the fraction of $\\frac{\\text{Number of 1's}}{k}$\n",
        "found in step 3."
      ]
    },
    {
      "cell_type": "markdown",
      "metadata": {
        "id": "ACqqV6tJ7xXp",
        "colab_type": "text"
      },
      "source": [
        "## 1. Getting to know Cirq\n",
        "\n",
        "Cirq emphasizes the details of implementing quantum algorithms on near term devices.\n",
        "For example, when you work on a qubit in Cirq you don't operate on an unspecified qubit that will later be mapped onto a device by a hidden step.\n",
        "Instead, you are always operating on specific qubits at specific locations that you specify.\n",
        "\n",
        "Suppose you are working with a 54 qubit Sycamore chip.\n",
        "This device is included in Cirq by default.\n",
        "It is called `cirq.google.Sycamore`, and you can see its layout by printing it."
      ]
    },
    {
      "cell_type": "code",
      "metadata": {
        "id": "rKoMKEw46XY7",
        "colab_type": "code",
        "colab": {}
      },
      "source": [
        "import cirq\n",
        "working_device = cirq.google.Sycamore\n",
        "print(working_device)"
      ],
      "execution_count": 0,
      "outputs": []
    },
    {
      "cell_type": "markdown",
      "metadata": {
        "id": "FJJEbuk-98Gj",
        "colab_type": "text"
      },
      "source": [
        "For this experiment you only need one qubit and you can just pick whichever one you like."
      ]
    },
    {
      "cell_type": "code",
      "metadata": {
        "id": "XoXekxuQ8bI0",
        "colab_type": "code",
        "colab": {}
      },
      "source": [
        "my_qubit = cirq.GridQubit(5, 6)"
      ],
      "execution_count": 0,
      "outputs": []
    },
    {
      "cell_type": "markdown",
      "metadata": {
        "id": "8Tucm7os-uET",
        "colab_type": "text"
      },
      "source": [
        "Once you've chosen your qubit you can build circuits that use it."
      ]
    },
    {
      "cell_type": "code",
      "metadata": {
        "id": "niH8sty--Hu0",
        "colab_type": "code",
        "colab": {}
      },
      "source": [
        "from cirq.contrib.svg import SVGCircuit\n",
        "\n",
        "# Create a circuit with X, Ry(pi/2) and H.\n",
        "my_circuit = cirq.Circuit(\n",
        "    # Rotate the qubit pi/2 radians around the X axis.\n",
        "    cirq.rx(3.141 / 2).on(my_qubit),\n",
        "    # Measure the qubit.\n",
        "    cirq.measure(my_qubit, key='out')\n",
        ")\n",
        "SVGCircuit(my_circuit)"
      ],
      "execution_count": 0,
      "outputs": []
    },
    {
      "cell_type": "markdown",
      "metadata": {
        "id": "-zbI-2KUMU66",
        "colab_type": "text"
      },
      "source": [
        "Now you can simulate sampling from your circuit using `cirq.Simulator`."
      ]
    },
    {
      "cell_type": "code",
      "metadata": {
        "id": "IqUn4uv9_IVo",
        "colab_type": "code",
        "colab": {}
      },
      "source": [
        "sim = cirq.Simulator()\n",
        "samples = sim.sample(my_circuit, repetitions=10)\n",
        "samples"
      ],
      "execution_count": 0,
      "outputs": []
    },
    {
      "cell_type": "markdown",
      "metadata": {
        "id": "k-uAT6sHdGib",
        "colab_type": "text"
      },
      "source": [
        "You can also get properties of the circuit, such as the density matrix of the circuit's output or the wavefunction just before the terminal measurement."
      ]
    },
    {
      "cell_type": "code",
      "metadata": {
        "id": "83OqpReyHyUK",
        "colab_type": "code",
        "colab": {}
      },
      "source": [
        "wavefuntion_before_measurement = sim.simulate(my_circuit[:-1])\n",
        "sampled_wavefunction_after_measurement = sim.simulate(my_circuit)\n",
        "\n",
        "print(f'State before measurement:')\n",
        "print(wavefuntion_before_measurement)\n",
        "print(f'State after measurement:')\n",
        "print(sampled_wavefunction_after_measurement)\n"
      ],
      "execution_count": 0,
      "outputs": []
    },
    {
      "cell_type": "markdown",
      "metadata": {
        "id": "1raIf8dsWHLJ",
        "colab_type": "text"
      },
      "source": [
        "You can also examine the outputs from a noisy environment.\n",
        "For example, an environment where 10% depolarization is applied to each qubit after each operation in the circuit:"
      ]
    },
    {
      "cell_type": "code",
      "metadata": {
        "id": "P7VW97ugWE_h",
        "colab_type": "code",
        "colab": {}
      },
      "source": [
        "noisy_sim = cirq.DensityMatrixSimulator(noise=cirq.depolarize(0.1))\n",
        "noisy_post_measurement_state = noisy_sim.simulate(my_circuit)\n",
        "noisy_pre_measurement_state = noisy_sim.simulate(my_circuit[:-1])\n",
        "\n",
        "print('Noisy state after measurement:' + str(noisy_post_measurement_state))\n",
        "print('Noisy state before measurement:' + str(noisy_pre_measurement_state))"
      ],
      "execution_count": 0,
      "outputs": []
    },
    {
      "cell_type": "markdown",
      "metadata": {
        "id": "2h6yoOl4Rmwt",
        "colab_type": "text"
      },
      "source": [
        "# 2. Parameterized Circuits and Sweeps\n",
        "\n",
        "Now that you have some of the basics end to end, you can create a parameterized circuit that rotates by an angle $\\theta$:"
      ]
    },
    {
      "cell_type": "code",
      "metadata": {
        "id": "n6h6yuyGM58s",
        "colab_type": "code",
        "colab": {}
      },
      "source": [
        "import sympy\n",
        "theta = sympy.Symbol('theta')\n",
        "\n",
        "parameterized_circuit = cirq.Circuit(\n",
        "    cirq.rx(theta).on(my_qubit),\n",
        "    cirq.measure(my_qubit, key='out')\n",
        ")\n",
        "SVGCircuit(parameterized_circuit)"
      ],
      "execution_count": 0,
      "outputs": []
    },
    {
      "cell_type": "markdown",
      "metadata": {
        "id": "rU3BBOp0S4sM",
        "colab_type": "text"
      },
      "source": [
        "In the above block you saw that there is a `sympy.Symbol` that you placed in the circuit. Cirq supports symbolic computation involving circuits. What this means is that when you construct `cirq.Circuit` objects you can put placeholders in many of the classical control parameters of the circuit which you can fill with values later on.\n",
        "\n",
        "Now if you wanted to use `cirq.simulate` or `cirq.sample` with the parameterized circuit you would also need to specify a value for `theta`."
      ]
    },
    {
      "cell_type": "code",
      "metadata": {
        "id": "SMdz-yAZSwrU",
        "colab_type": "code",
        "colab": {}
      },
      "source": [
        "samples_at_theta_equals_2 = sim.sample(\n",
        "    parameterized_circuit, \n",
        "    params={theta: 2}, \n",
        "    repetitions=10)\n",
        "samples_at_theta_equals_2"
      ],
      "execution_count": 0,
      "outputs": []
    },
    {
      "cell_type": "markdown",
      "metadata": {
        "id": "H_H13Hc8g873",
        "colab_type": "text"
      },
      "source": [
        "You can also specify *multiple* values of `theta`, and get samples back for each value."
      ]
    },
    {
      "cell_type": "code",
      "metadata": {
        "id": "0zjZxGY6hIsu",
        "colab_type": "code",
        "colab": {}
      },
      "source": [
        "samples_at_multiple_theta = sim.sample(\n",
        "    parameterized_circuit, \n",
        "    params=[{theta: 0.5}, {theta: 3.141}], \n",
        "    repetitions=10)\n",
        "samples_at_multiple_theta"
      ],
      "execution_count": 0,
      "outputs": []
    },
    {
      "cell_type": "markdown",
      "metadata": {
        "id": "juuWvOEphaaE",
        "colab_type": "text"
      },
      "source": [
        "Cirq has shorthand notation you can use to sweep `theta` over a range of values."
      ]
    },
    {
      "cell_type": "code",
      "metadata": {
        "id": "8lCb3049hqXn",
        "colab_type": "code",
        "colab": {}
      },
      "source": [
        "samples_at_swept_theta = sim.sample(\n",
        "    parameterized_circuit, \n",
        "    params=cirq.Linspace(theta, start=0, stop=3.14159, length=5), \n",
        "    repetitions=5)\n",
        "samples_at_swept_theta"
      ],
      "execution_count": 0,
      "outputs": []
    },
    {
      "cell_type": "markdown",
      "metadata": {
        "id": "wqaORMoKiAIW",
        "colab_type": "text"
      },
      "source": [
        "The result value being returned by `sim.sample` is a `pandas.DataFrame` object.\n",
        "Pandas is a common library for working with table data in python.\n",
        "You can use standard pandas methods to analyze and summarize your results."
      ]
    },
    {
      "cell_type": "code",
      "metadata": {
        "id": "bLzGV8nFiS9o",
        "colab_type": "code",
        "colab": {}
      },
      "source": [
        "import pandas\n",
        "\n",
        "big_results = sim.sample(\n",
        "    parameterized_circuit, \n",
        "    params=cirq.Linspace(theta, start=0, stop=3.14159, length=20), \n",
        "    repetitions=10_000)\n",
        "\n",
        "# big_results is too big to look at. Plot cross tabulated data instead.\n",
        "pandas.crosstab(big_results.theta, big_results.out).plot()"
      ],
      "execution_count": 0,
      "outputs": []
    },
    {
      "cell_type": "markdown",
      "metadata": {
        "id": "b2TkL28AmBSQ",
        "colab_type": "text"
      },
      "source": [
        "# 3. The built-in experiment\n",
        "\n",
        "Cirq comes with a pre-written Rabi oscillation experiment `cirq.experiments.rabi_oscillations`.\n",
        "This method takes a `cirq.Sampler`, which could be a simulator or a network connection to real hardware.\n",
        "The method takes a few more experimental parameters, and returns a result object\n",
        "that can be plotted."
      ]
    },
    {
      "cell_type": "code",
      "metadata": {
        "id": "ma0pVZwSThQx",
        "colab_type": "code",
        "colab": {}
      },
      "source": [
        "import datetime\n",
        "\n",
        "result = cirq.experiments.rabi_oscillations(\n",
        "    sampler=noisy_sim,\n",
        "    qubit=my_qubit,\n",
        "    num_points=50,\n",
        "    repetitions=10000)\n",
        "result.plot()"
      ],
      "execution_count": 0,
      "outputs": []
    },
    {
      "cell_type": "markdown",
      "metadata": {
        "id": "U-oezaJAnzJ8",
        "colab_type": "text"
      },
      "source": [
        "Notice that you can tell from the plot that you used the noisy simulator you defined earlier.\n",
        "You can also tell that the amount of depolarization is roughly 10%."
      ]
    },
    {
      "cell_type": "markdown",
      "metadata": {
        "id": "V6uE-yFxoT-3",
        "colab_type": "text"
      },
      "source": [
        "# 4. Exercise: Find the best qubit\n",
        "\n",
        "As you have seen, you can use Cirq to perform a Rabi oscillation experiment.\n",
        "You can either make the experiment yourself out of the basic pieces made available by Cirq, or use the prebuilt experiment method.\n",
        "\n",
        "Now you're going to put this knowledge to the test.\n",
        "\n",
        "There is some amount of depolarizing noise on each qubit.\n",
        "Your goal is to characterize every qubit from the Sycamore chip using a Rabi oscillation experiment, and find the qubit with the lowest noise according to the secret noise model."
      ]
    },
    {
      "cell_type": "code",
      "metadata": {
        "id": "-eISq1eqXYWx",
        "colab_type": "code",
        "colab": {}
      },
      "source": [
        "import hashlib\n",
        "\n",
        "class SecretNoiseModel(cirq.NoiseModel):\n",
        "    def noisy_operation(self, op):\n",
        "        # Hey! No peeking!\n",
        "        q = op.qubits[0]\n",
        "        v = hashlib.sha256(str(q).encode()).digest()[0] / 256\n",
        "        yield cirq.depolarize(v).on(q)\n",
        "        yield op\n",
        "\n",
        "secret_noise_sampler = cirq.DensityMatrixSimulator(noise=SecretNoiseModel())"
      ],
      "execution_count": 0,
      "outputs": []
    },
    {
      "cell_type": "markdown",
      "metadata": {
        "id": "rijcdXfFtaN0",
        "colab_type": "text"
      },
      "source": [
        ""
      ]
    },
    {
      "cell_type": "code",
      "metadata": {
        "id": "Rvf87Wqrp-lu",
        "colab_type": "code",
        "colab": {}
      },
      "source": [
        "q = cirq.google.Sycamore.qubits[3]\n",
        "print('qubit', repr(q))\n",
        "cirq.experiments.rabi_oscillations(\n",
        "    sampler=secret_noise_sampler,\n",
        "    qubit=q\n",
        ").plot()"
      ],
      "execution_count": 0,
      "outputs": []
    },
    {
      "cell_type": "code",
      "metadata": {
        "id": "-P6bCx4dvM0z",
        "colab_type": "code",
        "colab": {}
      },
      "source": [
        ""
      ],
      "execution_count": 0,
      "outputs": []
    }
  ]
}