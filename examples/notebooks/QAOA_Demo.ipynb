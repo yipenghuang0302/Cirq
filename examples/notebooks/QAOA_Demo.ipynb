{
  "nbformat": 4,
  "nbformat_minor": 0,
  "metadata": {
    "colab": {
      "name": "QAOA_Demo.ipynb",
      "provenance": [],
      "collapsed_sections": []
    },
    "kernelspec": {
      "name": "python3",
      "display_name": "Python 3"
    }
  },
  "cells": [
    {
      "cell_type": "code",
      "metadata": {
        "id": "B48YJv5c6SNC",
        "colab_type": "code",
        "colab": {}
      },
      "source": [
        "%%capture\n",
        "!pip install --upgrade pip\n",
        "!pip install cirq==0.7"
      ],
      "execution_count": 0,
      "outputs": []
    },
    {
      "cell_type": "markdown",
      "metadata": {
        "id": "kL2C06ln6h48",
        "colab_type": "text"
      },
      "source": [
        "# QAOA Experiment\n",
        "In this experiment, you are going to implement a hardware compatible QAOA algorithm for determining the Max-Cut of the processor's hardware graph (where you assign random edge weights). You will need to:\n",
        "\n",
        "1. Define a random set of weights over the hardware graph.\n",
        "2. Construct a QAOA circuit using Cirq\n",
        "3. Calculate the expectated value of the QAOA cost function.\n",
        "4. Create an outer loop optimization to minimize your cost function.\n",
        "5. Compare cuts found from QAOA with the optimal cut."
      ]
    },
    {
      "cell_type": "markdown",
      "metadata": {
        "id": "ACqqV6tJ7xXp",
        "colab_type": "text"
      },
      "source": [
        "## 1. Defining a random set of weights over the hardware graph\n",
        "In order to make the problem easily embedable on a quantum device you are going to look at the problem of Max-Cut on the same graph that the device's qubit connectivity defines, but with random valued edge weights."
      ]
    },
    {
      "cell_type": "code",
      "metadata": {
        "id": "rKoMKEw46XY7",
        "colab_type": "code",
        "colab": {}
      },
      "source": [
        "import cirq\n",
        "import sympy\n",
        "import numpy as np\n",
        "import matplotlib.pyplot as plt\n",
        "working_device = cirq.google.Bristlecone\n",
        "print(working_device)"
      ],
      "execution_count": 0,
      "outputs": []
    },
    {
      "cell_type": "markdown",
      "metadata": {
        "id": "gDLrxvAle_uC",
        "colab_type": "text"
      },
      "source": [
        "Since a circuit covering the entire Bristlecone device cannot be easily simulated, a small subset of the device graph will be used instead."
      ]
    },
    {
      "cell_type": "code",
      "metadata": {
        "id": "XoXekxuQ8bI0",
        "colab_type": "code",
        "colab": {}
      },
      "source": [
        "import networkx as nx\n",
        "\n",
        "# Identify working qubits from the device.\n",
        "device_qubits = working_device.qubits\n",
        "working_qubits = sorted(device_qubits)[:12]\n",
        "\n",
        "# Populate a networkx graph with working_qubits as nodes.\n",
        "working_graph = nx.Graph()\n",
        "for qubit in working_qubits:\n",
        "  working_graph.add_node(qubit)\n",
        "\n",
        "# Pair up all neighbors with random weights in working_graph.\n",
        "for qubit in working_qubits:\n",
        "  for neighbor in working_device.neighbors_of(qubit):\n",
        "    if neighbor in working_graph:\n",
        "      # Generate a randomly weighted edge between them. Here the weighting\n",
        "      # is a random 2 decimal floating point between 0 and 5.\n",
        "      working_graph.add_edge(\n",
        "          qubit, neighbor, weight=np.random.randint(0,500) / 100)\n",
        "\n",
        "nx.draw_circular(working_graph, node_size=1000, with_labels=True)\n",
        "plt.show()"
      ],
      "execution_count": 0,
      "outputs": []
    },
    {
      "cell_type": "markdown",
      "metadata": {
        "id": "8Tucm7os-uET",
        "colab_type": "text"
      },
      "source": [
        "## 2. Construct the QAOA circuit\n",
        "Now that you have created a Max-Cut problem graph, it's time to generate the QAOA circuit following [Farhi et al.](https://arxiv.org/abs/1411.4028). For simplicity $p=1$ is chosen."
      ]
    },
    {
      "cell_type": "code",
      "metadata": {
        "id": "niH8sty--Hu0",
        "colab_type": "code",
        "colab": {}
      },
      "source": [
        "from cirq.contrib.svg import SVGCircuit\n",
        "\n",
        "alpha = sympy.Symbol('alpha')\n",
        "beta = sympy.Symbol('beta')\n",
        "\n",
        "qaoa_circuit = cirq.Circuit(\n",
        "    # Prepare uniform superposition on working_qubits == working_graph.nodes\n",
        "    cirq.H.on_each(working_graph.nodes()),\n",
        "\n",
        "    # Do ZZ operations between neighbors u,v in the graph. u is a qubit v is\n",
        "    # its neighbor qubit and w is the weight between these qubits.\n",
        "    (cirq.ZZ(u, v) ** (alpha * w['weight']) for (u, v, w) in working_graph.edges(data=True)),\n",
        "\n",
        "    # Apply X operations along all nodes of the graph. Again working_graph's\n",
        "    # nodes are the working_qubits. Not here we use a moment\n",
        "    # which will force all of the gates into the same line.\n",
        "    cirq.Moment(cirq.X(qubit) ** beta for qubit in working_graph.nodes()),\n",
        "    \n",
        "    # All relevant things can be computed in computational basis.\n",
        "    (cirq.measure(qubit) for qubit in working_graph.nodes()),\n",
        ")\n",
        "SVGCircuit(qaoa_circuit)"
      ],
      "execution_count": 0,
      "outputs": []
    },
    {
      "cell_type": "markdown",
      "metadata": {
        "id": "-zbI-2KUMU66",
        "colab_type": "text"
      },
      "source": [
        "## 3. Calculating the expected value of the QAOA cost function\n",
        "Now that you have created your parameterized QAOA circuit, you are going to need a way to calculate the expectation values of the cost function. Since the cost function is the (weighted) sum of all $ZZ$ pairs in the graph you can compute all of these values simultaneously.\n",
        "\n",
        "First you need a way to estimate the expectation value given the samples from each qubit."
      ]
    },
    {
      "cell_type": "code",
      "metadata": {
        "id": "IqUn4uv9_IVo",
        "colab_type": "code",
        "colab": {}
      },
      "source": [
        "def estimate_cost(graph, samples):\n",
        "    \"\"\"Estimate the cost function of the QAOA on the given graph using the\n",
        "    provided computational basis bitstrings.\"\"\"\n",
        "    cost_value = 0.0\n",
        "\n",
        "    # Loop over edge pairs and compute contribution.\n",
        "    for u, v, w in graph.edges(data=True):\n",
        "      u_samples = samples[str(u)]\n",
        "      v_samples = samples[str(v)]\n",
        "\n",
        "      # Determine if it was a +1 or -1 eigenvalue.\n",
        "      u_signs = (-1)**u_samples\n",
        "      v_signs = (-1)**v_samples\n",
        "      term_signs = u_signs * v_signs\n",
        "\n",
        "      # Add scaled term to total cost .\n",
        "      term_val = np.mean(term_signs) * w['weight']\n",
        "      cost_value += term_val\n",
        "\n",
        "    return -cost_value"
      ],
      "execution_count": 0,
      "outputs": []
    },
    {
      "cell_type": "markdown",
      "metadata": {
        "id": "XLO0RRZarb_a",
        "colab_type": "text"
      },
      "source": [
        "Now if you run `qaoa_circuit` with a certain set of values for your placeholders you can use `estimate_expectation` to calculate the expectation value of the cost function for the circuit:"
      ]
    },
    {
      "cell_type": "code",
      "metadata": {
        "id": "gZmW7NkBrl5Z",
        "colab_type": "code",
        "colab": {}
      },
      "source": [
        "alpha_value = np.pi / 4\n",
        "beta_value = np.pi / 2\n",
        "sim = cirq.Simulator()\n",
        "sample_results = sim.sample(qaoa_circuit, params={alpha: alpha_value, beta: beta_value}, repetitions=20000)\n",
        "print(f'Alpha={alpha_value} Beta={beta_value}')\n",
        "print(f'Estimated cost: {estimate_cost(working_graph, sample_results)}')"
      ],
      "execution_count": 0,
      "outputs": []
    },
    {
      "cell_type": "markdown",
      "metadata": {
        "id": "rBmCr_DCsbtf",
        "colab_type": "text"
      },
      "source": [
        "## 4. Outer loop optimization\n",
        "There are lots of different techniques to choose parameters for `qaoa_circuit`. When there are only two parameters you can keep things simple and sweep over incremental pairings using `np.linspace` and track the minimum value you've found along the way."
      ]
    },
    {
      "cell_type": "code",
      "metadata": {
        "id": "ma0pVZwSThQx",
        "colab_type": "code",
        "colab": {}
      },
      "source": [
        "grid_size = 5\n",
        "exp_values = np.empty((grid_size, grid_size))\n",
        "par_values = np.empty((grid_size, grid_size, 2))\n",
        "for i, alpha_value in enumerate(np.linspace(0, 2*np.pi, grid_size)):\n",
        "  for j, beta_value in enumerate(np.linspace(0, 2*np.pi, grid_size)):\n",
        "    samples = sim.sample(\n",
        "        qaoa_circuit,\n",
        "        params={alpha: alpha_value, beta: beta_value},\n",
        "        repetitions=20000)\n",
        "    exp_values[i][j] = estimate_cost(working_graph, samples)\n",
        "    par_values[i][j] = alpha_value, beta_value"
      ],
      "execution_count": 0,
      "outputs": []
    },
    {
      "cell_type": "markdown",
      "metadata": {
        "id": "vp-LmYLnvkzM",
        "colab_type": "text"
      },
      "source": [
        "You can also examine the cost function values w.r.t $\\alpha$ and $\\beta$:"
      ]
    },
    {
      "cell_type": "code",
      "metadata": {
        "id": "ZdSqBSuNuckY",
        "colab_type": "code",
        "colab": {}
      },
      "source": [
        "plt.title('Heamap of QAOA Cost Function Value')\n",
        "plt.xlabel(r'$\\alpha$')\n",
        "plt.ylabel(r'$\\beta$')\n",
        "plt.imshow(exp_values)"
      ],
      "execution_count": 0,
      "outputs": []
    },
    {
      "cell_type": "markdown",
      "metadata": {
        "id": "BzwnTYWpuKZM",
        "colab_type": "text"
      },
      "source": [
        "## 5. Compare cuts\n",
        "Since you are going to be comparing graph cuts in `working_graph` a helper function to draw them and print their the size would be useful:\n"
      ]
    },
    {
      "cell_type": "code",
      "metadata": {
        "id": "6nD1YQr39KOI",
        "colab_type": "code",
        "colab": {}
      },
      "source": [
        "def output_cut(S_partition):\n",
        "  \"\"\"Plot and output the graph cut information.\"\"\"\n",
        "\n",
        "  # Generate the colors.\n",
        "  coloring = []\n",
        "  for node in working_graph:\n",
        "    if node in S_partition:\n",
        "      coloring.append('blue')\n",
        "    else:\n",
        "      coloring.append('red')\n",
        "\n",
        "  # Get the weights\n",
        "  edges = working_graph.edges(data=True)\n",
        "  weights = [w['weight'] for (u,v, w) in edges]\n",
        "\n",
        "  nx.draw_circular(\n",
        "      working_graph,\n",
        "      node_color=coloring,\n",
        "      node_size=1000,\n",
        "      with_labels=True,\n",
        "      width=weights)\n",
        "  plt.show()\n",
        "  size = nx.cut_size(working_graph, S_partition, weight='weight')\n",
        "  print(f'Cut size:{size}')\n",
        "\n",
        "# Test with the empty S and all nodes placed in T.\n",
        "output_cut([])"
      ],
      "execution_count": 0,
      "outputs": []
    },
    {
      "cell_type": "markdown",
      "metadata": {
        "id": "t2DOLJ_3-cJt",
        "colab_type": "text"
      },
      "source": [
        "To get cuts using the QAOA you will first need to extract the best control parameters you found during your sweep:"
      ]
    },
    {
      "cell_type": "code",
      "metadata": {
        "id": "xg5vPCt_vIrf",
        "colab_type": "code",
        "colab": {}
      },
      "source": [
        "best_exp_index = np.unravel_index(np.argmax(exp_values), exp_values.shape)\n",
        "best_parameters = par_values[best_exp_index]\n",
        "print(f'Best control parameters:{best_parameters}')"
      ],
      "execution_count": 0,
      "outputs": []
    },
    {
      "cell_type": "markdown",
      "metadata": {
        "id": "IRab6h39voLn",
        "colab_type": "text"
      },
      "source": [
        "Each bitstring can be seen as a candidate cut in your graph. The qubits that measured 0 correspond to that qubit being in one cut partition and a qubit that measured to 1 corresponds to that qubit being in the other cut partition. Now that you've found good parameters for your circuit, you can just sample some bistrings, iterate over them and pick the one that gives the best cut:"
      ]
    },
    {
      "cell_type": "code",
      "metadata": {
        "id": "_1NYplopuFzu",
        "colab_type": "code",
        "colab": {}
      },
      "source": [
        "# Number of candidate cuts to sample.\n",
        "num_cuts = 100\n",
        "candidate_cuts = sim.sample(\n",
        "    qaoa_circuit,\n",
        "    params={alpha: best_parameters[0], beta: best_parameters[1]},\n",
        "    repetitions=num_cuts)\n",
        "\n",
        "# Variables to store best cut partitions and cut size.\n",
        "best_qaoa_S_partition = set()\n",
        "best_qaoa_T_partition = set()\n",
        "best_qaoa_cut_size = -9999\n",
        "\n",
        "# Analyze each candidate cut.\n",
        "for i in range(num_cuts):\n",
        "  candidate = candidate_cuts.iloc[i]\n",
        "  one_qubits = set(candidate[candidate==1].index)\n",
        "  S_partition = set()\n",
        "  T_partition = set()\n",
        "  for node in working_graph:\n",
        "    if str(node) in one_qubits:\n",
        "      # If a one was measured add node to S partition.\n",
        "      S_partition.add(node)\n",
        "    else:\n",
        "      # Otherwise a zero was measured so add to T partition.\n",
        "      T_partition.add(node)\n",
        "\n",
        "  cut_size = nx.cut_size(\n",
        "      working_graph, S_partition, T_partition, weight='weight')\n",
        "  \n",
        "  # If you found a better cut update best_qaoa_cut variables.\n",
        "  if cut_size > best_qaoa_cut_size:\n",
        "    best_qaoa_cut_size = cut_size\n",
        "    best_qaoa_S_partition = S_partition\n",
        "    best_qaoa_T_partition = T_partition"
      ],
      "execution_count": 0,
      "outputs": []
    },
    {
      "cell_type": "markdown",
      "metadata": {
        "id": "auo2VuTm6haO",
        "colab_type": "text"
      },
      "source": [
        "The QAOA is known to do just a little better better than random guessing for Max-Cut on 3-regular graphs at `p=1`. You can use very similar logic to the code above, but now instead of relying on the QAOA to decied your `S_partition` and `T_partition` you can just pick then randomly:"
      ]
    },
    {
      "cell_type": "code",
      "metadata": {
        "id": "UC5Sjgt-2tjC",
        "colab_type": "code",
        "colab": {}
      },
      "source": [
        "import random\n",
        "\n",
        "best_random_S_partition = set()\n",
        "best_random_T_partition = set()\n",
        "best_random_cut_size = -9999\n",
        "\n",
        "# Randomly build candidate sets.\n",
        "for i in range(num_cuts):\n",
        "  S_partition = set()\n",
        "  T_partition = set()\n",
        "  for node in working_graph:\n",
        "    if random.random() > 0.5:\n",
        "      # If we flip heads add to S.\n",
        "      S_partition.add(node)\n",
        "    else:\n",
        "      # Otherwise add to T.\n",
        "      T_partition.add(node)\n",
        "\n",
        "  cut_size = nx.cut_size(\n",
        "      working_graph, S_partition, T_partition, weight='weight')\n",
        "  \n",
        "  # If you found a better cut update best_random_cut variables.\n",
        "  if cut_size > best_random_cut_size:\n",
        "    best_random_cut_size = cut_size\n",
        "    best_random_S_partition = S_partition\n",
        "    best_random_T_partition = T_partition"
      ],
      "execution_count": 0,
      "outputs": []
    },
    {
      "cell_type": "code",
      "metadata": {
        "id": "2MldXTYP8QA2",
        "colab_type": "code",
        "colab": {}
      },
      "source": [
        "print('-----QAOA-----')\n",
        "output_cut(best_qaoa_S_partition)\n",
        "\n",
        "print('-----RANDOM-----')\n",
        "output_cut(best_random_S_partition)"
      ],
      "execution_count": 0,
      "outputs": []
    },
    {
      "cell_type": "code",
      "metadata": {
        "id": "kUfMrkIV8e_Z",
        "colab_type": "code",
        "colab": {}
      },
      "source": [
        ""
      ],
      "execution_count": 0,
      "outputs": []
    }
  ]
}