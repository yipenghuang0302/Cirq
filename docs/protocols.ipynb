{
 "cells": [
  {
   "cell_type": "markdown",
   "metadata": {
    "id": "DkA0Fobtb9dM"
   },
   "source": [
    "##### Copyright 2020 The Cirq Developers"
   ]
  },
  {
   "cell_type": "code",
   "execution_count": null,
   "metadata": {
    "cellView": "form",
    "id": "tUshu7YfcAAW"
   },
   "outputs": [],
   "source": [
    "#@title Licensed under the Apache License, Version 2.0 (the \"License\");\n",
    "# you may not use this file except in compliance with the License.\n",
    "# You may obtain a copy of the License at\n",
    "#\n",
    "# https://www.apache.org/licenses/LICENSE-2.0\n",
    "#\n",
    "# Unless required by applicable law or agreed to in writing, software\n",
    "# distributed under the License is distributed on an \"AS IS\" BASIS,\n",
    "# WITHOUT WARRANTIES OR CONDITIONS OF ANY KIND, either express or implied.\n",
    "# See the License for the specific language governing permissions and\n",
    "# limitations under the License."
   ]
  },
  {
   "cell_type": "markdown",
   "metadata": {
    "id": "igOQCrBOcF5d"
   },
   "source": [
    "# Protocols"
   ]
  },
  {
   "cell_type": "markdown",
   "metadata": {
    "id": "LHRAvc9TcHOH"
   },
   "source": [
    "<table class=\"tfo-notebook-buttons\" align=\"left\">\n",
    "  <td>\n",
    "    <a target=\"_blank\" href=\"https://www.example.org/cirq/protocols\"><img src=\"https://www.tensorflow.org/images/tf_logo_32px.png\" />View on QuantumLib</a>\n",
    "  </td>\n",
    "  <td>\n",
    "    <a target=\"_blank\" href=\"https://colab.research.google.com/github/quantumlib/Cirq/blob/master/docs/protocols.ipynb\"><img src=\"https://www.tensorflow.org/images/colab_logo_32px.png\" />Run in Google Colab</a>\n",
    "  </td>\n",
    "  <td>\n",
    "    <a target=\"_blank\" href=\"https://github.com/quantumlib/Cirq/blob/master/docs/protocols.ipynb\"><img src=\"https://www.tensorflow.org/images/GitHub-Mark-32px.png\" />View source on GitHub</a>\n",
    "  </td>\n",
    "  <td>\n",
    "    <a href=\"https://storage.googleapis.com/tensorflow_docs/Cirq/docs/protocols.ipynb\"><img src=\"https://www.tensorflow.org/images/download_logo_32px.png\" />Download notebook</a>\n",
    "  </td>\n",
    "</table>"
   ]
  },
  {
   "cell_type": "code",
   "execution_count": null,
   "metadata": {
    "id": "bd9529db1c0b"
   },
   "outputs": [],
   "source": [
    "try:\n",
    "    import cirq\n",
    "except ImportError:\n",
    "    print(\"installing cirq...\")\n",
    "    !pip install --quiet cirq\n",
    "    print(\"installed cirq.\")"
   ]
  },
  {
   "cell_type": "markdown",
   "metadata": {
    "id": "lB__WndjHWGa"
   },
   "source": [
    "# Introduction\n",
    "\n",
    "Cirq's protocols are very similar concept to Python's built-in protocols that were introduced in [PEP 544](https://www.python.org/dev/peps/pep-0544/).\n",
    "Python's built-in protocols are extremely convenient, for example behind all the for loops and list comprehensions you can find the Iterator protocol.\n",
    "As long as an object has the `__iter__()` magic method that returns an iterator object, it has iterator support.\n",
    "An iterator object has to define `__iter__()` and `__next__()` magic methods, that defines the iterator protocol.\n",
    "The `iter(val)` builtin function returns an iterator for `val` if it defines the above methods, otherwise throws a `TypeError`. Cirq protocols work similarly.\n",
    "\n",
    "A canonical Cirq protocol example is the `unitary` protocol that allows to check the unitary matrix of values that support the protocol by calling `cirq.unitary(val)`."
   ]
  },
  {
   "cell_type": "code",
   "execution_count": 13,
   "metadata": {
    "id": "4a6bcd71ae5f"
   },
   "outputs": [
    {
     "name": "stdout",
     "output_type": "stream",
     "text": [
      "X\n",
      "cirq.X unitary:\n",
      " [[0.+0.j 1.+0.j]\n",
      " [1.+0.j 0.+0.j]]\n",
      "0: ───X───\n",
      "\n",
      "1: ───Y───\n",
      "circuit unitary:\n",
      " [[0.-0.j 0.-0.j 0.-0.j 0.-1.j]\n",
      " [0.+0.j 0.+0.j 0.+1.j 0.+0.j]\n",
      " [0.-0.j 0.-1.j 0.-0.j 0.-0.j]\n",
      " [0.+1.j 0.+0.j 0.+0.j 0.+0.j]]\n"
     ]
    }
   ],
   "source": [
    "import cirq \n",
    "\n",
    "print(cirq.X)\n",
    "print(\"cirq.X unitary:\\n\", cirq.unitary(cirq.X))\n",
    "\n",
    "a, b = cirq.LineQubit.range(2)\n",
    "circuit = cirq.Circuit(cirq.X(a), cirq.Y(b))\n",
    "print(circuit)\n",
    "print(\"circuit unitary:\\n\", cirq.unitary(circuit))\n"
   ]
  },
  {
   "cell_type": "markdown",
   "metadata": {
    "id": "6b3b43b2141b"
   },
   "source": [
    "When an object does not support a given protocol, an error is thrown."
   ]
  },
  {
   "cell_type": "code",
   "execution_count": 14,
   "metadata": {
    "id": "a988c0efc9b7"
   },
   "outputs": [
    {
     "name": "stdout",
     "output_type": "stream",
     "text": [
      "Of course, a qubit does not have a unitary. The error: \n",
      "cirq.unitary failed. Value doesn't have a (non-parameterized) unitary effect.\n",
      "\n",
      "type: <class 'cirq.devices.line_qubit.LineQubit'>\n",
      "value: cirq.LineQubit(0)\n",
      "\n",
      "The value failed to satisfy any of the following criteria:\n",
      "- A `_unitary_(self)` method that returned a value besides None or NotImplemented.\n",
      "- A `_decompose_(self)` method that returned a list of unitary operations.\n",
      "- An `_apply_unitary_(self, args) method that returned a value besides None or NotImplemented.\n"
     ]
    }
   ],
   "source": [
    "try: \n",
    "    print(cirq.unitary(a)) ## error!\n",
    "except Exception as e: \n",
    "    print(\"As expected, a qubit does not have a unitary. The error: \")\n",
    "    print(e)\n",
    "    "
   ]
  },
  {
   "cell_type": "markdown",
   "metadata": {
    "id": "b4d4bc702a5e"
   },
   "source": [
    "## What is a Protocol\n",
    "\n",
    "TODO: describe the class SupportsXYZ, private methods, the entry-point cirq.xyz and the fallback strategies.\n",
    "\n",
    "\n",
    "## Cirq's protocols\n",
    "\n",
    "TODO: draw a nice diagram of what areas the current protocols belong to and how they are interrelated\n",
    "\n",
    "TODO: full list of protocols\n"
   ]
  }
 ],
 "metadata": {
  "colab": {
   "collapsed_sections": [],
   "name": "protocols.ipynb",
   "toc_visible": true
  },
  "kernelspec": {
   "display_name": "Python 3",
   "name": "python3"
  }
 },
 "nbformat": 4,
 "nbformat_minor": 0
}
