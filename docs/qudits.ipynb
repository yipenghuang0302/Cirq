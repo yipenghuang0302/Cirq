{
 "cells": [
  {
   "cell_type": "markdown",
   "metadata": {
    "id": "Vc_pi_tJfgbD"
   },
   "source": [
    "##### Copyright 2020 The Cirq Developers"
   ]
  },
  {
   "cell_type": "code",
   "execution_count": null,
   "metadata": {
    "cellView": "form",
    "id": "nF8-mErJfgv6"
   },
   "outputs": [],
   "source": [
    "#@title Licensed under the Apache License, Version 2.0 (the \"License\");\n",
    "# you may not use this file except in compliance with the License.\n",
    "# You may obtain a copy of the License at\n",
    "#\n",
    "# https://www.apache.org/licenses/LICENSE-2.0\n",
    "#\n",
    "# Unless required by applicable law or agreed to in writing, software\n",
    "# distributed under the License is distributed on an \"AS IS\" BASIS,\n",
    "# WITHOUT WARRANTIES OR CONDITIONS OF ANY KIND, either express or implied.\n",
    "# See the License for the specific language governing permissions and\n",
    "# limitations under the License."
   ]
  },
  {
   "cell_type": "markdown",
   "metadata": {
    "id": "lsV6t2orfimn"
   },
   "source": [
    "# Qudits"
   ]
  },
  {
   "cell_type": "markdown",
   "metadata": {
    "id": "H8uAzxCifjsb"
   },
   "source": [
    "<table class=\"tfo-notebook-buttons\" align=\"left\">\n",
    "  <td>\n",
    "    <a target=\"_blank\" href=\"https://www.example.org/cirq/qudits\"><img src=\"https://www.tensorflow.org/images/tf_logo_32px.png\" />View on QuantumLib</a>\n",
    "  </td>\n",
    "  <td>\n",
    "    <a target=\"_blank\" href=\"https://colab.research.google.com/github/quantumlib/Cirq/blob/master/docs/qudits.ipynb\"><img src=\"https://www.tensorflow.org/images/colab_logo_32px.png\" />Run in Google Colab</a>\n",
    "  </td>\n",
    "  <td>\n",
    "    <a target=\"_blank\" href=\"https://github.com/quantumlib/Cirq/blob/master/docs/qudits.ipynb\"><img src=\"https://www.tensorflow.org/images/GitHub-Mark-32px.png\" />View source on GitHub</a>\n",
    "  </td>\n",
    "  <td>\n",
    "    <a href=\"https://storage.googleapis.com/tensorflow_docs/Cirq/docs/qudits.ipynb\"><img src=\"https://www.tensorflow.org/images/download_logo_32px.png\" />Download notebook</a>\n",
    "  </td>\n",
    "</table>"
   ]
  },
  {
   "cell_type": "code",
   "execution_count": null,
   "metadata": {
    "id": "bd9529db1c0b"
   },
   "outputs": [],
   "source": [
    "try:\n",
    "    import cirq\n",
    "except ImportError:\n",
    "    print(\"installing cirq...\")\n",
    "    !pip install --quiet cirq\n",
    "    print(\"installed cirq.\")"
   ]
  },
  {
   "cell_type": "markdown",
   "metadata": {
    "id": "9c07f9b01c71"
   },
   "source": [
    "Most of the time in quantum computation, we work with qubits, which are 2-level quantum systems. A qu-*d*-it is a generalization of a qubit to a d-level or d-dimension system.\n",
    "\n",
    "Qudits with known values for d have specific names. A qubit has dimension 2, a qutrit has dimension 3, a ququart has dimension 4, and so on.\n",
    "In Cirq, qudits work exactly like qubits except they have a `dimension` attribute other than 2, and they can only be used with gates specific to that dimension.\n",
    "\n",
    "Both qubits and qudits are represented by a `Qid` object.\n",
    "\n",
    "To apply a gate to some qudits, the dimensions of the qudits must match the dimensions it works on.  For example, if a gate represents a unitary evolution on three qudits, a qubit, a qutrit, and another qutrit, the gate's \"qid shape\" is `(2, 3, 3)` and its `on` method will accept exactly 3 `Qid`s with dimension 2, 3, and 3.  \n",
    "\n",
    "This is an example single qutrit gate used in a circuit:\n"
   ]
  },
  {
   "cell_type": "code",
   "execution_count": null,
   "metadata": {
    "id": "6b3c6308ddd3"
   },
   "outputs": [
    {
     "name": "stdout",
     "output_type": "stream",
     "text": [
      "0 (d=3): ───[+1]───\n"
     ]
    }
   ],
   "source": [
    "import cirq\n",
    "\n",
    "class QutritPlusGate(cirq.SingleQubitGate):\n",
    "    def _qid_shape_(self):\n",
    "        return (3,)\n",
    "\n",
    "    def _unitary_(self):\n",
    "        return np.array([[0, 0, 1],\n",
    "                         [1, 0, 0],\n",
    "                         [0, 1, 0]])\n",
    "\n",
    "    def _circuit_diagram_info_(self, args):\n",
    "        return '[+1]'\n",
    "\n",
    "q0 = cirq.LineQid(0, dimension=3)\n",
    "circuit = cirq.Circuit(\n",
    "    QutritPlusGate().on(q0)\n",
    ")\n",
    "print(circuit)"
   ]
  },
  {
   "cell_type": "markdown",
   "metadata": {
    "id": "vWUhanx-fofU"
   },
   "source": [
    "## Qids\n",
    "\n",
    "`Qid` is the type that represents both qubits and qudits.  By default, a qid like `cirq.NamedQubit('a')` is a qubit.\n",
    "\n",
    "While Cirq has the built-in qubit types, it also provides the corresponding Qid types: \n",
    "\n",
    "- `cirq.NamedQid`: To create a qutrit named 'a', specify the dimension with `cirq.NamedQid('a', dimension=3)`.\n",
    "- `cirq.GridQid`: To create a 2x2 grid of ququarts, use `cirq.GridQid.rect(2, 2, dimension=4)`.\n",
    "- `cirq.LineQid`: In addition, the `LineQid` constructor also supports a dimension argument directly `cirq.LineQid(0, dimension=4)`."
   ]
  },
  {
   "cell_type": "markdown",
   "metadata": {
    "id": "CYYtVX6Ffq0b"
   },
   "source": [
    "### `cirq.qid_shape` and `def _qid_shape_`\n",
    "\n",
    "Quantum gates, operations, and other types that act on a sequence of qudits can specify the dimension of each qudit they act on by implementing the `_qid_shape_` magic method. This method returns a tuple of integers corresponding to the required dimension of each qudit it operates on, e.g. `(2, 3, 3)` means an object that acts on a qubit, a qutrit, and another qutrit.\n",
    "\n",
    "When `Qid`s are used with `Gate`s, `Operation`s, and `Circuit`s, the dimension of each qid must match the corresponding entry in the qid shape. An error is raised otherwise.\n",
    "\n",
    "Callers can query the qid shape of an object or a list of `Qid`s by calling `cirq.qid_shape` on it.\n",
    "By default, `cirq.qid_shape` will return the equivalent qid shape for qubits if `_qid_shape_` is not defined.\n",
    "\n",
    "For a qubit-only gate the qid shape is a tuple of 2s containing one 2 for each qubit e.g. `(2,) * cirq.num_qubits(gate)`."
   ]
  },
  {
   "cell_type": "markdown",
   "metadata": {
    "id": "GFh0hjB4ftMA"
   },
   "source": [
    "### Unitaries, mixtures, and channels\n",
    "\n",
    "The magic methods `_unitary_`, `_apply_unitary_`, `_mixture_`, and `_channel_` used to define unitary operations, mixtures, and channels can be used with qudits with one caveat.\n",
    "\n",
    "\n",
    "The matrix dimensions for qudits will be larger than for qubits based on the values of the qudit dimensions (the object's qid shape). The size of the matrix is determined from the product of the qudit dimensions.  \n",
    "\n",
    "For example, a single qubit unitary is a 2x2 matrix, whereas a single qutrit unitary is a 3x3 matrix.  A two qutrit unitary is a 9x9 matrix (3 * 3 = 9) and a qubit-ququart unitary is an 8x8 matrix (2 * 4 = 8).  The size of the matrices for mixtures and channels follow the same rule."
   ]
  },
  {
   "cell_type": "markdown",
   "metadata": {
    "id": "8a68e38cd33a"
   },
   "source": [
    "### Simulators and samplers\n",
    "\n",
    "Simulators like `cirq.Simulator` and `cirq.DensityMatrixSimulator` will return simulation results with larger matrices than the same size qubit circuit when simulating qudit circuits.\n",
    "\n",
    "The size of the matrix is determined by the product of the dimensions of the qudits being simulated. The state vector output of `cirq.Simulator` after simulating a circuit on a qubit, a qutrit, and a qutrit will have 2 * 3 * 3 = 18 elements.\n",
    "\n",
    "Call `cirq.qid_shape(simulation_result)` to check the qudit dimensions.\n",
    "\n",
    "Measurement results from running a qudit circuit are integers in the range `0` to `qid.dimension-1`."
   ]
  }
 ],
 "metadata": {
  "colab": {
   "name": "qudits.ipynb",
   "toc_visible": true
  },
  "kernelspec": {
   "display_name": "Python 3",
   "name": "python3"
  }
 },
 "nbformat": 4,
 "nbformat_minor": 0
}
