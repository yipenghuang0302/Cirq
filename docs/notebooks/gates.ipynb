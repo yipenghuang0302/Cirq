{
 "cells": [
  {
   "cell_type": "markdown",
   "metadata": {},
   "source": [
    "## Gates\n",
    "\n",
    "A ``Gate`` is an operation that can be applied to a collection of\n",
    "qubits (objects with a ``Qid``).  \n",
    "\n",
    "``Gates`` can be applied to qubits by calling theirs ``on`` method or, alternatively, calling the gate on the qubits.  The object created by such calls is an ``Operation``."
   ]
  },
  {
   "cell_type": "code",
   "execution_count": 1,
   "metadata": {},
   "outputs": [
    {
     "name": "stdout",
     "output_type": "stream",
     "text": [
      "CNOT((0, 0), (0, 1))\n",
      "CNOT((0, 0), (0, 1))\n"
     ]
    }
   ],
   "source": [
    "from cirq.ops import CNOT\n",
    "from cirq.devices import GridQubit\n",
    "q0, q1 = (GridQubit(0, 0), GridQubit(0, 1))\n",
    "print(CNOT.on(q0, q1))\n",
    "print(CNOT(q0, q1))"
   ]
  },
  {
   "cell_type": "markdown",
   "metadata": {},
   "source": [
    "Classes that implement ``Gate`` must supply either the ``_num_qubits_`` or ``_qid_shape_`` *magic methods*.  For convenience, one can use the ``SingleQubitGate``, ``TwoQubitGate``, and ``ThreeQubitGate`` classes for these common gate sizes.\n",
    "\n",
    "The most common type of ``Gate`` is one that corresponds to applying\n",
    "a unitary evolution on the qubits that the gate acts on.\n",
    "``Gate`` objects can also correspond to noisy evolution on the qubits. This version of a gate is not used when sending the circuit to a\n",
    "quantum computer for execution, but it can be used with\n",
    "various simulators. See [noise documentation](noise.ipynb)."
   ]
  },
  {
   "cell_type": "markdown",
   "metadata": {},
   "source": [
    "### Magic Methods\n",
    "\n",
    "A class that implements ``Gate`` can be applied to qubits to produce an ``Operation``. In order to support functionality beyond that basic task,  several *magic methods* need to be implemented.\n",
    "\n",
    "Standard magic methods in Python are `__add__`, `__eq__`, and `__len__`.\n",
    "Cirq defines additional magic methods, for functionality such as parameterization, diagramming, and simulation.\n",
    "\n",
    "For example, if a gate specifies a `_unitary_` method that returns a matrix for the gate, then simulators will be able to simulate applying the gate. Or, if a gate specifies a `__pow__` method that works for an exponent of -1, then `cirq.inverse` will start to work on lists, including the gate.\n",
    "\n",
    "Below, we describe some magic methods.\n",
    "\n",
    "#### `cirq.num_qubits` and `def _num_qubits_`\n",
    "\n",
    "A `Gate` must implement the `_num_qubits_` (or `_qid_shape_`) method.\n",
    "This method returns an integer and is used by `cirq.num_qubits` to determine how many qubits this gate operates on.\n",
    "\n",
    "#### `cirq.qid_shape` and `def _qid_shape_`\n",
    "\n",
    "A qudit gate or operation must implement the `_qid_shape_` method that returns a tuple of integers.\n",
    "This method is used to determine how many qudits the gate or operation operates on and what dimension each qudit must be.\n",
    "If only the `_num_qubits_` method is implemented, the object is assumed to operate only on qubits.\n",
    "Callers can query the qid shape of the object by calling `cirq.qid_shape` on it.\n",
    "See [qudit documentation](qudits.ipynb) for more information.\n",
    "\n",
    "#### `cirq.unitary` and `def _unitary_`\n",
    "\n",
    "When an object can be described by a unitary matrix, it can expose that unitary\n",
    "matrix by implementing a `_unitary_(self) -> np.ndarray` method.\n",
    "Callers can query whether or not an object has a unitary matrix by calling\n",
    "`cirq.unitary` on it.\n",
    "The `_unitary_` method may also return `NotImplemented`, in which case\n",
    "`cirq.unitary` behaves as if the method is not implemented.\n",
    "\n",
    "#### `cirq.decompose` and `def _decompose_`\n",
    "\n",
    "Operations and gates can be defined in terms of other operations by implementing a `_decompose_` method that returns those other operations.\n",
    "Operations implement `_decompose_(self)` whereas gates implement `_decompose_(self, qubits)` (since gates don't know their qubits ahead of time).\n",
    "\n",
    "The main requirements for the output of `_decompose_` methods are:\n",
    "\n",
    "1. **DO NOT CREATE CYCLES**. The `cirq.decompose` method will iteratively decompose until it finds values satisfying a `keep` predicate. Cycles cause it to enter an infinite loop.\n",
    "\n",
    "\n",
    "2. **Head towards operations defined by Cirq**. These operations have good decomposition methods that terminate in single-qubit and two qubit gates. These gates can be understood by the simulator, optimizers, and other code.\n",
    "\n",
    "\n",
    "3. **All that matters is functional equivalence**. Don't worry about staying within or reaching a particular gate set; it's too hard to predict what the caller will want. Gate-set-aware decomposition is useful, but this is not the protocol that does that. Gate-set-aware decomposition may be added in the future, but doesn't exist within Cirq at the moment.\n"
   ]
  },
  {
   "cell_type": "markdown",
   "metadata": {},
   "source": [
    "For example, `cirq.CCZ` decomposes into a series of `cirq.CNOT` and `cirq.T` operations.\n",
    "This allows code that does not understand three-qubit operation to work with `cirq.CCZ`; by decomposing it into operations they do understand.\n",
    "\n",
    "Another example: `cirq.TOFFOLI` decomposes into a `cirq.H` followed by a `cirq.CCZ` followed by a `cirq.H`. Although the output contains a three qubit operation (the CCZ), that operation can be decomposed into two qubit and one qubit operations. So code that doesn't understand three qubit operations can deal with Toffolis by decomposing them, and then decomposing the CCZs that result from the initial decomposition.\n",
    "\n",
    "In general, decomposition-aware code consuming operations is expected to recursively decompose unknown operations until the code either hits operations. In this case, it understands or hits a dead end where no more decomposition is possible.\n",
    "\n",
    "The `cirq.decompose` method implements logic for performing exactly this kind of recursive decomposition.\n",
    "Callers specify a `keep` predicate, and optionally specify intercepting and fallback decomposers, and then `cirq.decompose` will repeatedly decompose whatever operations it was given until the operations satisfy the given `keep`.\n",
    "If `cirq.decompose` hits a dead end, it raises an error.\n",
    "\n",
    "Cirq doesn't make any guarantees about the \"target gate set\" decomposition is heading towards.\n",
    "`cirq.decompose` is not a method\n",
    "Decompositions within Cirq happen to converge towards X, Y, Z, CZ, PhasedX, specified-matrix gates, and others.\n",
    "But this set will vary from release to release, and so it is important for consumers of decompositions to look for generic properties of gates,\n",
    "such as \"two qubit gate with a unitary matrix\", instead of specific gate types such as CZ gates."
   ]
  },
  {
   "cell_type": "markdown",
   "metadata": {},
   "source": [
    "#### `cirq.inverse` and `__pow__`\n",
    "\n",
    "Gates and operations are considered to be *invertible* when they implement a `__pow__` method that returns a result besides `NotImplemented` for an exponent of -1.\n",
    "This inverse can be accessed either directly as `value**-1`, or via the utility method `cirq.inverse(value)`.\n",
    "If you are sure that `value` has an inverse, saying `value**-1` is more convenient than saying `cirq.inverse(value)`.\n",
    "`cirq.inverse` is for cases where you aren't sure if `value` is invertable, or where `value` might be a *sequence* of invertible operations.\n",
    "\n",
    "`cirq.inverse` has a `default` parameter used as a fallback when `value` is not invertible.\n",
    "\n",
    "For example, `cirq.inverse(value, default=None)` returns the inverse of `value`, or else returns `None` if `value` isn't invertable.\n",
    "(If no `default` is specified and `value` isn't invertible, a `TypeError` is raised.)\n",
    "\n",
    "When you give `cirq.inverse` a list, or any other kind of iterable thing, it will return a sequence of operations that (if run in order) undoes the operations of the original sequence (if run in order).\n",
    "Basically, the items of the list are individually inverted and returned in reverse order.\n",
    "For example, the expression `cirq.inverse([cirq.S(b), cirq.CNOT(a, b)])` will return the tuple `(cirq.CNOT(a, b), cirq.S(b)**-1)`.\n",
    "\n",
    "Gates and operations can also return values beside `NotImplemented` from their `__pow__` method for exponents besides `-1`.\n",
    "This pattern is used often by Cirq.\n",
    "For example, the square root of X gate can be created by raising `cirq.X` to 0.5:"
   ]
  },
  {
   "cell_type": "code",
   "execution_count": 2,
   "metadata": {},
   "outputs": [
    {
     "name": "stdout",
     "output_type": "stream",
     "text": [
      "[[0.+0.j 1.+0.j]\n",
      " [1.+0.j 0.+0.j]]\n"
     ]
    }
   ],
   "source": [
    "import cirq\n",
    "print(cirq.unitary(cirq.X))"
   ]
  },
  {
   "cell_type": "code",
   "execution_count": 3,
   "metadata": {},
   "outputs": [
    {
     "name": "stdout",
     "output_type": "stream",
     "text": [
      "[[0.5+0.5j 0.5-0.5j]\n",
      " [0.5-0.5j 0.5+0.5j]]\n"
     ]
    }
   ],
   "source": [
    "sqrt_x = cirq.X**0.5\n",
    "print(cirq.unitary(sqrt_x))"
   ]
  },
  {
   "cell_type": "markdown",
   "metadata": {},
   "source": [
    "The Pauli gates included in Cirq use the convention ``Z**0.5 ≡ S ≡ np.diag(1, i)``, ``Z**-0.5 ≡ S**-1``, ``X**0.5 ≡ H·S·H``, and the square root of ``Y`` is inferred via the right hand rule.\n",
    "\n",
    "\n",
    "#### `_circuit_diagram_info_(self, args)` and `cirq.circuit_diagram_info(val, [args], [default])`\n",
    "\n",
    "Circuit diagrams are useful for visualizing the structure of a `Circuit`.\n",
    "Gates can specify compact representations to use in diagrams by implementing a `_circuit_diagram_info_` method.\n",
    "For example, this is why SWAP gates are shown as linked '×' characters in diagrams.\n",
    "\n",
    "The `_circuit_diagram_info_` method takes an `args` parameter of type `cirq.CircuitDiagramInfoArgs` and returns either\n",
    "a string (typically the gate's name), a sequence of strings (a label to use on each qubit targeted by the gate), or an\n",
    "instance of `cirq.CircuitDiagramInfo` (which can specify more advanced properties such as exponents and will expand\n",
    "in the future).\n",
    "\n",
    "You can query the circuit diagram info of a value by passing it into `cirq.circuit_diagram_info`.\n",
    "\n",
    "### Xmon gates\n",
    "\n",
    "Google's Xmon devices support a specific gate set. Gates\n",
    "in this gate set operate on ``GridQubit``s, which are qubits\n",
    "arranged on a square grid and which have an ``x`` and ``y``\n",
    "coordinate.\n",
    "\n",
    "The native Xmon gates are:\n",
    "\n",
    "**cirq.PhasedXPowGate**\n",
    "\n",
    "This gate is a rotation about an axis in the XY plane of the Bloch sphere.\n",
    "The ``PhasedXPowGate`` takes two parameters, ``exponent`` and ``phase_exponent``.\n",
    "The gate is equivalent to the circuit `───Z^-p───X^t───Z^p───` where `p` is the `phase_exponent`, and `t` is the `exponent`.\n",
    "\n",
    "\n",
    "**cirq.Z / cirq.Rz** \n",
    "\n",
    "Rotations about the Pauli ``Z`` axis.\n",
    "The matrix of `cirq.Z**t` is ``exp(i pi |1><1| t)`` whereas the matrix of `cirq.Rz(θ)` is `exp(-i Z θ/2)`.\n",
    "\n",
    "Note that, in quantum computing hardware, this gate is often implemented in the classical control hardware as a phase change on later operations, instead of as a physical modification applied to the qubits.\n",
    "\n",
    "**cirq.CZ** \n",
    "\n",
    "The controlled-Z gate.\n",
    "A two qubit gate that phases the ``|11>`` state.\n",
    "The matrix of `cirq.CZ**t` is ``exp(i pi |11><11| t)``.\n",
    "\n",
    "**cirq.MeasurementGate** \n",
    "\n",
    "This is a single qubit measurement\n",
    "in the computational basis. \n"
   ]
  },
  {
   "cell_type": "markdown",
   "metadata": {},
   "source": [
    "### Other Common Gates\n",
    "\n",
    "Cirq comes with a number of common named gates:\n",
    "\n",
    "* **CNOT** the controlled-X gate,\n",
    "\n",
    "* **SWAP** the swap gate,\n",
    "\n",
    "* **H** the Hadamard gate,\n",
    "\n",
    "* **S** the square root of Z gate,\n",
    "\n",
    "* and our error correcting friend the **T** gate."
   ]
  }
 ],
 "metadata": {
  "kernelspec": {
   "display_name": "Python 3",
   "language": "python",
   "name": "python3"
  },
  "language_info": {
   "codemirror_mode": {
    "name": "ipython",
    "version": 3
   },
   "file_extension": ".py",
   "mimetype": "text/x-python",
   "name": "python",
   "nbconvert_exporter": "python",
   "pygments_lexer": "ipython3",
   "version": "3.7.4"
  }
 },
 "nbformat": 4,
 "nbformat_minor": 2
}