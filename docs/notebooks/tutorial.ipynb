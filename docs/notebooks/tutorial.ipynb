{
 "cells": [
  {
   "cell_type": "markdown",
   "metadata": {
    "scrolled": true
   },
   "source": [
    "# Tutorial: Creating a Quantum Variational Algorithm\n",
    "\n",
    "In this tutorial we will go from knowing nothing about Cirq to creating a [quantum variational algorithm](https://arxiv.org/abs/1304.3061). Note that this is not a quantum computing 101 tutorial: we assume familiarity of quantum computing at about the level of the textbook [Quantum Computation and Quantum Information, by Nielsen and Chuang](https://www.amazon.com/Quantum-Computation-Information-10th-Anniversary/dp/1107002176).\n",
    "\n",
    "To begin, please follow the instructions for [installing Cirq](https://cirq.readthedocs.io/en/latest/install.html).\n",
    "\n",
    "## Background: Variational Quantum Algorithm\n",
    "\n",
    "The [variational method](https://en.wikipedia.org/wiki/Variational_method_(quantum_mechanics)) in quantum theory is a classical method for finding low energy states of a quantum system. The rough idea of this method is that one defines a trial wave function (sometimes called an *ansatz*) as a function of some parameters, and then one finds the values of these parameters that minimize the expectation value of the energy with respect to these parameters. This minimized ansatz is then an approximation to the lowest energy eigenstate, and the expectation value serves as an upper bound on the energy of the ground state.\n",
    "\n",
    "In the last few years (see [arXiv:1304.3061](https://arxiv.org/abs/1304.3061) and [arXiv:1507.08969](https://arxiv.org/abs/1507.08969), for example), it has been realized that quantum computers can mimic the classical technique and that a quantum computer does so with certain advantages. In particular, when one applies the classical variational method to a system of $n$ qubits, an exponential number (in $n$) of complex numbers is necessary to generically represent the wave function of the system. However, with a quantum computer, one can directly produce this state using a parameterized quantum circuit, and then by repeated measurements estimate the expectation value of the energy.\n",
    "\n",
    "This idea has led to a class of algorithms known as variational quantum algorithms. Indeed this approach is not just limited to finding low energy eigenstates, but minimizing any objective function that can be expressed as a quantum observable. It is an open question to identify under what conditions these quantum variational algorithms will succeed, and exploring this class of algorithms is a key part of the research for [noisy intermediate scale quantum computers](https://arxiv.org/abs/1801.00862).\n",
    "\n",
    "The classical problem we will focus on is the 2D +/- Ising model with transverse field ([ISING](http://iopscience.iop.org/article/10.1088/0305-4470/15/10/028/meta)). This problem is NP-complete. So it is highly unlikely that quantum computers will be able to efficiently solve it across all instances. Yet this type of problem is illustrative of the general class of problems that Cirq is designed to tackle.\n",
    "\n",
    "\n",
    "Consider the energy function\n",
    "\n",
    "$E(s_1,\\dots,s_n) = \\sum_{<i,j>} J_{i,j}s_i s_j + \\sum_i h_i s_i$\n",
    "\n",
    "where here each $s_i, J_{i,j}$, and $h_i$ are either +1 or -1. Here each index i is associated with a bit on a square lattice, and the $<i,j>$ notation means sums over neighboring bits on this lattice. The problem we would like to solve is, given $J_{i,j}$, and $h_i$, find an assignment of $s_i$ values that minimize $E$.\n",
    "\n",
    "How does a variational quantum algorithm work for this? One approach is to consider $n$ qubits and associate them with each of the bits in the classical problem. This maps the classical problem onto the quantum problem of minimizing the expectation value of the observable\n",
    "\n",
    "$H=\\sum_{<i,j>} J_{i,j} Z_i Z_j + \\sum_i h_iZ_i$\n",
    "\n",
    "Then one defines a set of parameterized quantum circuits, i.e., a quantum circuit where the gates (or more general quantum operations) are parameterized by some values. This produces an ansatz state\n",
    "\n",
    "$|\\psi(p_1, p_2, \\dots, p_k)\\rangle$\n",
    "\n",
    "where $p_i$ are the parameters that produce this state (here we assume a pure state, but mixed states are of course possible).\n",
    "\n",
    "The variational algorithm then works by noting that one can obtain the value of the objective function for a given ansatz state by\n",
    "\n",
    "1. Prepare the ansatz state.\n",
    "2. Make a measurement which samples from some terms in H.\n",
    "3. Goto 1.\n",
    "\n",
    "Note that one cannot always measure $H$ directly (without the use of quantum phase estimation). So one often relies on the linearity of expectation values to measure parts of $H$ in step 2. One always needs to repeat the measurements to obtain an estimate of the expectation value. How many measurements needed to achieve a given accuracy is beyond the scope of this tutorial, but Cirq can help investigate this question.\n",
    "\n",
    "The above shows that one can use a quantum computer to obtain estimates of the objective function for the ansatz. This can then be used in an outer loop to try to obtain parameters for the lowest value of the objective function. For these values, one can then use that best ansatz to produce samples of solutions to the problem, which obtain a hopefully good approximation for the lowest possible value of the objective function.\n"
   ]
  },
  {
   "cell_type": "markdown",
   "metadata": {},
   "source": [
    "## Create a circuit on a Grid\n",
    "\n",
    "To build the above variational quantum algorithm using Cirq, one begins by building the appropriate circuit. In Cirq, circuits are represented either by a `Circuit` object or a `Schedule` object. \n",
    "\n",
    "`Schedule` objects offer more control over quantum gates and circuits at the timing level, which we do not need, so here we will work with `Circuit` objects instead.\n",
    "\n",
    "**Conceptually**: a `Circuit` is a collection of `Moment` objects. A `Moment` is a collection of `Operation` objects that all act during the same abstract time slice. An `Operation` is an effect that operates on a specific subset of `Qubit` objects. The most common type of `Operation` is a `Gate` applied to several qubits (a `GateOperation`). The following diagram should help illustrate these concepts:"
   ]
  },
  {
   "cell_type": "markdown",
   "metadata": {},
   "source": [
    "![Circuits and Moments](https://cirq.readthedocs.io/en/stable/_images/CircuitMomentOperation.png)"
   ]
  },
  {
   "cell_type": "markdown",
   "metadata": {},
   "source": [
    "### Circuits and Moments\n",
    "\n",
    "Because the problem we have defined has a natural structure on a grid, we will use Cirq’s built-in `GridQubits` as our qubits. We will demonstrate some of how this works in an interactive Python environment, the following code can be run in series in a Python environment where you have Cirq installed.\n",
    "\n",
    "Let’s begin by talking about our qubits. In an interactive Python environment run:"
   ]
  },
  {
   "cell_type": "code",
   "execution_count": 2,
   "metadata": {},
   "outputs": [
    {
     "name": "stdout",
     "output_type": "stream",
     "text": [
      "[cirq.GridQubit(0, 0), cirq.GridQubit(0, 1), cirq.GridQubit(0, 2), cirq.GridQubit(1, 0), cirq.GridQubit(1, 1), cirq.GridQubit(1, 2), cirq.GridQubit(2, 0), cirq.GridQubit(2, 1), cirq.GridQubit(2, 2)]\n"
     ]
    }
   ],
   "source": [
    "import cirq\n",
    "\n",
    "# define the length of the grid.\n",
    "length = 3\n",
    "\n",
    "# define qubits on the grid.\n",
    "qubits = [cirq.GridQubit(i, j) for i in range(length) for j in range(length)]\n",
    "\n",
    "print(qubits)"
   ]
  },
  {
   "cell_type": "markdown",
   "metadata": {},
   "source": [
    "Here we see that we've created a bunch of `GridQubits`. `GridQubits` implement the `Qid` class, which just means that they are equatable and hashable. `Qid` has an abstract `_comparison_key` method that must be implemented by child types in order to ensure there's a reasonable sorting order for diagrams and that this matches what happens when `sorted(qubits)` is called. `GridQubits` in addition have a row and column, indicating their position on a grid.\n",
    "\n",
    "Now that we have some qubits, let us construct a `Circuit` on these qubits. For example, suppose we want to apply the Hadamard gate `H` to every qubit whose row index plus column index is even, and an `X` gate to every qubit whose row index plus column index is odd. To do this, we write:"
   ]
  },
  {
   "cell_type": "code",
   "execution_count": 3,
   "metadata": {},
   "outputs": [
    {
     "name": "stdout",
     "output_type": "stream",
     "text": [
      "(0, 0): ───H───\n",
      "\n",
      "(0, 1): ───X───\n",
      "\n",
      "(0, 2): ───H───\n",
      "\n",
      "(1, 0): ───X───\n",
      "\n",
      "(1, 1): ───H───\n",
      "\n",
      "(1, 2): ───X───\n",
      "\n",
      "(2, 0): ───H───\n",
      "\n",
      "(2, 1): ───X───\n",
      "\n",
      "(2, 2): ───H───\n"
     ]
    }
   ],
   "source": [
    "circuit = cirq.Circuit()\n",
    "circuit.append(cirq.H(q) for q in qubits if (q.row + q.col) % 2 == 0)\n",
    "circuit.append(cirq.X(q) for q in qubits if (q.row + q.col) % 2 == 1)\n",
    "\n",
    "print(circuit)"
   ]
  },
  {
   "cell_type": "markdown",
   "metadata": {},
   "source": [
    "The object `cirq.X` is a `Gate` object. There are many different gates supported by Cirq. A good place to look at gates that are defined is in [common_gates.py](https://github.com/quantumlib/Cirq/blob/master/cirq/ops/common_gates.py). \n",
    "\n",
    "One common confusion to avoid is the difference between a gate class and a gate object (which is an instantiation of a class). The second is that gate objects are transformed into `Operation` objects (technically `GateOperation` objects) via either the method `on(qubit)` or, as we see for the `X` gates, via simply applying the gate to the qubits (`qubit`). Here we only apply single qubit gates, but a similar pattern applies for multiple qubit gates with a sequence of qubits as parameters.\n",
    "\n",
    "Another thing to notice about the above circuit is that the gates from both append instructions appear on the same vertical line. Gates appearing on the same vertical line constitute a `Moment`.\n",
    "\n",
    "We can modify this by changing the `InsertStrategy` of the append method. `InsertStrategys` describe how new insertions into `Circuits` place their gates. Details of these strategies can be found in the circuit documentation. The default `InsertStrategy` used in the above circuit is `EARLIEST`, which resulted in the `X` gates sliding over to act at the earliest `Moment` they can. If we wanted to insert the gates so that they form individual `Moment` objects, we could instead use the `NEW_THEN_INLINE` insertion strategy:"
   ]
  },
  {
   "cell_type": "code",
   "execution_count": 4,
   "metadata": {},
   "outputs": [
    {
     "name": "stdout",
     "output_type": "stream",
     "text": [
      "(0, 0): ───H───────\n",
      "\n",
      "(0, 1): ───────X───\n",
      "\n",
      "(0, 2): ───H───────\n",
      "\n",
      "(1, 0): ───────X───\n",
      "\n",
      "(1, 1): ───H───────\n",
      "\n",
      "(1, 2): ───────X───\n",
      "\n",
      "(2, 0): ───H───────\n",
      "\n",
      "(2, 1): ───────X───\n",
      "\n",
      "(2, 2): ───H───────\n"
     ]
    }
   ],
   "source": [
    "circuit = cirq.Circuit()\n",
    "circuit.append([cirq.H(q) for q in qubits if (q.row + q.col) % 2 == 0],\n",
    "               strategy=cirq.InsertStrategy.EARLIEST)\n",
    "circuit.append([cirq.X(q) for q in qubits if (q.row + q.col) % 2 == 1],\n",
    "               strategy=cirq.InsertStrategy.NEW_THEN_INLINE)\n",
    "print(circuit)"
   ]
  },
  {
   "cell_type": "markdown",
   "metadata": {},
   "source": [
    "This circuit has now has staggered gates created by two `Moment` objects:"
   ]
  },
  {
   "cell_type": "code",
   "execution_count": 6,
   "metadata": {},
   "outputs": [
    {
     "name": "stdout",
     "output_type": "stream",
     "text": [
      "Moment 0: H((0, 0)) and H((0, 2)) and H((1, 1)) and H((2, 0)) and H((2, 2))\n",
      "Moment 1: X((0, 1)) and X((1, 0)) and X((1, 2)) and X((2, 1))\n"
     ]
    }
   ],
   "source": [
    "for i, m in enumerate(circuit):\n",
    "    print('Moment {}: {}'.format(i, m))"
   ]
  },
  {
   "cell_type": "markdown",
   "metadata": {},
   "source": [
    "Here we see that we can iterate over a `Circuit`'s `Moment`."
   ]
  },
  {
   "cell_type": "markdown",
   "metadata": {},
   "source": [
    "## Creating the Ansatz\n",
    "\n",
    "If you look closely at the circuit creation code above, you will see that we applied the append method to both a generator and a list (recall that in Python, one can use generator comprehensions in method calls).\n",
    "\n",
    "Inspecting the code for `append`, one sees that it generally takes an `OP_TREE` (or a `Moment`). What is an `OP_TREE`? It is not a class but a *contract*. Roughly, an `OP_TREE` is anything that can be flattened, perhaps recursively, into a list of operations, or into a single operation. \n",
    "\n",
    "Examples of an `OP_TREE` are:\n",
    "\n",
    "* A single `Operation`.\n",
    "* A list or tuple of `Operation` objects.\n",
    "* A list of a list of `Operation` objects.\n",
    "* A generator yielding `Operation` objects.\n",
    "\n",
    "This last case yields a nice pattern for defining sub-circuits / layers: define a function that takes in the relevant parameters and then yields the operations for the sub-circuit, and then this can be appended to the `Circuit`:"
   ]
  },
  {
   "cell_type": "code",
   "execution_count": 8,
   "metadata": {},
   "outputs": [
    {
     "name": "stdout",
     "output_type": "stream",
     "text": [
      "(0, 0): ───X^0.1───\n",
      "\n",
      "(0, 1): ───X^0.1───\n",
      "\n",
      "(1, 0): ───X^0.1───\n",
      "\n",
      "(1, 1): ───X^0.1───\n"
     ]
    }
   ],
   "source": [
    "def rot_x_layer(length, half_turns):\n",
    "    \"\"\"Yields X rotations by half_turns on a square grid of given length.\"\"\"\n",
    "    rot = cirq.XPowGate(exponent=half_turns)\n",
    "    for i in range(length):\n",
    "        for j in range(length):\n",
    "            yield rot(cirq.GridQubit(i, j))\n",
    "\n",
    "circuit = cirq.Circuit()\n",
    "circuit.append(rot_x_layer(2, 0.1))\n",
    "print(circuit)"
   ]
  },
  {
   "cell_type": "markdown",
   "metadata": {},
   "source": [
    "Another important concept here is that the rotation gate is specified in *half turns* ($ht$). For a rotation about `X`, the gate is:\n",
    "\n",
    "$ \\cos(ht * \\pi) I + i \\sin(ht * \\pi) X$\n",
    "\n",
    "There is a lot of freedom defining a variational ansatz. Here we will do a variation on a [QAOA strategy](https://arxiv.org/abs/1411.4028) and define an ansatz related to the problem we are trying to solve.\n",
    "\n",
    "First, we need to choose how the instances of the problem are represented. These are the values $J$ and $h$ in the Hamiltonian definition. We represent them as two-dimensional arrays (lists of lists). For $J$ we use two such lists, one for the row links and one for the column links.\n",
    "\n",
    "Here is a snippet that we can use to generate random problem instances:"
   ]
  },
  {
   "cell_type": "code",
   "execution_count": 9,
   "metadata": {},
   "outputs": [
    {
     "name": "stdout",
     "output_type": "stream",
     "text": [
      "transverse fields: [[1, -1, -1], [-1, 1, -1], [1, 1, -1]]\n",
      "row j fields: [[1, -1, 1], [-1, -1, 1]]\n",
      "column j fields: [[-1, 1], [1, -1], [1, -1]]\n"
     ]
    }
   ],
   "source": [
    "import random\n",
    "def rand2d(rows, cols):\n",
    "    return [[random.choice([+1, -1]) for _ in range(cols)] for _ in range(rows)]\n",
    "\n",
    "def random_instance(length):\n",
    "    # transverse field terms\n",
    "    h = rand2d(length, length)\n",
    "    # links within a row\n",
    "    jr = rand2d(length - 1, length)\n",
    "    # links within a column\n",
    "    jc = rand2d(length, length - 1)\n",
    "    return (h, jr, jc)\n",
    "\n",
    "h, jr, jc = random_instance(3)\n",
    "print('transverse fields: {}'.format(h))\n",
    "print('row j fields: {}'.format(jr))\n",
    "print('column j fields: {}'.format(jc))"
   ]
  },
  {
   "cell_type": "markdown",
   "metadata": {},
   "source": [
    "In the code above, the actual values will be different for each individual run because they are using `random.choice`.\n",
    "\n",
    "Given this definition of the problem instance, we can now introduce our ansatz. It will consist of one step of a circuit made up of:\n",
    "\n",
    "1. Apply an `XPowGate` for the same parameter for all qubits. This is the method we have written above.\n",
    "2. Apply a `ZPowGate` for the same parameter for all qubits where the transverse field term $h$ is $+1$."
   ]
  },
  {
   "cell_type": "code",
   "execution_count": 10,
   "metadata": {},
   "outputs": [],
   "source": [
    "def rot_z_layer(h, half_turns):\n",
    "    \"\"\"Yields Z rotations by half_turns conditioned on the field h.\"\"\"\n",
    "    gate = cirq.ZPowGate(exponent=half_turns)\n",
    "    for i, h_row in enumerate(h):\n",
    "        for j, h_ij in enumerate(h_row):\n",
    "            if h_ij == 1:\n",
    "                yield gate(cirq.GridQubit(i, j))"
   ]
  },
  {
   "cell_type": "markdown",
   "metadata": {},
   "source": [
    "3. Apply a `CZPowGate` for the same parameter between all qubits where the coupling field term $J$ is $+1$. If the field is $-1$, apply `CZPowGate` conjugated by $X$ gates on all qubits."
   ]
  },
  {
   "cell_type": "code",
   "execution_count": 11,
   "metadata": {},
   "outputs": [],
   "source": [
    "def rot_11_layer(jr, jc, half_turns):\n",
    "    \"\"\"Yields rotations about |11> conditioned on the jr and jc fields.\"\"\"\n",
    "    gate = cirq.CZPowGate(exponent=half_turns)    \n",
    "    for i, jr_row in enumerate(jr):\n",
    "        for j, jr_ij in enumerate(jr_row):\n",
    "            if jr_ij == -1:\n",
    "                yield cirq.X(cirq.GridQubit(i, j))\n",
    "                yield cirq.X(cirq.GridQubit(i + 1, j))\n",
    "            yield gate(cirq.GridQubit(i, j),\n",
    "                       cirq.GridQubit(i + 1, j))\n",
    "            if jr_ij == -1:\n",
    "                yield cirq.X(cirq.GridQubit(i, j))\n",
    "                yield cirq.X(cirq.GridQubit(i + 1, j))\n",
    "\n",
    "    for i, jc_row in enumerate(jc):\n",
    "        for j, jc_ij in enumerate(jc_row):\n",
    "            if jc_ij == -1:\n",
    "                yield cirq.X(cirq.GridQubit(i, j))\n",
    "                yield cirq.X(cirq.GridQubit(i, j + 1))\n",
    "            yield gate(cirq.GridQubit(i, j),\n",
    "                       cirq.GridQubit(i, j + 1))\n",
    "            if jc_ij == -1:\n",
    "                yield cirq.X(cirq.GridQubit(i, j))\n",
    "                yield cirq.X(cirq.GridQubit(i, j + 1))"
   ]
  },
  {
   "cell_type": "markdown",
   "metadata": {},
   "source": [
    "Putting all together, we can create a step that uses just three parameters. Below is the code, which uses the generator for each of the layers (note to advanced Python users: this code does not contain a bug in using `yield` due to the auto flattening of the `OP_TREE concept`. Typically, one would want to use `yield` from here, but this is not necessary):"
   ]
  },
  {
   "cell_type": "code",
   "execution_count": 12,
   "metadata": {},
   "outputs": [
    {
     "name": "stdout",
     "output_type": "stream",
     "text": [
      "                           ┌──────────┐   ┌──────────┐                   ┌──────┐\n",
      "(0, 0): ───X^0.1────────────@────────────────────────────────────@──────────────────────────────────────────────────────────────────\n",
      "                            │                                    │\n",
      "(0, 1): ───X^0.1───Z^0.2────┼────X─────────@─────────────X───────@^0.3────X─────────@───────X───────────────────────────────────────\n",
      "                            │              │                                        │\n",
      "(0, 2): ───X^0.1────────────┼────@─────────┼────X───────────────────────────────────@^0.3───X───────────────────────────────────────\n",
      "                            │    │         │\n",
      "(1, 0): ───X^0.1───Z^0.2────@^0.3┼─────────┼────@────────X──────────────────────────────────────────@───────X───────────────────────\n",
      "                                 │         │    │                                                   │\n",
      "(1, 1): ───X^0.1───X─────────────┼─────────@^0.3┼────────X───────X────────@─────────X───────X───────@^0.3───X───────X───@───────X───\n",
      "                                 │              │                         │                                             │\n",
      "(1, 2): ───X^0.1───Z^0.2─────────@^0.3─────X────┼────────@───────X────────┼────X────────────────────────────────────────@^0.3───X───\n",
      "                                                │        │                │\n",
      "(2, 0): ───X^0.1───Z^0.2────────────────────────@^0.3────┼────────────────┼─────────────────@───────────────────────────────────────\n",
      "                                                         │                │                 │\n",
      "(2, 1): ───X^0.1───X─────────────────────────────────────┼────────────────@^0.3─────X───────@^0.3───X───────@───────X───────────────\n",
      "                                                         │                                                  │\n",
      "(2, 2): ───X^0.1───X─────────────────────────────────────@^0.3───X────────X─────────────────────────────────@^0.3───X───────────────\n",
      "                           └──────────┘   └──────────┘                   └──────┘\n"
     ]
    }
   ],
   "source": [
    "def one_step(h, jr, jc, x_half_turns, h_half_turns, j_half_turns):\n",
    "    length = len(h)\n",
    "    yield rot_x_layer(length, x_half_turns)\n",
    "    yield rot_z_layer(h, h_half_turns)\n",
    "    yield rot_11_layer(jr, jc, j_half_turns)\n",
    "\n",
    "h, jr, jc = random_instance(3)\n",
    "\n",
    "circuit = cirq.Circuit()    \n",
    "circuit.append(one_step(h, jr, jc, 0.1, 0.2, 0.3),\n",
    "               strategy=cirq.InsertStrategy.EARLIEST)\n",
    "print(circuit)"
   ]
  },
  {
   "cell_type": "markdown",
   "metadata": {},
   "source": [
    "Here we see that we have chosen particular parameter values $(0.1, 0.2, 0.3)$."
   ]
  },
  {
   "cell_type": "markdown",
   "metadata": {},
   "source": [
    "## Simulation\n",
    "\n",
    "In Cirq, the simulators make a distinction between a *run* and a *simulation*. A *run* only allows for a simulation that mimics the actual quantum hardware. For example, it does not allow for access to the amplitudes of the wave function of the system, since that is not experimentally accessible. *Simulate* commands, however, are broader and allow different forms of simulation. When prototyping small circuits, it is useful to execute *simulate* methods, but one should be wary of relying on them when running against actual hardware.\n",
    "\n",
    "Currently, Cirq ships with a simulator tied strongly to the gate set of the **Google xmon architecture**. However, for convenience, the simulator attempts to automatically convert unknown operations into `XmonGates` (as long as the operation specifies a matrix or a decomposition into `XmonGates`). This, in principle, allows us to simulate any circuit that has gates that implement one and two qubit `KnownMatrix` gates. Future releases of Cirq will expand these simulators.\n",
    "\n",
    "Because the simulator is tied to the **xmon gate set**, the simulator lives, in contrast to core Cirq, in the `cirq.google` module. To run a simulation of the full circuit, we create a simulator, and pass the circuit to the simulator."
   ]
  },
  {
   "cell_type": "code",
   "execution_count": 13,
   "metadata": {},
   "outputs": [
    {
     "name": "stdout",
     "output_type": "stream",
     "text": [
      "Counter({0: 77, 1: 5, 32: 4, 2: 4, 16: 2, 128: 2, 96: 1, 72: 1, 8: 1, 64: 1, 256: 1, 4: 1})\n"
     ]
    }
   ],
   "source": [
    "simulator = cirq.Simulator()\n",
    "circuit = cirq.Circuit()    \n",
    "circuit.append(one_step(h, jr, jc, 0.1, 0.2, 0.3))\n",
    "circuit.append(cirq.measure(*qubits, key='x'))\n",
    "results = simulator.run(circuit, repetitions=100)\n",
    "print(results.histogram(key='x'))"
   ]
  },
  {
   "cell_type": "markdown",
   "metadata": {},
   "source": [
    "Note that we have run the simulation 100 times and produced a histogram of the counts of the measurement results. What are the keys in the histogram counter? Note that we have passed in the order of the qubits. This ordering is then used to translate the order of the measurement results to a register using a [big endian representation](https://en.wikipedia.org/wiki/Endianness).\n",
    "\n",
    "For our optimization problem, we want to calculate the value of the objective function for a given result run. One way to do this is using the raw measurement data from the result of `simulator.run`. Another way to do this is to provide to the histogram a method to calculate the objective: this will then be used as the key for the returned `Counter`."
   ]
  },
  {
   "cell_type": "code",
   "execution_count": 14,
   "metadata": {},
   "outputs": [
    {
     "name": "stdout",
     "output_type": "stream",
     "text": [
      "Counter({-3: 80, 3: 6, -7: 4, 1: 4, -5: 2, 7: 2, -1: 1, -9: 1})\n"
     ]
    }
   ],
   "source": [
    "import numpy as np\n",
    "\n",
    "def energy_func(length, h, jr, jc):\n",
    "    def energy(measurements):\n",
    "        # Reshape measurement into array that matches grid shape.\n",
    "        meas_list_of_lists = [measurements[i * length:(i + 1) * length]\n",
    "                              for i in range(length)]\n",
    "        # Convert true/false to +1/-1.\n",
    "        pm_meas = 1 - 2 * np.array(meas_list_of_lists).astype(np.int32)\n",
    "\n",
    "        tot_energy = np.sum(pm_meas * h)\n",
    "        for i, jr_row in enumerate(jr):\n",
    "            for j, jr_ij in enumerate(jr_row):\n",
    "                tot_energy += jr_ij * pm_meas[i, j] * pm_meas[i + 1, j]\n",
    "        for i, jc_row in enumerate(jc):\n",
    "            for j, jc_ij in enumerate(jc_row):\n",
    "                tot_energy += jc_ij * pm_meas[i, j] * pm_meas[i, j + 1]\n",
    "        return tot_energy\n",
    "    return energy\n",
    "print(results.histogram(key='x', fold_func=energy_func(3, h, jr, jc)))"
   ]
  },
  {
   "cell_type": "markdown",
   "metadata": {},
   "source": [
    "One can then calculate the expectation value over all repetitions:"
   ]
  },
  {
   "cell_type": "code",
   "execution_count": 18,
   "metadata": {},
   "outputs": [
    {
     "name": "stdout",
     "output_type": "stream",
     "text": [
      "Value of the objective function -2.52\n"
     ]
    }
   ],
   "source": [
    "def obj_func(result):\n",
    "    energy_hist = result.histogram(key='x', fold_func=energy_func(3, h, jr, jc))\n",
    "    return np.sum([k * v for k,v in energy_hist.items()]) / result.repetitions\n",
    "print('Value of the objective function {}'.format(obj_func(results)))"
   ]
  },
  {
   "cell_type": "markdown",
   "metadata": {},
   "source": [
    "### Parameterizing the Ansatz"
   ]
  },
  {
   "cell_type": "markdown",
   "metadata": {},
   "source": [
    "Now that we have constructed a variational ansatz and shown how to simulate it using Cirq, we can think about optimizing the value. \n",
    "\n",
    "On quantum hardware, one would most likely want to have the optimization code as close to the hardware as possible. As the classical hardware that is allowed to inter-operate with the quantum hardware becomes better specified, this language will be better defined. Without this specification, however, Cirq also provides a useful concept for optimizing the looping in many optimization algorithms. This is the fact that many of the value in the gate sets can, instead of being specified by a float, be specified by a `Symbol`, and this `Symbol` can be substituted for a value specified at execution time.\n",
    "\n",
    "Luckily for us, we have written our code so that using parameterized values is as simple as passing `Symbol` objects where we previously passed float values."
   ]
  },
  {
   "cell_type": "code",
   "execution_count": 19,
   "metadata": {},
   "outputs": [
    {
     "name": "stdout",
     "output_type": "stream",
     "text": [
      "                              ┌──────────────┐   ┌──────────────┐                       ┌────────┐\n",
      "(0, 0): ───X^alpha─────────────@──────────────────────────────────────────────@────────────────────────────────────────────────────────────────────────────────M('x')───\n",
      "                               │                                              │                                                                                │\n",
      "(0, 1): ───X^alpha───Z^beta────┼──────X───────────@─────────────────X─────────@^gamma────X───────────@─────────X───────────────────────────────────────────────M────────\n",
      "                               │                  │                                                  │                                                         │\n",
      "(0, 2): ───X^alpha─────────────┼──────@───────────┼──────X───────────────────────────────────────────@^gamma───X───────────────────────────────────────────────M────────\n",
      "                               │      │           │                                                                                                            │\n",
      "(1, 0): ───X^alpha───Z^beta────@^gamma┼───────────┼──────@──────────X────────────────────────────────────────────────────@─────────X───────────────────────────M────────\n",
      "                                      │           │      │                                                               │                                     │\n",
      "(1, 1): ───X^alpha───X────────────────┼───────────@^gamma┼──────────X─────────X──────────@───────────X─────────X─────────@^gamma───X─────────X───@─────────X───M────────\n",
      "                                      │                  │                               │                                                       │             │\n",
      "(1, 2): ───X^alpha───Z^beta───────────@^gamma─────X──────┼──────────@─────────X──────────┼──────X────────────────────────────────────────────────@^gamma───X───M────────\n",
      "                                                         │          │                    │                                                                     │\n",
      "(2, 0): ───X^alpha───Z^beta──────────────────────────────@^gamma────┼────────────────────┼─────────────────────@───────────────────────────────────────────────M────────\n",
      "                                                                    │                    │                     │                                               │\n",
      "(2, 1): ───X^alpha───X──────────────────────────────────────────────┼────────────────────@^gamma─────X─────────@^gamma───X─────────@─────────X─────────────────M────────\n",
      "                                                                    │                                                              │                           │\n",
      "(2, 2): ───X^alpha───X──────────────────────────────────────────────@^gamma───X──────────X─────────────────────────────────────────@^gamma───X─────────────────M────────\n",
      "                              └──────────────┘   └──────────────┘                       └────────┘\n"
     ]
    }
   ],
   "source": [
    "import sympy\n",
    "circuit = cirq.Circuit()\n",
    "alpha = sympy.Symbol('alpha')\n",
    "beta = sympy.Symbol('beta')\n",
    "gamma = sympy.Symbol('gamma')\n",
    "circuit.append(one_step(h, jr, jc, alpha, beta, gamma))\n",
    "circuit.append(cirq.measure(*qubits, key='x'))\n",
    "print(circuit)"
   ]
  },
  {
   "cell_type": "markdown",
   "metadata": {},
   "source": [
    "Note now that the circuit's gates are parameterized.\n",
    "\n",
    "Parameters are specified at runtime using a `ParamResolver`, which is just a dictionary from `Symbol` keys to runtime values. \n",
    "\n",
    "For instance:"
   ]
  },
  {
   "cell_type": "code",
   "execution_count": 20,
   "metadata": {},
   "outputs": [],
   "source": [
    "resolver = cirq.ParamResolver({'alpha': 0.1, 'beta': 0.3, 'gamma': 0.7})\n",
    "resolved_circuit = cirq.resolve_parameters(circuit, resolver)"
   ]
  },
  {
   "cell_type": "markdown",
   "metadata": {},
   "source": [
    "resolves the parameters to actual values in the circuit.\n",
    "\n",
    "Cirq also has the concept of a *sweep*. A sweep is a collection of parameter resolvers. This runtime information is very useful when one wants to run many circuits for many different parameter values. Sweeps can be created to specify values directly (this is one way to get classical information into a circuit), or a variety of helper methods. For example suppose we want to evaluate our circuit over an equally spaced grid of parameter values. We can easily create this using `LinSpace`."
   ]
  },
  {
   "cell_type": "code",
   "execution_count": 22,
   "metadata": {},
   "outputs": [
    {
     "name": "stdout",
     "output_type": "stream",
     "text": [
      "OrderedDict([('alpha', 0.1), ('beta', 0.1), ('gamma', 0.1)]) -2.16\n",
      "OrderedDict([('alpha', 0.1), ('beta', 0.1), ('gamma', 0.30000000000000004)]) -2.66\n",
      "OrderedDict([('alpha', 0.1), ('beta', 0.1), ('gamma', 0.5)]) -2.9\n",
      "OrderedDict([('alpha', 0.1), ('beta', 0.1), ('gamma', 0.7000000000000001)]) -2.98\n",
      "OrderedDict([('alpha', 0.1), ('beta', 0.1), ('gamma', 0.9)]) -2.78\n",
      "OrderedDict([('alpha', 0.1), ('beta', 0.30000000000000004), ('gamma', 0.1)]) -2.78\n",
      "OrderedDict([('alpha', 0.1), ('beta', 0.30000000000000004), ('gamma', 0.30000000000000004)]) -2.98\n",
      "OrderedDict([('alpha', 0.1), ('beta', 0.30000000000000004), ('gamma', 0.5)]) -2.82\n",
      "OrderedDict([('alpha', 0.1), ('beta', 0.30000000000000004), ('gamma', 0.7000000000000001)]) -2.84\n",
      "OrderedDict([('alpha', 0.1), ('beta', 0.30000000000000004), ('gamma', 0.9)]) -2.78\n",
      "OrderedDict([('alpha', 0.1), ('beta', 0.5), ('gamma', 0.1)]) -2.68\n",
      "OrderedDict([('alpha', 0.1), ('beta', 0.5), ('gamma', 0.30000000000000004)]) -3.0\n",
      "OrderedDict([('alpha', 0.1), ('beta', 0.5), ('gamma', 0.5)]) -2.72\n",
      "OrderedDict([('alpha', 0.1), ('beta', 0.5), ('gamma', 0.7000000000000001)]) -2.62\n",
      "OrderedDict([('alpha', 0.1), ('beta', 0.5), ('gamma', 0.9)]) -2.66\n",
      "OrderedDict([('alpha', 0.1), ('beta', 0.7000000000000001), ('gamma', 0.1)]) -2.44\n",
      "OrderedDict([('alpha', 0.1), ('beta', 0.7000000000000001), ('gamma', 0.30000000000000004)]) -2.86\n",
      "OrderedDict([('alpha', 0.1), ('beta', 0.7000000000000001), ('gamma', 0.5)]) -2.7\n",
      "OrderedDict([('alpha', 0.1), ('beta', 0.7000000000000001), ('gamma', 0.7000000000000001)]) -2.72\n",
      "OrderedDict([('alpha', 0.1), ('beta', 0.7000000000000001), ('gamma', 0.9)]) -2.96\n",
      "OrderedDict([('alpha', 0.1), ('beta', 0.9), ('gamma', 0.1)]) -2.8\n",
      "OrderedDict([('alpha', 0.1), ('beta', 0.9), ('gamma', 0.30000000000000004)]) -2.84\n",
      "OrderedDict([('alpha', 0.1), ('beta', 0.9), ('gamma', 0.5)]) -2.76\n",
      "OrderedDict([('alpha', 0.1), ('beta', 0.9), ('gamma', 0.7000000000000001)]) -2.78\n",
      "OrderedDict([('alpha', 0.1), ('beta', 0.9), ('gamma', 0.9)]) -2.88\n",
      "OrderedDict([('alpha', 0.30000000000000004), ('beta', 0.1), ('gamma', 0.1)]) -1.42\n",
      "OrderedDict([('alpha', 0.30000000000000004), ('beta', 0.1), ('gamma', 0.30000000000000004)]) -1.36\n",
      "OrderedDict([('alpha', 0.30000000000000004), ('beta', 0.1), ('gamma', 0.5)]) -0.8\n",
      "OrderedDict([('alpha', 0.30000000000000004), ('beta', 0.1), ('gamma', 0.7000000000000001)]) -1.08\n",
      "OrderedDict([('alpha', 0.30000000000000004), ('beta', 0.1), ('gamma', 0.9)]) -1.44\n",
      "OrderedDict([('alpha', 0.30000000000000004), ('beta', 0.30000000000000004), ('gamma', 0.1)]) -0.76\n",
      "OrderedDict([('alpha', 0.30000000000000004), ('beta', 0.30000000000000004), ('gamma', 0.30000000000000004)]) -1.2\n",
      "OrderedDict([('alpha', 0.30000000000000004), ('beta', 0.30000000000000004), ('gamma', 0.5)]) -2.02\n",
      "OrderedDict([('alpha', 0.30000000000000004), ('beta', 0.30000000000000004), ('gamma', 0.7000000000000001)]) -0.9\n",
      "OrderedDict([('alpha', 0.30000000000000004), ('beta', 0.30000000000000004), ('gamma', 0.9)]) -1.92\n",
      "OrderedDict([('alpha', 0.30000000000000004), ('beta', 0.5), ('gamma', 0.1)]) -1.78\n",
      "OrderedDict([('alpha', 0.30000000000000004), ('beta', 0.5), ('gamma', 0.30000000000000004)]) -1.52\n",
      "OrderedDict([('alpha', 0.30000000000000004), ('beta', 0.5), ('gamma', 0.5)]) -1.2\n",
      "OrderedDict([('alpha', 0.30000000000000004), ('beta', 0.5), ('gamma', 0.7000000000000001)]) -1.86\n",
      "OrderedDict([('alpha', 0.30000000000000004), ('beta', 0.5), ('gamma', 0.9)]) -0.64\n",
      "OrderedDict([('alpha', 0.30000000000000004), ('beta', 0.7000000000000001), ('gamma', 0.1)]) -0.96\n",
      "OrderedDict([('alpha', 0.30000000000000004), ('beta', 0.7000000000000001), ('gamma', 0.30000000000000004)]) -1.52\n",
      "OrderedDict([('alpha', 0.30000000000000004), ('beta', 0.7000000000000001), ('gamma', 0.5)]) -1.36\n",
      "OrderedDict([('alpha', 0.30000000000000004), ('beta', 0.7000000000000001), ('gamma', 0.7000000000000001)]) -1.3\n",
      "OrderedDict([('alpha', 0.30000000000000004), ('beta', 0.7000000000000001), ('gamma', 0.9)]) -1.48\n",
      "OrderedDict([('alpha', 0.30000000000000004), ('beta', 0.9), ('gamma', 0.1)]) -0.7\n",
      "OrderedDict([('alpha', 0.30000000000000004), ('beta', 0.9), ('gamma', 0.30000000000000004)]) -0.5\n",
      "OrderedDict([('alpha', 0.30000000000000004), ('beta', 0.9), ('gamma', 0.5)]) -1.78\n",
      "OrderedDict([('alpha', 0.30000000000000004), ('beta', 0.9), ('gamma', 0.7000000000000001)]) -0.62\n",
      "OrderedDict([('alpha', 0.30000000000000004), ('beta', 0.9), ('gamma', 0.9)]) -0.46\n",
      "OrderedDict([('alpha', 0.5), ('beta', 0.1), ('gamma', 0.1)]) 0.7\n",
      "OrderedDict([('alpha', 0.5), ('beta', 0.1), ('gamma', 0.30000000000000004)]) 0.22\n",
      "OrderedDict([('alpha', 0.5), ('beta', 0.1), ('gamma', 0.5)]) 0.16\n",
      "OrderedDict([('alpha', 0.5), ('beta', 0.1), ('gamma', 0.7000000000000001)]) 0.18\n",
      "OrderedDict([('alpha', 0.5), ('beta', 0.1), ('gamma', 0.9)]) -0.04\n",
      "OrderedDict([('alpha', 0.5), ('beta', 0.30000000000000004), ('gamma', 0.1)]) 0.46\n",
      "OrderedDict([('alpha', 0.5), ('beta', 0.30000000000000004), ('gamma', 0.30000000000000004)]) -0.3\n",
      "OrderedDict([('alpha', 0.5), ('beta', 0.30000000000000004), ('gamma', 0.5)]) -0.22\n",
      "OrderedDict([('alpha', 0.5), ('beta', 0.30000000000000004), ('gamma', 0.7000000000000001)]) -0.08\n",
      "OrderedDict([('alpha', 0.5), ('beta', 0.30000000000000004), ('gamma', 0.9)]) -0.46\n",
      "OrderedDict([('alpha', 0.5), ('beta', 0.5), ('gamma', 0.1)]) -0.18\n",
      "OrderedDict([('alpha', 0.5), ('beta', 0.5), ('gamma', 0.30000000000000004)]) -0.1\n",
      "OrderedDict([('alpha', 0.5), ('beta', 0.5), ('gamma', 0.5)]) 0.3\n",
      "OrderedDict([('alpha', 0.5), ('beta', 0.5), ('gamma', 0.7000000000000001)]) 0.18\n",
      "OrderedDict([('alpha', 0.5), ('beta', 0.5), ('gamma', 0.9)]) 0.34\n",
      "OrderedDict([('alpha', 0.5), ('beta', 0.7000000000000001), ('gamma', 0.1)]) 0.74\n",
      "OrderedDict([('alpha', 0.5), ('beta', 0.7000000000000001), ('gamma', 0.30000000000000004)]) 0.88\n",
      "OrderedDict([('alpha', 0.5), ('beta', 0.7000000000000001), ('gamma', 0.5)]) 0.38\n",
      "OrderedDict([('alpha', 0.5), ('beta', 0.7000000000000001), ('gamma', 0.7000000000000001)]) 0.68\n",
      "OrderedDict([('alpha', 0.5), ('beta', 0.7000000000000001), ('gamma', 0.9)]) -0.16\n",
      "OrderedDict([('alpha', 0.5), ('beta', 0.9), ('gamma', 0.1)]) -0.16\n",
      "OrderedDict([('alpha', 0.5), ('beta', 0.9), ('gamma', 0.30000000000000004)]) -0.06\n",
      "OrderedDict([('alpha', 0.5), ('beta', 0.9), ('gamma', 0.5)]) -0.3\n",
      "OrderedDict([('alpha', 0.5), ('beta', 0.9), ('gamma', 0.7000000000000001)]) -0.52\n",
      "OrderedDict([('alpha', 0.5), ('beta', 0.9), ('gamma', 0.9)]) 0.16\n",
      "OrderedDict([('alpha', 0.7000000000000001), ('beta', 0.1), ('gamma', 0.1)]) -0.18\n",
      "OrderedDict([('alpha', 0.7000000000000001), ('beta', 0.1), ('gamma', 0.30000000000000004)]) -0.54\n",
      "OrderedDict([('alpha', 0.7000000000000001), ('beta', 0.1), ('gamma', 0.5)]) -0.68\n",
      "OrderedDict([('alpha', 0.7000000000000001), ('beta', 0.1), ('gamma', 0.7000000000000001)]) 0.68\n",
      "OrderedDict([('alpha', 0.7000000000000001), ('beta', 0.1), ('gamma', 0.9)]) 0.3\n",
      "OrderedDict([('alpha', 0.7000000000000001), ('beta', 0.30000000000000004), ('gamma', 0.1)]) 0.24\n",
      "OrderedDict([('alpha', 0.7000000000000001), ('beta', 0.30000000000000004), ('gamma', 0.30000000000000004)]) -0.34\n",
      "OrderedDict([('alpha', 0.7000000000000001), ('beta', 0.30000000000000004), ('gamma', 0.5)]) 0.1\n",
      "OrderedDict([('alpha', 0.7000000000000001), ('beta', 0.30000000000000004), ('gamma', 0.7000000000000001)]) 0.18\n",
      "OrderedDict([('alpha', 0.7000000000000001), ('beta', 0.30000000000000004), ('gamma', 0.9)]) 0.06\n",
      "OrderedDict([('alpha', 0.7000000000000001), ('beta', 0.5), ('gamma', 0.1)]) -0.2\n",
      "OrderedDict([('alpha', 0.7000000000000001), ('beta', 0.5), ('gamma', 0.30000000000000004)]) -0.38\n",
      "OrderedDict([('alpha', 0.7000000000000001), ('beta', 0.5), ('gamma', 0.5)]) -0.28\n",
      "OrderedDict([('alpha', 0.7000000000000001), ('beta', 0.5), ('gamma', 0.7000000000000001)]) 0.34\n",
      "OrderedDict([('alpha', 0.7000000000000001), ('beta', 0.5), ('gamma', 0.9)]) -0.28\n",
      "OrderedDict([('alpha', 0.7000000000000001), ('beta', 0.7000000000000001), ('gamma', 0.1)]) -0.38\n",
      "OrderedDict([('alpha', 0.7000000000000001), ('beta', 0.7000000000000001), ('gamma', 0.30000000000000004)]) 0.72\n",
      "OrderedDict([('alpha', 0.7000000000000001), ('beta', 0.7000000000000001), ('gamma', 0.5)]) 0.06\n",
      "OrderedDict([('alpha', 0.7000000000000001), ('beta', 0.7000000000000001), ('gamma', 0.7000000000000001)]) 0.38\n",
      "OrderedDict([('alpha', 0.7000000000000001), ('beta', 0.7000000000000001), ('gamma', 0.9)]) 0.44\n",
      "OrderedDict([('alpha', 0.7000000000000001), ('beta', 0.9), ('gamma', 0.1)]) -0.24\n",
      "OrderedDict([('alpha', 0.7000000000000001), ('beta', 0.9), ('gamma', 0.30000000000000004)]) -0.22\n",
      "OrderedDict([('alpha', 0.7000000000000001), ('beta', 0.9), ('gamma', 0.5)]) -0.34\n",
      "OrderedDict([('alpha', 0.7000000000000001), ('beta', 0.9), ('gamma', 0.7000000000000001)]) -0.02\n",
      "OrderedDict([('alpha', 0.7000000000000001), ('beta', 0.9), ('gamma', 0.9)]) -0.02\n",
      "OrderedDict([('alpha', 0.9), ('beta', 0.1), ('gamma', 0.1)]) -0.58\n",
      "OrderedDict([('alpha', 0.9), ('beta', 0.1), ('gamma', 0.30000000000000004)]) -0.78\n",
      "OrderedDict([('alpha', 0.9), ('beta', 0.1), ('gamma', 0.5)]) -0.82\n",
      "OrderedDict([('alpha', 0.9), ('beta', 0.1), ('gamma', 0.7000000000000001)]) -0.72\n",
      "OrderedDict([('alpha', 0.9), ('beta', 0.1), ('gamma', 0.9)]) -0.64\n",
      "OrderedDict([('alpha', 0.9), ('beta', 0.30000000000000004), ('gamma', 0.1)]) -0.98\n",
      "OrderedDict([('alpha', 0.9), ('beta', 0.30000000000000004), ('gamma', 0.30000000000000004)]) -1.2\n",
      "OrderedDict([('alpha', 0.9), ('beta', 0.30000000000000004), ('gamma', 0.5)]) -0.74\n",
      "OrderedDict([('alpha', 0.9), ('beta', 0.30000000000000004), ('gamma', 0.7000000000000001)]) -1.0\n",
      "OrderedDict([('alpha', 0.9), ('beta', 0.30000000000000004), ('gamma', 0.9)]) -0.8\n",
      "OrderedDict([('alpha', 0.9), ('beta', 0.5), ('gamma', 0.1)]) -0.76\n",
      "OrderedDict([('alpha', 0.9), ('beta', 0.5), ('gamma', 0.30000000000000004)]) -0.92\n",
      "OrderedDict([('alpha', 0.9), ('beta', 0.5), ('gamma', 0.5)]) -0.6\n",
      "OrderedDict([('alpha', 0.9), ('beta', 0.5), ('gamma', 0.7000000000000001)]) -1.04\n"
     ]
    },
    {
     "name": "stdout",
     "output_type": "stream",
     "text": [
      "OrderedDict([('alpha', 0.9), ('beta', 0.5), ('gamma', 0.9)]) -0.9\n",
      "OrderedDict([('alpha', 0.9), ('beta', 0.7000000000000001), ('gamma', 0.1)]) -1.02\n",
      "OrderedDict([('alpha', 0.9), ('beta', 0.7000000000000001), ('gamma', 0.30000000000000004)]) -0.98\n",
      "OrderedDict([('alpha', 0.9), ('beta', 0.7000000000000001), ('gamma', 0.5)]) -0.94\n",
      "OrderedDict([('alpha', 0.9), ('beta', 0.7000000000000001), ('gamma', 0.7000000000000001)]) -0.52\n",
      "OrderedDict([('alpha', 0.9), ('beta', 0.7000000000000001), ('gamma', 0.9)]) -0.86\n",
      "OrderedDict([('alpha', 0.9), ('beta', 0.9), ('gamma', 0.1)]) -1.02\n",
      "OrderedDict([('alpha', 0.9), ('beta', 0.9), ('gamma', 0.30000000000000004)]) -0.42\n",
      "OrderedDict([('alpha', 0.9), ('beta', 0.9), ('gamma', 0.5)]) -0.66\n",
      "OrderedDict([('alpha', 0.9), ('beta', 0.9), ('gamma', 0.7000000000000001)]) -0.92\n",
      "OrderedDict([('alpha', 0.9), ('beta', 0.9), ('gamma', 0.9)]) -0.8\n"
     ]
    }
   ],
   "source": [
    "sweep = (cirq.Linspace(key='alpha', start=0.1, stop=0.9, length=5)\n",
    "         * cirq.Linspace(key='beta', start=0.1, stop=0.9, length=5)\n",
    "         * cirq.Linspace(key='gamma', start=0.1, stop=0.9, length=5))\n",
    "results = simulator.run_sweep(circuit, params=sweep, repetitions=100)\n",
    "for result in results:\n",
    "    print(result.params.param_dict, obj_func(result))"
   ]
  },
  {
   "cell_type": "markdown",
   "metadata": {},
   "source": [
    "### Finding the Minimum\n",
    "\n",
    "Now we have all the code, we do a simple grid search over values to find a minimal value. Grid search is not the best optimization algorithm, but is here simply illustrative."
   ]
  },
  {
   "cell_type": "code",
   "execution_count": 23,
   "metadata": {},
   "outputs": [
    {
     "name": "stdout",
     "output_type": "stream",
     "text": [
      "Minimum objective value is -3.22.\n"
     ]
    }
   ],
   "source": [
    "sweep_size = 10\n",
    "sweep = (cirq.Linspace(key='alpha', start=0.0, stop=1.0, length=10)\n",
    "         * cirq.Linspace(key='beta', start=0.0, stop=1.0, length=10)\n",
    "         * cirq.Linspace(key='gamma', start=0.0, stop=1.0, length=10))\n",
    "results = simulator.run_sweep(circuit, params=sweep, repetitions=100)\n",
    "\n",
    "min = None\n",
    "min_params = None\n",
    "for result in results:\n",
    "    value = obj_func(result)\n",
    "    if min is None or value < min:\n",
    "        min = value\n",
    "        min_params = result.params\n",
    "print('Minimum objective value is {}.'.format(min))"
   ]
  },
  {
   "cell_type": "markdown",
   "metadata": {},
   "source": [
    "We've created a simple variational quantum algorithm using Cirq. Where to go next? Perhaps you can play around with the above code and work on analyzing the algorithms performance. Add new parameterized circuits and build an end to end program for analyzing these circuits."
   ]
  }
 ],
 "metadata": {
  "file_extension": ".py",
  "kernelspec": {
   "display_name": "Python 3",
   "language": "python",
   "name": "python3"
  },
  "language_info": {
   "codemirror_mode": {
    "name": "ipython",
    "version": 3
   },
   "file_extension": ".py",
   "mimetype": "text/x-python",
   "name": "python",
   "nbconvert_exporter": "python",
   "pygments_lexer": "ipython3",
   "version": "3.7.4"
  },
  "mimetype": "text/x-python",
  "name": "python",
  "npconvert_exporter": "python",
  "pygments_lexer": "ipython3",
  "version": 3
 },
 "nbformat": 4,
 "nbformat_minor": 2
}
