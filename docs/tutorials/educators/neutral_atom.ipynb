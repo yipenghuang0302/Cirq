{
 "cells": [
  {
   "cell_type": "markdown",
   "metadata": {
    "id": "cedf868076a2"
   },
   "source": [
    "##### Copyright 2020 The Cirq Developers"
   ]
  },
  {
   "cell_type": "code",
   "execution_count": 1,
   "metadata": {
    "cellView": "form",
    "id": "906e07f6e562"
   },
   "outputs": [],
   "source": [
    "#@title Licensed under the Apache License, Version 2.0 (the \"License\");\n",
    "# you may not use this file except in compliance with the License.\n",
    "# You may obtain a copy of the License at\n",
    "#\n",
    "# https://www.apache.org/licenses/LICENSE-2.0\n",
    "#\n",
    "# Unless required by applicable law or agreed to in writing, software\n",
    "# distributed under the License is distributed on an \"AS IS\" BASIS,\n",
    "# WITHOUT WARRANTIES OR CONDITIONS OF ANY KIND, either express or implied.\n",
    "# See the License for the specific language governing permissions and\n",
    "# limitations under the License."
   ]
  },
  {
   "cell_type": "markdown",
   "metadata": {
    "id": "166af89a7bc3"
   },
   "source": [
    "# Neutral Atom Device Class"
   ]
  },
  {
   "cell_type": "markdown",
   "metadata": {
    "id": "416c50754585"
   },
   "source": [
    "<table class=\"tfo-notebook-buttons\" align=\"left\">\n",
    "  <td>\n",
    "    <a target=\"_blank\" href=\"https://www.example.org/cirq/tutorials/educators/neutral_atom\"><img src=\"https://www.tensorflow.org/images/tf_logo_32px.png\" />View on QuantumLib</a>\n",
    "  </td>\n",
    "  <td>\n",
    "    <a target=\"_blank\" href=\"https://colab.research.google.com/github/quantumlib/Cirq/blob/master/docs/tutorials/educators/neutral_atom.ipynb\"><img src=\"https://www.tensorflow.org/images/colab_logo_32px.png\" />Run in Google Colab</a>\n",
    "  </td>\n",
    "  <td>\n",
    "    <a target=\"_blank\" href=\"https://github.com/quantumlib/Cirq/blob/master/docs/tutorials/educators/neutral_atom.ipynb\"><img src=\"https://www.tensorflow.org/images/GitHub-Mark-32px.png\" />View source on GitHub</a>\n",
    "  </td>\n",
    "  <td>\n",
    "    <a href=\"https://storage.googleapis.com/tensorflow_docs/Cirq/docs/tutorials/educators/neutral_atom.ipynb\"><img src=\"https://www.tensorflow.org/images/download_logo_32px.png\" />Download notebook</a>\n",
    "  </td>\n",
    "</table>"
   ]
  },
  {
   "cell_type": "markdown",
   "metadata": {
    "id": "bNlUyYQcgMF-"
   },
   "source": [
    "This notebook provides an introductiong to making circuits that are compatable with neutral atom devices in Cirq. The NeutralAtomDevice class is available starting with release 0.5.0."
   ]
  },
  {
   "cell_type": "code",
   "execution_count": 2,
   "metadata": {
    "id": "GTjMbjyAfJCK"
   },
   "outputs": [],
   "source": [
    "# install release containing NeutralAtomDevice and IonDevice classes\n",
    "!pip install cirq~=0.5.0 --quiet"
   ]
  },
  {
   "cell_type": "markdown",
   "metadata": {
    "id": "Z0X2AWrhrcHR"
   },
   "source": [
    "Let's get some imports out of the way and construct an instance of the NeutralAtomDevice class. We won't worry about the details of the constructor arguments just yet, we just want an instance of the class for demonstration purposes."
   ]
  },
  {
   "cell_type": "code",
   "execution_count": 3,
   "metadata": {
    "id": "On6Wrh3XhSPO"
   },
   "outputs": [],
   "source": [
    "import cirq\n",
    "import numpy as np\n",
    "from matplotlib import pyplot as plt\n",
    "\n",
    "ms = cirq.Duration(nanos=10**6)\n",
    "us = cirq.Duration(nanos=10**3)\n",
    "neutral_device = cirq.NeutralAtomDevice(measurement_duration = 5*ms,\n",
    "                                       gate_duration = 100*us,\n",
    "                                       control_radius = 2,\n",
    "                                       max_parallel_z = 3,\n",
    "                                       max_parallel_xy = 3,\n",
    "                                       max_parallel_c = 3,\n",
    "                                       qubits = [cirq.GridQubit(row, col) \n",
    "                                                 for col in range(3) \n",
    "                                                 for row in range(3)])"
   ]
  },
  {
   "cell_type": "markdown",
   "metadata": {
    "id": "v3YMaPw1hfV_"
   },
   "source": [
    "## NeutralAtomDevice\n",
    "Disclaimer: As with any proposed architecture for quantum computing, several research groups around the world are working towards a device based on neutral atom qubits. Each research group has a different approach, such as using different atomic species or working with a different number of dimensions of atomic qubit arrays. As such, the NeutralAtomDevice class will not accurately reflect all such devices. The class is based on the two dimensional cesium array at the University of Wisconsin-Madison in the research group of Mark Saffman. Development of this device is being pursued as part of a strategic partnershp between the University of Wisconsin-Madison and ColdQuanta.\n",
    "\n",
    "\n",
    "---\n",
    "\n",
    "### Native Gate Set\n",
    "The gates supported by the NeutralAtomDevice class can be placed in three categories:\n",
    "\n",
    "\n",
    "1.   Single qubit rotations about the Z axis\n",
    "2.   Single qubit rotations about an arbitrary axis in the X-Y plane (I refer to these as XY gates in this tutorial)\n",
    "3.   Controlled gates: CZ, CNOT, CCZ, CCNOT (TOFFOLI)\n",
    "\n",
    "\n",
    "For the single qubit rotations, any rotation angle is fine. However, for the controlled gates, the rotation must be a multiple of $\\pi$ due to the physical implementation of the gates. Cirq supports raising gates to arbitrary exponents. In order to satisfy the restriction of the controlled gate rotation, the exponent of the controlled gate must be an integer.\n",
    "\n",
    "\n",
    "You are allowed to specify the connectivity of the controlled gates via the control_radius argument of the NeutralAtomDevice constructor. This argument specifies the maximum distance between pairs of atoms acted on by a controlled gate. \n",
    "\n",
    "\n",
    "The neutral atom scheme for controlled gates also allows for multiple controls so long as every pair of atoms acted on by the controlled gate are close enough to eachother. The NeutralAtomDevice class does not currently support gates with greater than two controls  but we hope to implement support for them in the near term.\n",
    "\n",
    "\n",
    "---\n",
    "\n",
    "\n",
    "Some examples of gates in Cirq that the device supports are given below."
   ]
  },
  {
   "cell_type": "code",
   "execution_count": 4,
   "metadata": {
    "id": "Hotk4cHCpXCV"
   },
   "outputs": [],
   "source": [
    "# Single Qubit Z rotation by Pi/5 radians\n",
    "neutral_device.validate_gate(cirq.Rz(np.pi/5))\n",
    "# Single Qubit rotation about axis in X-Y plane Pi/3 radians from X axis by angle of Pi/7\n",
    "neutral_device.validate_gate(cirq.PhasedXPowGate(phase_exponent=np.pi/3,exponent=np.pi/7))\n",
    "# Controlled gate with integer exponent \n",
    "neutral_device.validate_gate(cirq.CNOT)\n",
    "# Controlled Not gate with two controls\n",
    "neutral_device.validate_gate(cirq.TOFFOLI)"
   ]
  },
  {
   "cell_type": "markdown",
   "metadata": {
    "id": "nc4zLydMsrkV"
   },
   "source": [
    "Some examples of gates in Cirq the device does not support are given below. These code blocks will yield errors describing since the gates are not valid for NeutralAtomDevice."
   ]
  },
  {
   "cell_type": "code",
   "execution_count": 5,
   "metadata": {
    "id": "ChT4QK7TsabR"
   },
   "outputs": [],
   "source": [
    "#Controlled gate with non-integer exponent (rotation angle must be a multiple of pi)\n",
    "# neutral_device.validate_gate(cirq.CZ**1.5)"
   ]
  },
  {
   "cell_type": "code",
   "execution_count": 6,
   "metadata": {
    "id": "UPKPh0XMs7zh"
   },
   "outputs": [],
   "source": [
    "# Hadamard gates rotate about the X-Z axis, which isn't compatable with our single qubit rotations\n",
    "# neutral_device.validate_gate(cirq.H)"
   ]
  },
  {
   "cell_type": "markdown",
   "metadata": {
    "id": "7QvsNStFtXll"
   },
   "source": [
    "### Constructor\n",
    "\n",
    "Let's take a look at the constructor for the NeutralAtomDevice class. There are a number of arguments needed to fully parametarize a device. The specific values for these numbers are expected improve over time for any physical device. Instead of constraining ourselves to how the device(s) look at a specific moment in time, the user is allowed to free or constrain themselves as  they see fit.\n",
    "\n",
    "---\n",
    "\n",
    "Gate duration variables: Depending on the specific implementation of the quantum gate, there may be a different amount of time needed to perform various actions. These arguments accept Duration and timedelta objects.\n",
    "\n",
    "*   measurement_duration: How long it takes for the device to measure a qubit\n",
    "\n",
    "*   gate_duration: The maximum amount of time it takes to execute a quantum gate\n",
    "\n",
    "---\n",
    "\n",
    "Parallelism limitations: Neutral atom devices implement quantum gates in one of two ways. One method is by hitting the entire qubit array with microwaves to simultaneously act on every qubit. This method implements global XY gates which take up to 100 microseconds to perform. Alternatively, we can shine laser light on some fraction of the array. Gates of this type typically take around 1 microsecond to perform. This method can act on one or more qubits at a time up to some limit dictated by the available laser power and the beam steering system used to address the qubits. Each category in the native gate set has its own limit.\n",
    "\n",
    "\n",
    "*   max_parallel_z: The maximum number of single qubit Z-axis rotations that can be applied in parallel\n",
    "\n",
    "*   max_parallel_xy: The maximum number of single qubit XY rotations that can be applied in parallel\n",
    "\n",
    "*   max_parallel_c: The maximum number of atoms that can be affected by controlled gates simulataneously\n",
    "\n",
    "Z-axis rotations and XY rotations use different light, so they have independent constraints. However, controlled gates make use of the light used to perform single qubit rotations in addition to extra laser frequencies. As such, the max_parallel_c argument is bounded above by the lesser of max_parallel_z and max_parallel_xy. \n",
    "\n",
    "---\n",
    "\n",
    "Other variables:\n",
    "\n",
    "*   qubits: A list of the qubits on the device. The only supported qubit type is GridQubit.\n",
    "\n",
    "*   control_radius: Every pair of atoms acted on by a controlled gate must be within this maximum distance of eachother for the gate to succeed. The distance is between qubits is measured by using their row and column values as coordinates.\n",
    "\n",
    "\n",
    "---\n",
    "\n",
    "The example device below has the following properties:\n",
    "\n",
    "*   The device is a 3x3 grid of qubits\n",
    "*   Measurements take 5ms\n",
    "*   Gates may take as long as 100us if we utilize global microwave gates. Otherwise, a more reasonable bound would be 1us.\n",
    "*   Controlled gates have next-nearest neighbor connectivity (control_radius of 2)\n",
    "*   A maximum of 3 qubits may be simultaneously acted on by any gate category \n"
   ]
  },
  {
   "cell_type": "code",
   "execution_count": 7,
   "metadata": {
    "id": "PPYYsBZr2UTD"
   },
   "outputs": [],
   "source": [
    "ms = cirq.Duration(nanos=10**6)\n",
    "us = cirq.Duration(nanos=10**3)\n",
    "neutral_device = cirq.NeutralAtomDevice(measurement_duration = 5*ms,\n",
    "                                       gate_duration = 100*us,\n",
    "                                       control_radius = 2,\n",
    "                                       max_parallel_z = 3,\n",
    "                                       max_parallel_xy = 3,\n",
    "                                       max_parallel_c = 3,\n",
    "                                       qubits = [cirq.GridQubit(row, col) \n",
    "                                                 for col in range(3) \n",
    "                                                 for row in range(3)])"
   ]
  },
  {
   "cell_type": "markdown",
   "metadata": {
    "id": "Ug-2oBPPtZzU"
   },
   "source": [
    "### Moment/Circuit Rules\n",
    "\n",
    "Now that we know how to parametarize a NeutralAtomDevice, we can discuss some examples of valid and invalid moments and circuits. Each operation in a moment is treated as if they are performed simultaneously. This leaves us with a few constraints we need to abide by.\n",
    "\n",
    "\n",
    "1.   We need to respect the maximum number of parallel gates for any gate type as discussed above\n",
    "2.   All instances of gates in the same category in the same moment must be identical\n",
    "3.   Since controlled gates make use of all types of light used to make gates, controlled gates cannot be applied in parallel with other gate types\n",
    "4.   Qubits acted on by different controlled gates in parallel must be farther apart than control_radius so that the entanglement mechanism doesn't cause the gates to interfere with one another\n",
    "5.   Measurements must be terminal\n",
    "\n",
    "\n",
    "\n",
    "---\n",
    "\n",
    "Some examples of valid moments are given below. We know the moments we constructed were valid because the circuit allowed us to add them knowing that they needed to pass the neutral_device validation methods."
   ]
  },
  {
   "cell_type": "code",
   "execution_count": 8,
   "metadata": {
    "id": "Nr-rfUgOtDxE"
   },
   "outputs": [
    {
     "name": "stdout",
     "output_type": "stream",
     "text": [
      "(0, 0): ───Z───@───\n",
      "               │\n",
      "(0, 1): ───X───┼───\n",
      "               │\n",
      "(1, 0): ───Z───@───\n",
      "               │\n",
      "(1, 1): ───X───┼───\n",
      "               │\n",
      "(2, 0): ───Z───X───\n",
      "\n",
      "(2, 1): ───X───────\n"
     ]
    }
   ],
   "source": [
    "# Moment/Circuit Examples\n",
    "moment_circ = cirq.Circuit(device=neutral_device)\n",
    "qubits = [cirq.GridQubit(row, col) for col in range(3) for row in range(3)]\n",
    "\n",
    "# Three qubits affected by a Z gate in parallel with Three qubits affected\n",
    "# by an XY gate\n",
    "operation_list_one = cirq.Z.on_each(*qubits[:3])+cirq.X.on_each(*qubits[3:6])\n",
    "valid_moment_one = cirq.Moment(operation_list_one)\n",
    "moment_circ.append(valid_moment_one)\n",
    "\n",
    "# A TOFFOLI gate on three qubits that are close enough to eachother\n",
    "operation_list_two = [cirq.TOFFOLI.on(*qubits[:3])]\n",
    "valid_moment_two = cirq.Moment(operation_list_two)\n",
    "moment_circ.append(valid_moment_two)\n",
    "\n",
    "\n",
    "print(moment_circ)"
   ]
  },
  {
   "cell_type": "markdown",
   "metadata": {
    "id": "l6jE7NnKtjQU"
   },
   "source": [
    "Frequently, you aren't explicitly constructing moments and adding them into circuits. You may more frequently find  yourself directly appending a list of operations into the circuit. Let's look at the result if we attempt this method with a global operation."
   ]
  },
  {
   "cell_type": "code",
   "execution_count": 9,
   "metadata": {
    "id": "u8oA9R5aCbEP"
   },
   "outputs": [
    {
     "name": "stdout",
     "output_type": "stream",
     "text": [
      "(0, 0): ───X───────────\n",
      "\n",
      "(0, 1): ───────X───────\n",
      "\n",
      "(0, 2): ───────────X───\n",
      "\n",
      "(1, 0): ───X───────────\n",
      "\n",
      "(1, 1): ───────X───────\n",
      "\n",
      "(1, 2): ───────────X───\n",
      "\n",
      "(2, 0): ───X───────────\n",
      "\n",
      "(2, 1): ───────X───────\n",
      "\n",
      "(2, 2): ───────────X───\n"
     ]
    }
   ],
   "source": [
    "global_circuit = cirq.Circuit(device=neutral_device)\n",
    "global_list_of_operations = cirq.X.on_each(*qubits)\n",
    "global_circuit.append(global_list_of_operations)\n",
    "print(global_circuit)"
   ]
  },
  {
   "cell_type": "markdown",
   "metadata": {
    "id": "ZPd3emooFqa5"
   },
   "source": [
    "That doesn't look right! It looks like the insertion method tried to place the gates in one at a time and decided it needed three moments to satisfy the request. There are two ways of getting around this in Cirq. One is to manually construct the moment as above."
   ]
  },
  {
   "cell_type": "code",
   "execution_count": 10,
   "metadata": {
    "id": "FxmKkfCEF744"
   },
   "outputs": [
    {
     "name": "stdout",
     "output_type": "stream",
     "text": [
      "(0, 0): ───X───\n",
      "\n",
      "(0, 1): ───X───\n",
      "\n",
      "(0, 2): ───X───\n",
      "\n",
      "(1, 0): ───X───\n",
      "\n",
      "(1, 1): ───X───\n",
      "\n",
      "(1, 2): ───X───\n",
      "\n",
      "(2, 0): ───X───\n",
      "\n",
      "(2, 1): ───X───\n",
      "\n",
      "(2, 2): ───X───\n"
     ]
    }
   ],
   "source": [
    "global_moment_circuit = cirq.Circuit(device=neutral_device)\n",
    "global_moment = cirq.Moment(cirq.X.on_each(*qubits))\n",
    "global_moment_circuit.append(global_moment)\n",
    "print(global_moment_circuit)"
   ]
  },
  {
   "cell_type": "markdown",
   "metadata": {
    "id": "3E-tqsmlGKjD"
   },
   "source": [
    "Another way to achieve this task is the ParallelGateOperation class. Most Operation objects correspond to a single gate acting on some qubits. The ParallelGateOperation class corresponds to multiple copies of a single gate acting on some qubits in parallel. Since it is a single operation, the default insertion methods won't break it up into multiple moments when adding it into the circuit!"
   ]
  },
  {
   "cell_type": "code",
   "execution_count": 11,
   "metadata": {
    "id": "OIZux5rFGrLs"
   },
   "outputs": [
    {
     "name": "stdout",
     "output_type": "stream",
     "text": [
      "(0, 0): ───X───\n",
      "\n",
      "(0, 1): ───X───\n",
      "\n",
      "(0, 2): ───X───\n",
      "\n",
      "(1, 0): ───X───\n",
      "\n",
      "(1, 1): ───X───\n",
      "\n",
      "(1, 2): ───X───\n",
      "\n",
      "(2, 0): ───X───\n",
      "\n",
      "(2, 1): ───X───\n",
      "\n",
      "(2, 2): ───X───\n"
     ]
    }
   ],
   "source": [
    "parallel_gate_op_circuit = cirq.Circuit(device=neutral_device)\n",
    "parallel_gate_op = cirq.ParallelGateOperation(cirq.X,qubits)\n",
    "parallel_gate_op_circuit.append(parallel_gate_op)\n",
    "print(parallel_gate_op_circuit)"
   ]
  },
  {
   "cell_type": "markdown",
   "metadata": {
    "id": "1byvHcWvHx-D"
   },
   "source": [
    "###Grover's Algorithm\n",
    "Now that we have the details out of the way, we can take a look at what implementing a real quantum algorithm might look like on a NeutralAtomDevice. Since the current limit on having multiple controls on a gate is two, lets look at the three qubit Grover search. For this problem, there is some special target state out of the $N = 2^n$ possible basis states that we'd like to identify. We have access to a quantum oracle that applies a phase to this state relative to every other basis state. The algorithm succeeds if we measure the desired state when we make a measurement on all the qubits after the circuit is run.\n",
    "\n",
    "\n",
    "---\n",
    "\n",
    "Classically, this corresponds to an unordered database search with a database of size $N=2^n$. On average, it will take $N/2$ applications of a classical oracle to find the desired state in the database. With Grover's algorithm, it is possible to succeed with high probability in $O(\\sqrt N)$ applications of the quantum oracle.\n",
    "\n",
    "\n",
    "---\n",
    "\n",
    "Grover's algorithm works by initially preparing the quantum state\n",
    "$$|s\\rangle = \\frac{1}{\\sqrt{N}}\\sum_{x=0}^{N-1}{|x\\rangle}_.$$\n",
    "\n",
    "This is an even superposition of each state in the computational basis and can be obtained by applying a Hadamard gate or a $Y^{1/2}$ gate on a register with each qubit initialized to $|0\\rangle$. After this initial state is prepared, Grover's algorithm consists of applying the quantum oracle followed by a diffusion operator. \n",
    "\n",
    "The quantum oracle places a relative phase on the target state we want to measure and the diffusion operator utilizes that phase difference to amplify the probability of measuring the target state relative to other states in the computational basis.\n",
    "The diffusion operator is given by $U_s = 2 |s\\rangle \\langle s| - I.$\n",
    "\n",
    "\n",
    "---\n",
    "\n",
    "\n",
    "We can calculate the probability of success as a function of the number of repititions R that we apply the oracle and diffusion operator. The result is $$P_{success} = \\sin^2 ((2R+1)\\arcsin(\\frac{1}{\\sqrt{N}})_,$$\n",
    "with the maximum probability of success will occur when $R \\approx \\pi \\sqrt{N}/4.$ \n",
    "\n",
    "\n",
    "---\n",
    "\n",
    "We know what these operators look like in Dirac notation, but now we have to compile them into the language of quantum gates. We'll start with the oracle. We can construct the oracle out of controlled-Z gates and NOT (X) gates. A Controlled-Z gate applies a $\\pi$ phase shift to the state where each qubit is in the $|1 \\rangle $ state. We can select a different state to recieve the phase shift by sandwiching the controlled-Z gate with X gates on any of the qubits whose desired measurement outcome is $|0 \\rangle$. We can implement a generator for the oracle operator with the below code in Cirq."
   ]
  },
  {
   "cell_type": "code",
   "execution_count": 12,
   "metadata": {
    "id": "uQ50bqZKZXVf"
   },
   "outputs": [
    {
     "name": "stdout",
     "output_type": "stream",
     "text": [
      "(0, 0): ───────@───────\n",
      "               │\n",
      "(0, 1): ───X───@───X───\n",
      "               │\n",
      "(0, 2): ───────@───────\n"
     ]
    }
   ],
   "source": [
    "def oracle(qubits, key_bits):\n",
    "    yield (cirq.X(q) for (q, bit) in zip(qubits, key_bits) if not bit)\n",
    "    yield cirq.CCZ(*qubits)\n",
    "    yield (cirq.X(q) for (q, bit) in zip(qubits, key_bits) if not bit)\n",
    "\n",
    "# Try changing the key to see the relationship between\n",
    "# the placement of the X gates and the key\n",
    "key = (1, 0, 1)\n",
    "qubits = [cirq.GridQubit(0,col) for col in range(3)]\n",
    "oracle_example_circuit = cirq.Circuit().from_ops(oracle(qubits,key))\n",
    "print(oracle_example_circuit)"
   ]
  },
  {
   "cell_type": "markdown",
   "metadata": {
    "id": "hOCGBzJ9dviO"
   },
   "source": [
    "A quick Google search of how to implement the diffusion operator will provide us with the below implementation."
   ]
  },
  {
   "cell_type": "code",
   "execution_count": 13,
   "metadata": {
    "id": "63Y-GsLiH8Nm"
   },
   "outputs": [
    {
     "name": "stdout",
     "output_type": "stream",
     "text": [
      "(0, 0): ───H───X───@───X───H───\n",
      "                   │\n",
      "(0, 1): ───H───X───@───X───H───\n",
      "                   │\n",
      "(0, 2): ───H───X───@───X───H───\n"
     ]
    }
   ],
   "source": [
    "def diffusion_operator(qubits):\n",
    "    yield cirq.H.on_each(*qubits)\n",
    "    yield cirq.X.on_each(*qubits)\n",
    "    yield cirq.CCZ(*qubits)\n",
    "    yield cirq.X.on_each(*qubits)\n",
    "    yield cirq.H.on_each(*qubits)\n",
    "    \n",
    "qubits = [cirq.GridQubit(0,col) for col in range(3)]\n",
    "diffusion_circuit = cirq.Circuit().from_ops(diffusion_operator(qubits))\n",
    "print(diffusion_circuit)"
   ]
  },
  {
   "cell_type": "markdown",
   "metadata": {
    "id": "yo4E2JSoe00x"
   },
   "source": [
    "If we put it all together and note that for the three qubit case, the optimal number of applications of the oracle and diffusion operator is two, we get the below circuit."
   ]
  },
  {
   "cell_type": "code",
   "execution_count": 14,
   "metadata": {
    "id": "TSfFAmk2e_Q8"
   },
   "outputs": [
    {
     "name": "stdout",
     "output_type": "stream",
     "text": [
      "(0, 0): ───H───────@───H───X───────@───X───H───────@───H───X───────@───X───H───\n",
      "                   │               │               │               │\n",
      "(0, 1): ───H───X───@───X───H───X───@───X───H───X───@───X───H───X───@───X───H───\n",
      "                   │               │               │               │\n",
      "(0, 2): ───H───────@───H───X───────@───X───H───────@───H───X───────@───X───H───\n"
     ]
    }
   ],
   "source": [
    "def initial_hadamards(qubits):\n",
    "    yield cirq.H.on_each(*qubits)\n",
    "\n",
    "uncompiled_circuit = cirq.Circuit()\n",
    "key = (1,0,1)\n",
    "qubits = [cirq.GridQubit(0,0),cirq.GridQubit(0,1),cirq.GridQubit(0,2)]\n",
    "uncompiled_circuit.append(initial_hadamards(qubits))\n",
    "uncompiled_circuit.append(oracle(qubits,key))\n",
    "uncompiled_circuit.append(diffusion_operator(qubits))\n",
    "uncompiled_circuit.append(oracle(qubits,key))\n",
    "uncompiled_circuit.append(diffusion_operator(qubits))\n",
    "print(uncompiled_circuit)"
   ]
  },
  {
   "cell_type": "markdown",
   "metadata": {
    "id": "iTmPFGsahCh-"
   },
   "source": [
    "This circuit does implement Grover's algorithm, but it doesn't work for our NeutralAtomDevice class because of the Hadamard gates. The Hadamard gates show up in the Diffusion Operator steps and the initial \"Hadamard Everything\" step. We can simplify the Diffusion Operator definition and the initial Hadamard step by decomposing the Hadamard gate into products of XY gates.\n",
    "\n",
    "\n",
    "*   $H=X Y^{1/2}$ \n",
    "*   $H=Y^{-1/2} X$\n",
    "*  $H=Y^{1/2}Z$\n",
    "\n",
    "Using these two rules, we can instead make a neutral atom comptable version of the circuit given below."
   ]
  },
  {
   "cell_type": "code",
   "execution_count": 15,
   "metadata": {
    "id": "HsjMeVNkie2b"
   },
   "outputs": [
    {
     "name": "stdout",
     "output_type": "stream",
     "text": [
      "(0, 0): ───Y^0.5───X───@───X───Y^0.5───@───Y^-0.5───X───@───X───Y^0.5───@───Y^-0.5───\n",
      "                       │               │                │               │\n",
      "(0, 1): ───Y^0.5───────@───────Y^0.5───@───Y^-0.5───────@───────Y^0.5───@───Y^-0.5───\n",
      "                       │               │                │               │\n",
      "(0, 2): ───Y^0.5───X───@───X───Y^0.5───@───Y^-0.5───X───@───X───Y^0.5───@───Y^-0.5───\n"
     ]
    }
   ],
   "source": [
    "def neutral_atom_initial_step(qubits):\n",
    "    yield cirq.ParallelGateOperation(cirq.Y**(1/2), qubits)\n",
    "    \n",
    "def neutral_atom_diffusion_operator(qubits):\n",
    "    yield cirq.ParallelGateOperation(cirq.Y**(1/2), qubits)\n",
    "    yield cirq.CCZ(*qubits)\n",
    "    yield cirq.ParallelGateOperation(cirq.Y**(-1/2), qubits)\n",
    "\n",
    "    \n",
    "ms = cirq.Duration(nanos=10**6)\n",
    "us = cirq.Duration(nanos=10**3)\n",
    "qubits = [cirq.GridQubit(row, col) for col in range(3) for row in range(1)]\n",
    "three_qubit_device = cirq.NeutralAtomDevice(measurement_duration = 5*ms,\n",
    "                                           gate_duration = us,\n",
    "                                           control_radius = 2,\n",
    "                                           max_parallel_z = 3,\n",
    "                                           max_parallel_xy = 3,\n",
    "                                           max_parallel_c = 3,\n",
    "                                           qubits=qubits)\n",
    "key = (0,1,0)\n",
    "compiled_grover_circuit = cirq.Circuit(device=three_qubit_device)\n",
    "compiled_grover_circuit.append(neutral_atom_initial_step(qubits))\n",
    "compiled_grover_circuit.append(oracle(qubits,key))\n",
    "compiled_grover_circuit.append(neutral_atom_diffusion_operator(qubits))\n",
    "compiled_grover_circuit.append(oracle(qubits,key))\n",
    "compiled_grover_circuit.append(neutral_atom_diffusion_operator(qubits))\n",
    "print(compiled_grover_circuit)"
   ]
  },
  {
   "cell_type": "markdown",
   "metadata": {
    "id": "zBfHYu7lfwbY"
   },
   "source": [
    "Let's quickly verify that this implementation of the algorithm on our device actually works by altering the number of times we apply the oracle and diffusion operators. We would expect to reproduce the analytical result given above."
   ]
  },
  {
   "cell_type": "code",
   "execution_count": 16,
   "metadata": {
    "id": "MUC33tMYgJQV"
   },
   "outputs": [
    {
     "data": {
      "image/png": "[encoded data removed]",
      "text/plain": [
       "<Figure size 432x288 with 1 Axes>"
      ]
     },
     "metadata": {
      "needs_background": "light"
     },
     "output_type": "display_data"
    }
   ],
   "source": [
    "def grover_circuit_with_n_repetitions(n, key):\n",
    "    ms = cirq.Duration(nanos=10**6)\n",
    "    us = cirq.Duration(nanos=10**3)\n",
    "    qubits = [cirq.GridQubit(row, col) for col in range(3) for row in range(1)]\n",
    "    three_qubit_device = cirq.NeutralAtomDevice(measurement_duration = 5*ms,\n",
    "                                               gate_duration = us,\n",
    "                                               control_radius = 2,\n",
    "                                               max_parallel_z = 3,\n",
    "                                               max_parallel_xy = 3,\n",
    "                                               max_parallel_c = 3,\n",
    "                                               qubits=qubits)\n",
    "    grover_circuit = cirq.Circuit(device=three_qubit_device)\n",
    "    grover_circuit.append(neutral_atom_initial_step(qubits))\n",
    "    for repetition in range(n):\n",
    "      grover_circuit.append(oracle(qubits,key))\n",
    "      grover_circuit.append(neutral_atom_diffusion_operator(qubits))\n",
    "      \n",
    "    return grover_circuit\n",
    "      \n",
    "success_probabilities = []\n",
    "key = (0,1,1)\n",
    "N = 2**3\n",
    "#Convert key from binary to a base 10 number\n",
    "diag = sum(2**(2-count) for (count, val) in enumerate(key) if val)\n",
    "num_points = 10\n",
    "for repetitions in range(num_points):\n",
    "    test_circuit = grover_circuit_with_n_repetitions(repetitions, key)\n",
    "    sim = cirq.Simulator()\n",
    "    result = sim.simulate(test_circuit)\n",
    "    rho = result.density_matrix_of(qubits)\n",
    "    success_probabilities.append(np.real(rho[diag][diag]))\n",
    "\n",
    "plt.scatter(range(num_points), success_probabilities, label=\"Simulation\")\n",
    "x = np.linspace(0, num_points, 1000)\n",
    "y = np.sin((2*x+1)*np.arcsin(1/np.sqrt(N)))**2\n",
    "plt.plot(x, y, label=\"Theoretical Curve\")\n",
    "plt.title(\"Probability of Success Vs. Number of Oracle-Diffusion Operators\")\n",
    "plt.ylabel(\"Probability of Success\")\n",
    "plt.xlabel(\"Number of Times Oracle and Diffusion Operators are Applied\")\n",
    "plt.legend(loc='upper right')\n",
    "plt.show()"
   ]
  },
  {
   "cell_type": "markdown",
   "metadata": {
    "id": "oSPDCZPCmugO"
   },
   "source": [
    "The results match! And we actually see that if we can afford to increase the number of times we apply the oracle and diffusion operators to six, we can get an improved probability of success."
   ]
  }
 ],
 "metadata": {
  "colab": {
   "collapsed_sections": [],
   "name": "neutral_atom.ipynb",
   "toc_visible": true
  },
  "kernelspec": {
   "display_name": "Python 3",
   "name": "python3"
  }
 },
 "nbformat": 4,
 "nbformat_minor": 0
}
