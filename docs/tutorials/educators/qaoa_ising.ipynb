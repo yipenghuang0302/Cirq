{
 "cells": [
  {
   "cell_type": "markdown",
   "metadata": {
    "id": "cedf868076a2"
   },
   "source": [
    "##### Copyright 2020 The Cirq Developers"
   ]
  },
  {
   "cell_type": "code",
   "execution_count": 1,
   "metadata": {
    "cellView": "form",
    "id": "906e07f6e562"
   },
   "outputs": [],
   "source": [
    "#@title Licensed under the Apache License, Version 2.0 (the \"License\");\n",
    "# you may not use this file except in compliance with the License.\n",
    "# You may obtain a copy of the License at\n",
    "#\n",
    "# https://www.apache.org/licenses/LICENSE-2.0\n",
    "#\n",
    "# Unless required by applicable law or agreed to in writing, software\n",
    "# distributed under the License is distributed on an \"AS IS\" BASIS,\n",
    "# WITHOUT WARRANTIES OR CONDITIONS OF ANY KIND, either express or implied.\n",
    "# See the License for the specific language governing permissions and\n",
    "# limitations under the License."
   ]
  },
  {
   "cell_type": "markdown",
   "metadata": {
    "id": "291eb7f565e0"
   },
   "source": [
    "# Quantum Approximate Optimization Algorithm for the Ising model"
   ]
  },
  {
   "cell_type": "markdown",
   "metadata": {
    "id": "4dec45d973fc"
   },
   "source": [
    "<table class=\"tfo-notebook-buttons\" align=\"left\">\n",
    "  <td>\n",
    "    <a target=\"_blank\" href=\"https://www.example.org/cirq/tutorials/educators/qaoa_ising\"><img src=\"https://www.tensorflow.org/images/tf_logo_32px.png\" />View on QuantumLib</a>\n",
    "  </td>\n",
    "  <td>\n",
    "    <a target=\"_blank\" href=\"https://colab.research.google.com/github/quantumlib/Cirq/blob/master/docs/tutorials/educators/qaoa_ising.ipynb\"><img src=\"https://www.tensorflow.org/images/colab_logo_32px.png\" />Run in Google Colab</a>\n",
    "  </td>\n",
    "  <td>\n",
    "    <a target=\"_blank\" href=\"https://github.com/quantumlib/Cirq/blob/master/docs/tutorials/educators/qaoa_ising.ipynb\"><img src=\"https://www.tensorflow.org/images/GitHub-Mark-32px.png\" />View source on GitHub</a>\n",
    "  </td>\n",
    "  <td>\n",
    "    <a href=\"https://storage.googleapis.com/tensorflow_docs/Cirq/docs/tutorials/educators/qaoa_ising.ipynb\"><img src=\"https://www.tensorflow.org/images/download_logo_32px.png\" />Download notebook</a>\n",
    "  </td>\n",
    "</table>"
   ]
  },
  {
   "cell_type": "markdown",
   "metadata": {
    "id": "gAxVvd1LF3l4"
   },
   "source": [
    "This notebook provides an introduction to the Quantum Approximate Optimization Algorithm (QAOA) using the Cirq. The presentation mostly follows [Farhi et al.](https://arxiv.org/abs/1411.4028). We will show how to construct the QAOA circuit and use it to solve some simple problems."
   ]
  },
  {
   "cell_type": "code",
   "execution_count": 2,
   "metadata": {
    "id": "RlJBDvNgC00H"
   },
   "outputs": [],
   "source": [
    "# install cirq\n",
    "!pip install cirq==0.5 --quiet"
   ]
  },
  {
   "cell_type": "markdown",
   "metadata": {
    "id": "GPjUqrK8DJTq"
   },
   "source": [
    "To verify that Cirq is installed in your environment, try to `import cirq` and print out a diagram of the Bristlecone device."
   ]
  },
  {
   "cell_type": "code",
   "execution_count": 3,
   "metadata": {
    "id": "FTrmLyq4C2gf"
   },
   "outputs": [
    {
     "name": "stdout",
     "output_type": "stream",
     "text": [
      "                                             (0, 5)────(0, 6)\n",
      "                                             │         │\n",
      "                                             │         │\n",
      "                                    (1, 4)───(1, 5)────(1, 6)────(1, 7)\n",
      "                                    │        │         │         │\n",
      "                                    │        │         │         │\n",
      "                           (2, 3)───(2, 4)───(2, 5)────(2, 6)────(2, 7)───(2, 8)\n",
      "                           │        │        │         │         │        │\n",
      "                           │        │        │         │         │        │\n",
      "                  (3, 2)───(3, 3)───(3, 4)───(3, 5)────(3, 6)────(3, 7)───(3, 8)───(3, 9)\n",
      "                  │        │        │        │         │         │        │        │\n",
      "                  │        │        │        │         │         │        │        │\n",
      "         (4, 1)───(4, 2)───(4, 3)───(4, 4)───(4, 5)────(4, 6)────(4, 7)───(4, 8)───(4, 9)───(4, 10)\n",
      "         │        │        │        │        │         │         │        │        │        │\n",
      "         │        │        │        │        │         │         │        │        │        │\n",
      "(5, 0)───(5, 1)───(5, 2)───(5, 3)───(5, 4)───(5, 5)────(5, 6)────(5, 7)───(5, 8)───(5, 9)───(5, 10)───(5, 11)\n",
      "         │        │        │        │        │         │         │        │        │        │\n",
      "         │        │        │        │        │         │         │        │        │        │\n",
      "         (6, 1)───(6, 2)───(6, 3)───(6, 4)───(6, 5)────(6, 6)────(6, 7)───(6, 8)───(6, 9)───(6, 10)\n",
      "                  │        │        │        │         │         │        │        │\n",
      "                  │        │        │        │         │         │        │        │\n",
      "                  (7, 2)───(7, 3)───(7, 4)───(7, 5)────(7, 6)────(7, 7)───(7, 8)───(7, 9)\n",
      "                           │        │        │         │         │        │\n",
      "                           │        │        │         │         │        │\n",
      "                           (8, 3)───(8, 4)───(8, 5)────(8, 6)────(8, 7)───(8, 8)\n",
      "                                    │        │         │         │\n",
      "                                    │        │         │         │\n",
      "                                    (9, 4)───(9, 5)────(9, 6)────(9, 7)\n",
      "                                             │         │\n",
      "                                             │         │\n",
      "                                             (10, 5)───(10, 6)\n"
     ]
    }
   ],
   "source": [
    "import cirq\n",
    "import numpy as np\n",
    "import sympy\n",
    "import matplotlib.pyplot as plt\n",
    "\n",
    "print(cirq.google.Bristlecone)"
   ]
  },
  {
   "cell_type": "markdown",
   "metadata": {
    "id": "3wxPYfCo6Ygw"
   },
   "source": [
    "### Description of QAOA\n",
    "\n",
    "Let's start out with a description of the QAOA algorithm. We'll discuss the structure of the problem it tries to solve and the quantum circuit we need to build to implement it."
   ]
  },
  {
   "cell_type": "markdown",
   "metadata": {
    "id": "8A7a3jcql1l5"
   },
   "source": [
    "Suppose you have a function $C(z)$ that depends on a collection of variables $z = z_1,z_2,\\ldots, z_n$, where each $z_j$ can be equal to either $+1$ or $-1$ (the important thing here is that each $z_j$ has two possible values, and by convention we choose those values to be $\\pm 1$). The QAOA is a general-purpose algorithm whose goal is to produce an assignment of the $z_j$ that gives a relatively low value of $C(z)$. It's not guaranteed to give the lowest possible value of $C(z)$---hence the name \"Approximate\"---except in a particular limit which we will discuss.\n",
    "\n",
    "The QAOA algorithm acts on $n$ qubits. As you might guess, each qubit represents one of the variables in our function, and the $2^n$ states of the computational basis correspond to the $2^n$ possible assignments of the $z$ variables. To be more specific, let's agree that the value of $z_j$ corresponds to the measurement outcome of the Pauli-$Z$ operator on the $j$th qubit. There is a potential confusion here because the state $| 0 \\rangle$ corresponds to $z = +1$, while the state $| 1\\rangle$ corresponds to $z=-1$. This is unfortunate, but is something that we'll just have to deal with."
   ]
  },
  {
   "cell_type": "markdown",
   "metadata": {
    "id": "q4F7ccpiGOn4"
   },
   "source": [
    "The QAOA algorithm is fairly simple to explain, though the reasons behind why it works are not obvious at first glance. As usual, we begin with all of our qubits initialized in the $|0\\rangle$ state. The first step is to act with $H^{\\otimes n}$, the Hadamard operator on each qubit. This prepares an equal superposition of all bitstrings, i.e., an equal superposition of all possible $z$ assignments:\n",
    "$$\n",
    "H^{\\otimes n} |0^n\\rangle =\\frac{1}{2^{n/2}} \\sum_{x \\in \\{0,1\\}^n} |x\\rangle.\n",
    "$$\n",
    "This should be thought of as the \"real\" initial state of the algorithm. The point of the remaining steps is to affect the amplitudes so that those with small $C(z)$ values grow while those with large $C(z)$ values shrink. Then at the end when we measure the qubits we'll be more likely to find a bitstring with a small value of $C(z)$."
   ]
  },
  {
   "cell_type": "markdown",
   "metadata": {
    "id": "AW1bxjmdHw44"
   },
   "source": [
    "The meat of the algorithm relies on the following unitary operator:\n",
    "$$\n",
    "U(\\gamma,C) = e^{i\\pi \\gamma C(Z)/2}.\n",
    "$$\n",
    "This operator deserves some explanation. First, $\\gamma$ is a paramter which we will later treat as a variational parameter, adjusting its value to produce the best possible result. $C$ here is the function we are trying to minimize, and the notation $C(Z)$ is supposed to tell you to plug in the Pauli-$Z$ operator for each qubit in place of the argument $z$. For example, if \n",
    "$$\n",
    "C(z) = 3z_1 z_2 - z_2z_3 + z_4\n",
    "$$\n",
    "then\n",
    "$$\n",
    "C(Z) = 3Z_1 Z_2 - Z_2Z_3 + Z_4.\n",
    "$$\n",
    "It looks like I didn't do much, but the point here is that $C(z)$ is a number while $C(Z)$ is a matrix. That matrix is diagonal in the computational basis, and those diagonal entries represent all the possible values of $C(z)$.\n",
    "\n",
    "After acting with $H^{\\otimes n}$, we act with $U(C,\\gamma)$. The result is still a sum over all possible bit-strings, but now the coefficients are complex phases which depend on $C$. At this point there is still an equal probability to measure any particular string, though, because Born's rule only depends on the square of the amplitude. So the algorithm is not done yet. Below we will have to figure out how to implement $U(\\gamma, C)$ in Cirq so that we can perform this step in the algorithm."
   ]
  },
  {
   "cell_type": "markdown",
   "metadata": {
    "id": "ocxry8MKJFeD"
   },
   "source": [
    "The next step of the algorithm is to act with the unitary operator\n",
    "$$\n",
    "U(\\beta,B) = e^{i\\pi\\beta B/2},~~~ B = \\sum_{j=1}^n X_j,\n",
    "$$\n",
    "where $\\beta$ is another variational parameter. Since the Pauli-$X$ operators on each qubit commute with each other, we can alternatively write this as\n",
    "$$\n",
    "U(\\beta, B) = \\prod_{j=1}^n e^{i\\pi\\beta X_j/2}.\n",
    "$$\n",
    "So this is just a rotation of each qubit around the $X$-axis on the Bloch sphere by an amount determined by $\\beta$. This operation is _not_ diagonal in the computational basis, and the resulting state will not be an equal superposition over all bitstrings. So after this step there will be constructive and destructive interference, which hopefully leads to enhancement of states corresponding to small values of $C$. This $U(\\beta, B)$ is sometimes called a \"mixing\" operation. Note that, up to an inconsequential global phase, we can also write\n",
    "$$\n",
    "U(\\beta, B) = \\prod_{j=1}^n X_j^{\\beta}.\n",
    "$$"
   ]
  },
  {
   "cell_type": "markdown",
   "metadata": {
    "id": "RFgdxbSlLh0y"
   },
   "source": [
    "The total circuit consists of repeating the previous two steps a total of $p\\geq 1$ times, where the choice of $p$ is up to you. The parameters $\\gamma$ and $\\beta$ can be chosen independently at each step. So at the conclusion of the circuit, the state of the qubits is\n",
    "$$\n",
    "|\\gamma,\\beta\\rangle = U(\\beta_p,B)U(\\gamma_p,C)\\cdots U(\\beta_1,B)U(\\gamma_1,C)H^{\\otimes n}|0^n\\rangle.\n",
    "$$\n",
    "If we choose $\\gamma$ and $\\beta$ so that the expectation value\n",
    "$$\n",
    "F(\\gamma,\\beta) = \\langle \\gamma,\\beta|C(Z)|\\gamma,\\beta\\rangle\n",
    "$$\n",
    "is minimized, then measuring the state $|\\gamma,\\beta\\rangle$ in the computational basis gives us a good candidate bitstring for the minimum of $C(z)$. That's the whole thing!"
   ]
  },
  {
   "cell_type": "markdown",
   "metadata": {
    "id": "MK02MlydMUqL"
   },
   "source": [
    "In summary we have to perform the following tasks in order to implement the QAOA:\n",
    "\n",
    "\n",
    "1.   Figure out out to perform the $U(\\gamma, C)$ operation in Cirq for our choice of $C$.\n",
    "2.   Create a quantum circuit alternating $U(\\gamma, C)$ and $U(\\beta, B)$ operations as many times as desired. \n",
    "3.   Find the optimal value of the variational parameters in our circuit.\n",
    "4.   Measure the output of our circuit."
   ]
  },
  {
   "cell_type": "markdown",
   "metadata": {
    "id": "X15yPl_KQ20Z"
   },
   "source": [
    "### Toy problem: ground state of Ising model\n",
    "\n",
    "The Ising Model defines the energy function\n",
    "$$\n",
    "E = -\\sum_{\\langle i,j \\rangle} Z_i Z_j - \\sum_i h_i Z_i,\n",
    "$$\n",
    "where the notation $\\langle i,j\\rangle$ means a sum over all nearest-neighbor pairs. The picture here is that the qubits live on the vertices of a graph, and the edges of the graph define which qubits are neighbors. We'll just take out graph to be a rectangular lattice with some number of rows and some number of columns. The numbers $h_i$ have the physical interpretation of an external magnetic field.\n",
    "\n",
    "We are interested in finding a low-lying state of the Ising Model, by which I mean a state that has a relatively low amount of energy. This is a difficult problem in general. The pairwise interaction terms would tell you that neighboring qubits should be in the same state to lower the energy, while the magnetic field terms tell you that a given qubit wants to point \"in the same direction\" as its local field, and the strength of that preference depends on the magnitude of the field. These two different kinds of pressure are not always in agreement!\n",
    "\n",
    "This type of problem is a perfect candidate for the QAOA, where we use the energy $E$ as our cost function $C$."
   ]
  },
  {
   "cell_type": "markdown",
   "metadata": {
    "id": "VFwmWPf7D057"
   },
   "source": [
    "### ZZ Gate\n",
    "\n",
    "The first thing we need to do is create the operation $U(\\gamma, C)$, where $C$ is equal to the Ising Model energy function. The first thing to note is that, since all of the terms in the energy commute, we can decompose this operation as\n",
    "$$\n",
    "U(\\gamma, C) = \\prod_{\\langle i,j\\rangle}e^{-i\\pi\\gamma Z_iZ_j/2} \\prod_i e^{-i\\pi \\gamma h_i Z_i/2}.\n",
    "$$\n",
    "This requires that we have the two-qubit gate $\\exp(-i\\pi\\gamma ZZ/2)$ at our disposal. In matrix form, this is\n",
    "$$\n",
    "\\begin{align}\n",
    "\\exp(-i \\pi\\gamma Z\\otimes Z/2) = \\begin{bmatrix}\n",
    "e^{-i\\pi \\gamma/2}  & 0  &0&0\\\\\n",
    "0 & e^{i\\pi \\gamma/2}   &0&0\\\\\n",
    "0&0& e^{i\\pi \\gamma/2}  &0 \\\\\n",
    "0&0 & 0  & e^{-i\\pi \\gamma/2}\n",
    "\\end{bmatrix}\n",
    "\\end{align}\n",
    "$$\n",
    "As of version 0.5.0, Cirq has a built-in gate `cirq.ZZ` which is equivalent to this once you account for a global phase:"
   ]
  },
  {
   "cell_type": "code",
   "execution_count": 4,
   "metadata": {
    "id": "3CZsDwTlDy_h"
   },
   "outputs": [
    {
     "name": "stdout",
     "output_type": "stream",
     "text": [
      "a: ───ZZ───────\n",
      "      │\n",
      "b: ───ZZ^0.3───\n"
     ]
    },
    {
     "data": {
      "text/plain": [
       "array([[1.  +0.j  , 0.  +0.j  , 0.  +0.j  , 0.  +0.j  ],\n",
       "       [0.  +0.j  , 0.59+0.81j, 0.  +0.j  , 0.  +0.j  ],\n",
       "       [0.  +0.j  , 0.  +0.j  , 0.59+0.81j, 0.  +0.j  ],\n",
       "       [0.  +0.j  , 0.  +0.j  , 0.  +0.j  , 1.  +0.j  ]])"
      ]
     },
     "execution_count": 4,
     "metadata": {},
     "output_type": "execute_result"
    }
   ],
   "source": [
    "a = cirq.NamedQubit(\"a\")\n",
    "b = cirq.NamedQubit(\"b\")\n",
    "gamma = 0.3 # Put your own value here.\n",
    "circuit = cirq.Circuit.from_ops(cirq.ZZ(a,b)**gamma)\n",
    "print(circuit)\n",
    "cirq.unitary(circuit).round(2)"
   ]
  },
  {
   "cell_type": "markdown",
   "metadata": {
    "id": "WvFVcT2de0V6"
   },
   "source": [
    "We should also check that the matrix is what we expect:"
   ]
  },
  {
   "cell_type": "code",
   "execution_count": 5,
   "metadata": {
    "id": "CazWJFM5eGgB"
   },
   "outputs": [],
   "source": [
    "test_matrix = np.array([[np.exp(-1j*np.pi*gamma/2),0, 0, 0],\n",
    "                        [0, np.exp(1j*np.pi*gamma/2), 0, 0],\n",
    "                        [0, 0, np.exp(1j*np.pi*gamma/2), 0],\n",
    "                        [0, 0, 0,np.exp(-1j*np.pi*gamma/2)]])\n",
    "cirq.testing.assert_allclose_up_to_global_phase(test_matrix, cirq.unitary(circuit), atol=1e-5)"
   ]
  },
  {
   "cell_type": "markdown",
   "metadata": {
    "id": "cy1ns-RLMzp3"
   },
   "source": [
    "### Z Gate\n",
    "\n",
    "The magnetic field terms can be handled in a similar way. The single-qubit unitary\n",
    "$$\n",
    "\\exp(-i\\pi \\gamma hZ/2) = \\begin{bmatrix}\n",
    "e^{-i\\pi \\gamma h/2} & 0 \\\\\n",
    "0 & e^{i\\pi \\gamma h/2}\n",
    "\\end{bmatrix}\n",
    "$$\n",
    "is equivalent up to global phase to `cirq.Z**(h*gamma)`:"
   ]
  },
  {
   "cell_type": "code",
   "execution_count": 6,
   "metadata": {
    "id": "r4BEICATObhU"
   },
   "outputs": [
    {
     "name": "stdout",
     "output_type": "stream",
     "text": [
      "a: ───Z^0.39───\n",
      "[[1.  +0.j   0.  +0.j  ]\n",
      " [0.  +0.j   0.34+0.94j]]\n"
     ]
    }
   ],
   "source": [
    "a = cirq.NamedQubit(\"a\")\n",
    "gamma = 0.3 # Put your own value here.\n",
    "h = 1.3 # Put your own value here.\n",
    "circuit = cirq.Circuit.from_ops(cirq.Z(a)**(gamma*h))\n",
    "print(circuit)\n",
    "print(cirq.unitary(circuit).round(2))\n",
    "\n",
    "test_matrix = np.array([[np.exp(-1j*np.pi*gamma*h/2),0],\n",
    "                        [0, np.exp(1j*np.pi*gamma*h/2)]])\n",
    "cirq.testing.assert_allclose_up_to_global_phase(test_matrix, cirq.unitary(circuit), atol=1e-5)"
   ]
  },
  {
   "cell_type": "markdown",
   "metadata": {
    "id": "esgOuHF_FT_2"
   },
   "source": [
    "### Exercise: More general two-qubit gate\n",
    "\n",
    "The Ising Model is particularly simple because the nearest-neighbor interaction $Z_i Z_j$ is already given in terms of a product of Pauli matrices. But suppose instead I told you that the cost function was a sum of terms that looked like\n",
    "$$\n",
    "C(z_i,z_j) = \\begin{cases}\n",
    "c_{00} \\text{ if } z_i =1,~z_j=1,\\\\\n",
    "c_{01} \\text{ if } z_i =1,~z_j=-1,\\\\\n",
    "c_{10} \\text{ if } z_i =-1,~z_j=1,\\\\\n",
    "c_{11} \\text{ if } z_i =-1,~z_j=-1.\n",
    "\\end{cases}\n",
    "$$\n",
    "For some numbers $c_{ab}$. How would you make the analogous two-qubit gate for this case?\n",
    "\n",
    "You can either make a custom gate from scratch, or build a solution from the standard elementary gates."
   ]
  },
  {
   "cell_type": "markdown",
   "metadata": {
    "id": "uaDb6B_jPgrb"
   },
   "source": [
    "### Create Circuit\n",
    "\n",
    "Using the `cirq.ZZ` gate we can now create the QAOA circuit. We're going to focus on the Ising Model an a rectangular lattice with an arbitrary number of rows and columns. Here are some things to think about:\n",
    "\n",
    "1.   `cirq.GridQubit`s are natural because our qubits actually do live on a grid. Cirq does not care what kind of qubit you make, though.\n",
    "2.   It's a good idea to define separate functions to place the C and B layers for the circuit. Really these should be generators that yield the required gates.\n",
    "3.   You might consider wrapping everything inside a class. We won't do that here, but if you want to play around with different numbers of rows/columns or different numbers of B/C layers it can be convenient.\n",
    "\n",
    "First we'll define the basic paramters of our model and the generators for the different layers:\n"
   ]
  },
  {
   "cell_type": "code",
   "execution_count": 8,
   "metadata": {
    "id": "NPeFsF6yFvGr"
   },
   "outputs": [],
   "source": [
    "n_cols = 3\n",
    "n_rows = 3\n",
    "h = 0.5*np.ones((n_rows,n_cols))\n",
    "\n",
    "# Arranging the qubits in a list-of-lists like this makes them easy to refer to later.\n",
    "qubits = [[cirq.GridQubit(i,j) for j in range(n_cols)] for i in range(n_rows)]\n",
    "\n",
    "\n",
    "def beta_layer(beta):\n",
    "    \"\"\"Generator for U(beta, B) layer (mixing layer) of QAOA\"\"\"\n",
    "    for row in qubits:\n",
    "        for qubit in row:\n",
    "            yield cirq.X(qubit)**beta\n",
    "    \n",
    "def gamma_layer(gamma, h):\n",
    "    \"\"\"Generator for U(gamma, C) layer of QAOA\n",
    "\n",
    "    Args:\n",
    "    gamma: Float variational parameter for the circuit\n",
    "    h: Array of floats of external magnetic field values\n",
    "    \"\"\"\n",
    "    for i in range(n_rows):\n",
    "        for j in range(n_cols):\n",
    "            if i < n_rows-1:\n",
    "                yield cirq.ZZ(qubits[i][j], qubits[i+1][j])**gamma\n",
    "            if j < n_cols-1:\n",
    "                yield cirq.ZZ(qubits[i][j], qubits[i][j+1])**gamma\n",
    "            yield cirq.Z(qubits[i][j])**(gamma*h[i,j])"
   ]
  },
  {
   "cell_type": "markdown",
   "metadata": {
    "id": "M-3Tg-_dlOn0"
   },
   "source": [
    "Let's test these functions by constructing the circuit. Try making a circuit with different numbers of layers. How would you automatically make a circuit with a specified number of layers? Make sure the parameters of these layers are distinct `sympy.Symbol`s for later optimization. Print the circuit to see that it's doing what you want it to do."
   ]
  },
  {
   "cell_type": "code",
   "execution_count": 9,
   "metadata": {
    "id": "4ZmjE6pmtUoG"
   },
   "outputs": [
    {
     "name": "stdout",
     "output_type": "stream",
     "text": [
      "(0, 0): ───H───\n",
      "\n",
      "(0, 1): ───H───\n",
      "\n",
      "(0, 2): ───H───\n",
      "\n",
      "(1, 0): ───H───\n",
      "\n",
      "(1, 1): ───H───\n",
      "\n",
      "(1, 2): ───H───\n",
      "\n",
      "(2, 0): ───H───\n",
      "\n",
      "(2, 1): ───H───\n",
      "\n",
      "(2, 2): ───H───\n"
     ]
    }
   ],
   "source": [
    "qaoa = cirq.Circuit()\n",
    "qaoa.append(cirq.H.on_each(*[q for row in qubits for q in row]))\n",
    "# YOUR CODE HERE\n",
    "print(qaoa)"
   ]
  },
  {
   "cell_type": "markdown",
   "metadata": {
    "id": "VEAt5QZvtPu_"
   },
   "source": [
    "#### Solution"
   ]
  },
  {
   "cell_type": "markdown",
   "metadata": {
    "id": "7zWHPT1ktlUk"
   },
   "source": [
    "We'll just illustrate the solution for a single $C$ layer and a single $B$ layer."
   ]
  },
  {
   "cell_type": "code",
   "execution_count": 10,
   "metadata": {
    "id": "lHjIRxL13nXP"
   },
   "outputs": [
    {
     "name": "stdout",
     "output_type": "stream",
     "text": [
      "                                                ┌──────────────────┐               ┌──────────────────┐\n",
      "(0, 0): ───H───ZZ─────ZZ─────Z^(0.5*g)───X^b────────────────────────────────────────────────────────────────────────────────────────────\n",
      "               │      │\n",
      "(0, 1): ───H───┼──────ZZ^g───ZZ──────────ZZ──────Z^(0.5*g)─────────────X^b──────────────────────────────────────────────────────────────\n",
      "               │             │           │\n",
      "(0, 2): ───H───┼─────────────┼───────────ZZ^g────ZZ────────────────────Z^(0.5*g)────X^b─────────────────────────────────────────────────\n",
      "               │             │                   │\n",
      "(1, 0): ───H───ZZ^g───ZZ─────┼───────────ZZ──────┼────────Z^(0.5*g)────X^b──────────────────────────────────────────────────────────────\n",
      "                      │      │           │       │\n",
      "(1, 1): ───H──────────┼──────ZZ^g────────ZZ^g────┼────────ZZ───────────ZZ───────────Z^(0.5*g)─────────────X^b───────────────────────────\n",
      "                      │                          │        │            │\n",
      "(1, 2): ───H──────────┼──────────────────────────ZZ^g─────┼────────────ZZ^g─────────ZZ────────────────────Z^(0.5*g)───X^b───────────────\n",
      "                      │                                   │                         │\n",
      "(2, 0): ───H──────────ZZ^g────────────────────────────────┼────────────ZZ───────────┼────────Z^(0.5*g)────X^b───────────────────────────\n",
      "                                                          │            │            │\n",
      "(2, 1): ───H──────────────────────────────────────────────ZZ^g─────────ZZ^g─────────┼─────────────────────ZZ──────────Z^(0.5*g)───X^b───\n",
      "                                                                                    │                     │\n",
      "(2, 2): ───H────────────────────────────────────────────────────────────────────────ZZ^g──────────────────ZZ^g────────Z^(0.5*g)───X^b───\n",
      "                                                └──────────────────┘               └──────────────────┘\n"
     ]
    }
   ],
   "source": [
    "qaoa = cirq.Circuit()\n",
    "gamma = sympy.Symbol('g')\n",
    "beta = sympy.Symbol('b')\n",
    "qaoa.append(cirq.H.on_each(*[q for row in qubits for q in row]))\n",
    "qaoa.append(gamma_layer(gamma,h))\n",
    "qaoa.append(beta_layer(beta))\n",
    "print(qaoa)"
   ]
  },
  {
   "cell_type": "markdown",
   "metadata": {
    "id": "3HtlMxa6QpVo"
   },
   "source": [
    "### Define Expectation Value\n",
    "\n",
    "To train the QAOA circuit---that is, find the optimal values of the paramters---we're going to need to be able to compute the expectation value of the Ising Model energy. We'll do this within Cirq by defining an energy function. We'll divide the total energy by the number of qubits to keep the numbers under control, basically because we expect the energy to scale with the size of the system.\n",
    "\n",
    "If we were using real hardware, the only way to compute the expectation value of the energy would be to estimate it by sampling. Using the simulator we can alternatively compute the wavefunction and then get calculate the expectation value from that. Not only does this save us from having to worry about statistical error, it also tends to be faster that simulating the sampling process."
   ]
  },
  {
   "cell_type": "code",
   "execution_count": 11,
   "metadata": {
    "id": "-9etj1AeK6dG"
   },
   "outputs": [],
   "source": [
    "def energy_from_wavefunction(wf, h):\n",
    "    \"\"\"Computes the energy-per-site of the Ising Model directly from the\n",
    "    a given wavefunction. \n",
    "\n",
    "    Args:\n",
    "    wf: Array of size 2**(n_rows*n_cols) specifying the wavefunction.\n",
    "    h: Array of shape (n_rows, n_cols) giving the magnetic field values.\n",
    "\n",
    "    Returns:\n",
    "    energy: Float equal to the expectation value of the energy per site \n",
    "    \"\"\"\n",
    "\n",
    "    n_sites = n_rows*n_cols\n",
    "\n",
    "    # Z is an array of shape (n_sites, 2**n_sites). Each row consists of the \n",
    "    # 2**n_sites non-zero entries in the operator that is the Pauli-Z matrix on\n",
    "    # one of the qubits times the identites on the other qubits. The\n",
    "    # (i*n_cols + j)th row corresponds to qubit (i,j).\n",
    "    Z = np.array([(-1)**(np.arange(2**n_sites) >> i) for i in range(n_sites-1,-1,-1)])\n",
    "\n",
    "    # Create the operator corresponding to the interaction energy summed over all\n",
    "    # nearest-neighbor pairs of qubits\n",
    "    ZZ_filter = np.zeros_like(wf, dtype=float)\n",
    "    for i in range(n_rows):\n",
    "        for j in range(n_cols):\n",
    "            if i < n_rows-1:\n",
    "                ZZ_filter += Z[i*n_cols + j]*Z[(i+1)*n_cols + j]\n",
    "            if j < n_cols-1:\n",
    "                ZZ_filter += Z[i*n_cols + j]*Z[i*n_cols + (j+1)]\n",
    "\n",
    "    energy_operator = -ZZ_filter - h.reshape(n_sites).dot(Z)\n",
    "\n",
    "\n",
    "    # Expectation value of the energy divided by the number of sites\n",
    "    return np.sum(np.abs(wf)**2 * energy_operator) / n_sites"
   ]
  },
  {
   "cell_type": "markdown",
   "metadata": {
    "id": "fjFPEQuyvxjR"
   },
   "source": [
    "We'll also need a helper function that computes the expected value of the energy given some parameters of the QAOA."
   ]
  },
  {
   "cell_type": "code",
   "execution_count": 12,
   "metadata": {
    "id": "XOYLY_u5K7z0"
   },
   "outputs": [],
   "source": [
    "def energy_from_params(gamma, beta, qaoa, h):\n",
    "    sim = cirq.Simulator()\n",
    "    params = cirq.ParamResolver({'g':gamma, 'b':beta})\n",
    "    wf = sim.simulate(qaoa, param_resolver = params).final_state\n",
    "    return energy_from_wavefunction(wf, h)  "
   ]
  },
  {
   "cell_type": "markdown",
   "metadata": {
    "id": "r-CjbPwkRI_I"
   },
   "source": [
    "### Training\n",
    "\n",
    "Now we need to figure out the best values of $\\gamma$ and $\\beta$ by minimizing the expectation value of the energy. We'll start by doing a brute-force search of the parameter space for illustrative purposes:"
   ]
  },
  {
   "cell_type": "code",
   "execution_count": 13,
   "metadata": {
    "id": "hM2Zd_kTI578"
   },
   "outputs": [
    {
     "name": "stdout",
     "output_type": "stream",
     "text": [
      "CPU times: user 17.9 s, sys: 0 ns, total: 17.9 s\n",
      "Wall time: 17.9 s\n"
     ]
    }
   ],
   "source": [
    "%%time\n",
    "grid_size = 50\n",
    "gamma_max = 2\n",
    "beta_max = 2\n",
    "\n",
    "energies = np.zeros((grid_size,grid_size))\n",
    "for i in range(grid_size):\n",
    "    for j in range(grid_size):\n",
    "        energies[i,j] = energy_from_params(i*gamma_max/grid_size, j*beta_max/grid_size, qaoa, h)"
   ]
  },
  {
   "cell_type": "code",
   "execution_count": 14,
   "metadata": {
    "id": "AFP2Ofi0KTfq"
   },
   "outputs": [
    {
     "data": {
      "image/png": "[encoded data removed]",
      "text/plain": [
       "<Figure size 432x288 with 1 Axes>"
      ]
     },
     "metadata": {
      "needs_background": "light"
     },
     "output_type": "display_data"
    }
   ],
   "source": [
    "plt.ylabel('gamma')\n",
    "plt.xlabel('beta')\n",
    "plt.title('Energy as a Function of Parameters')\n",
    "plt.imshow(energies, extent=(0,beta_max,gamma_max,0));"
   ]
  },
  {
   "cell_type": "markdown",
   "metadata": {
    "id": "1pWhCblZASbb"
   },
   "source": [
    "By inspection we can see that the energy function has a number of interesting properties. First, note that the function is periodic in $\\beta$ and $\\gamma$ with shorter periods than one might naively expect given the definition of the gates. The details of why that's true will take us away from the main content of this Colab, but it's a good thing to understand so that the parameter space can be efficiently truncated.\n",
    "\n",
    "The other main thing to notice is that there are many local minima and maxima. This makes it challenging to use gradient-based methods for optimization. We'll see that explicitly next. Part of the challenge for algorithms of this type is finding efficient ways to optimize the paramters."
   ]
  },
  {
   "cell_type": "markdown",
   "metadata": {
    "id": "9MwLJ0LCC0un"
   },
   "source": [
    "#### Gradient Descent\n",
    "\n",
    "For practice let's try to minimize the expectation value of the energy using gradient descent. We know that there are local minima that we might get stuck in, depending on initialization, but it's still a worthwhile exercise.\n",
    "\n",
    "The first step is to define a function which approximates the gradient of the energy. We'll do this by symmetric difference, i.e., $f'(x) \\approx (f(x+\\epsilon)-f(x-\\epsilon))/(2\\epsilon)$. You should experiment with different values of $\\epsilon$ as well as different formulas for the gradient. "
   ]
  },
  {
   "cell_type": "code",
   "execution_count": 16,
   "metadata": {
    "id": "_Ge8sxrab6hV"
   },
   "outputs": [],
   "source": [
    "def gradient_energy(gamma, beta, qaoa, h):\n",
    "    \"\"\"Uses a symmetric difference to calulate the gradient.\"\"\"\n",
    "    eps = 10**-3 # Try different values of the discretization parameter\n",
    "\n",
    "    # Gamma-component of the gradient\n",
    "    grad_g = energy_from_params(gamma + eps, beta, qaoa, h)\n",
    "    grad_g -= energy_from_params(gamma - eps, beta, qaoa, h)\n",
    "    grad_g /= 2*eps\n",
    "\n",
    "    # Beta-compoonent of the gradient\n",
    "    grad_b = energy_from_params(gamma, beta + eps, qaoa, h)\n",
    "    grad_b -= energy_from_params(gamma, beta - eps, qaoa, h)\n",
    "    grad_b /= 2*eps  \n",
    "\n",
    "    return grad_g, grad_b"
   ]
  },
  {
   "cell_type": "markdown",
   "metadata": {
    "id": "xaRHKo2LDwdm"
   },
   "source": [
    "Now we'll implement a gradient descent algorithm that minimizes the energy. Note that it will get stuck in local minima depending on the initialization."
   ]
  },
  {
   "cell_type": "code",
   "execution_count": 17,
   "metadata": {
    "id": "BYcCDiYDB8ef"
   },
   "outputs": [
    {
     "name": "stdout",
     "output_type": "stream",
     "text": [
      "Step: 0 Energy: 0.3555179724197741\n",
      "Step: 25 Energy: -0.60656794301801\n",
      "Step: 50 Energy: -0.6068781974520839\n",
      "Step: 75 Energy: -0.6068778212318446\n",
      "Step: 100 Energy: -0.6068778804908308\n",
      "Step: 125 Energy: -0.6068782185651193\n",
      "Step: 150 Energy: -0.6068782066830509\n",
      "Learned gamma: 0.19753242844183583 Learned beta: 0.26843952111680774\n"
     ]
    }
   ],
   "source": [
    "gamma, beta = 0.2, 0.7 # Try different initializations\n",
    "eta = 10**-2 # Try adjusting the learning rate.\n",
    "for i in range(151):\n",
    "    grad_g, grad_b = gradient_energy(gamma, beta, qaoa, h)\n",
    "    gamma -= eta*grad_g\n",
    "    beta -= eta*grad_b\n",
    "    if not i%25:\n",
    "        print('Step: {} Energy: {}'.format(i, energy_from_params(gamma, beta, qaoa, h)))\n",
    "print('Learned gamma: {} Learned beta: {}'.format(gamma, beta, qaoa, h))"
   ]
  },
  {
   "cell_type": "markdown",
   "metadata": {
    "id": "6UpLOKeso7uo"
   },
   "source": [
    "### Results\n",
    "\n",
    "We've optimized our parameters. How well did we do?"
   ]
  },
  {
   "cell_type": "markdown",
   "metadata": {
    "id": "_Pv7GZX0EJdr"
   },
   "source": [
    "For a $3\\times 3$ grid we have $9$ qubits and $12$ interacting nearest-neighbor pairs. If all of the qubits are in the $|0\\rangle$ state or all are in the $|1\\rangle$ state, then the energy-per-qubit is $-12/9 = -1.33$ at zero external magnetic field $h$, and will be close to that if the magnetic field is small. Notice that the QAOA algorithm we analyzed above is __not__ getting close to that ground state. Is this a problem?\n",
    "\n",
    "Well, not really. The QAOA algorithm still succeeds if we can  find the ground state after a small numbe of measurements. The QAOA prepares a certain state which is a linear combination of the ground state and many other states. When we measure the qubits, we find the ground-state configuration with some probability. If that probability is relatively large, then after a reasonably small number of measurements we'll locate the ground state.\n",
    "\n",
    "Practically speaking, this means we should measure the state prepared by the QAOA several times and record the lowest-energy state we find. The QAOA can be successful by biasing these measurements toward the ground state, even if they do not produce the ground state with $100\\%$ probability"
   ]
  },
  {
   "cell_type": "markdown",
   "metadata": {
    "id": "9epP9VB8GGgD"
   },
   "source": [
    "Let's make a copy of our qaoa circuit for measurement purposes and attach a measurement gate to each qubit:"
   ]
  },
  {
   "cell_type": "code",
   "execution_count": 18,
   "metadata": {
    "id": "bIoIBl-aSjKE"
   },
   "outputs": [
    {
     "data": {
      "text/html": [
       "<pre style=\"overflow: auto; white-space: pre;\">                                                ┌──────────────────┐               ┌──────────────────┐\n",
       "(0, 0): ───H───ZZ─────ZZ─────Z^(0.5*g)───X^b────────────────────────────────────────────────────────────────────────────────────────────M('m')───\n",
       "               │      │                                                                                                                 │\n",
       "(0, 1): ───H───┼──────ZZ^g───ZZ──────────ZZ──────Z^(0.5*g)─────────────X^b──────────────────────────────────────────────────────────────M────────\n",
       "               │             │           │                                                                                              │\n",
       "(0, 2): ───H───┼─────────────┼───────────ZZ^g────ZZ────────────────────Z^(0.5*g)────X^b─────────────────────────────────────────────────M────────\n",
       "               │             │                   │                                                                                      │\n",
       "(1, 0): ───H───ZZ^g───ZZ─────┼───────────ZZ──────┼────────Z^(0.5*g)────X^b──────────────────────────────────────────────────────────────M────────\n",
       "                      │      │           │       │                                                                                      │\n",
       "(1, 1): ───H──────────┼──────ZZ^g────────ZZ^g────┼────────ZZ───────────ZZ───────────Z^(0.5*g)─────────────X^b───────────────────────────M────────\n",
       "                      │                          │        │            │                                                                │\n",
       "(1, 2): ───H──────────┼──────────────────────────ZZ^g─────┼────────────ZZ^g─────────ZZ────────────────────Z^(0.5*g)───X^b───────────────M────────\n",
       "                      │                                   │                         │                                                   │\n",
       "(2, 0): ───H──────────ZZ^g────────────────────────────────┼────────────ZZ───────────┼────────Z^(0.5*g)────X^b───────────────────────────M────────\n",
       "                                                          │            │            │                                                   │\n",
       "(2, 1): ───H──────────────────────────────────────────────ZZ^g─────────ZZ^g─────────┼─────────────────────ZZ──────────Z^(0.5*g)───X^b───M────────\n",
       "                                                                                    │                     │                             │\n",
       "(2, 2): ───H────────────────────────────────────────────────────────────────────────ZZ^g──────────────────ZZ^g────────Z^(0.5*g)───X^b───M────────\n",
       "                                                └──────────────────┘               └──────────────────┘</pre>"
      ],
      "text/plain": [
       "                                                ┌──────────────────┐               ┌──────────────────┐\n",
       "(0, 0): ───H───ZZ─────ZZ─────Z^(0.5*g)───X^b────────────────────────────────────────────────────────────────────────────────────────────M('m')───\n",
       "               │      │                                                                                                                 │\n",
       "(0, 1): ───H───┼──────ZZ^g───ZZ──────────ZZ──────Z^(0.5*g)─────────────X^b──────────────────────────────────────────────────────────────M────────\n",
       "               │             │           │                                                                                              │\n",
       "(0, 2): ───H───┼─────────────┼───────────ZZ^g────ZZ────────────────────Z^(0.5*g)────X^b─────────────────────────────────────────────────M────────\n",
       "               │             │                   │                                                                                      │\n",
       "(1, 0): ───H───ZZ^g───ZZ─────┼───────────ZZ──────┼────────Z^(0.5*g)────X^b──────────────────────────────────────────────────────────────M────────\n",
       "                      │      │           │       │                                                                                      │\n",
       "(1, 1): ───H──────────┼──────ZZ^g────────ZZ^g────┼────────ZZ───────────ZZ───────────Z^(0.5*g)─────────────X^b───────────────────────────M────────\n",
       "                      │                          │        │            │                                                                │\n",
       "(1, 2): ───H──────────┼──────────────────────────ZZ^g─────┼────────────ZZ^g─────────ZZ────────────────────Z^(0.5*g)───X^b───────────────M────────\n",
       "                      │                                   │                         │                                                   │\n",
       "(2, 0): ───H──────────ZZ^g────────────────────────────────┼────────────ZZ───────────┼────────Z^(0.5*g)────X^b───────────────────────────M────────\n",
       "                                                          │            │            │                                                   │\n",
       "(2, 1): ───H──────────────────────────────────────────────ZZ^g─────────ZZ^g─────────┼─────────────────────ZZ──────────Z^(0.5*g)───X^b───M────────\n",
       "                                                                                    │                     │                             │\n",
       "(2, 2): ───H────────────────────────────────────────────────────────────────────────ZZ^g──────────────────ZZ^g────────Z^(0.5*g)───X^b───M────────\n",
       "                                                └──────────────────┘               └──────────────────┘"
      ]
     },
     "execution_count": 18,
     "metadata": {},
     "output_type": "execute_result"
    }
   ],
   "source": [
    "measurement_circuit = qaoa.copy()\n",
    "measurement_circuit.append(cirq.measure(*[qubit for row in qubits for qubit in row],key='m'))\n",
    "measurement_circuit"
   ]
  },
  {
   "cell_type": "markdown",
   "metadata": {
    "id": "_OOqzrQwGTJZ"
   },
   "source": [
    "Now we'll instantiate a simulator and measure the output of the circuit repeatedly:"
   ]
  },
  {
   "cell_type": "code",
   "execution_count": 19,
   "metadata": {
    "id": "KbIu8eyNSK_t"
   },
   "outputs": [],
   "source": [
    "num_reps = 10**3 # Try different numbers of repetitions\n",
    "gamma, beta = 0.2,0.25 # Try different values of the parameters\n",
    "simulator = cirq.Simulator()\n",
    "params = cirq.ParamResolver({'g':gamma, 'b':beta})\n",
    "result = simulator.run(measurement_circuit, param_resolver = params, repetitions=num_reps)"
   ]
  },
  {
   "cell_type": "markdown",
   "metadata": {
    "id": "EudMLjzNGadh"
   },
   "source": [
    "Finally, we'll compute the energy for each of our measurement outcoems and look at the statistics. We start with a helper function which calculates the energy given a set of measurement outcomes:"
   ]
  },
  {
   "cell_type": "code",
   "execution_count": 20,
   "metadata": {
    "id": "Oa6kAObJTZRi"
   },
   "outputs": [],
   "source": [
    "def compute_energy(meas, h):\n",
    "    Z_vals = 1-2*meas.reshape(n_rows,n_cols)\n",
    "    energy = 0\n",
    "    for i in range(n_rows):\n",
    "        for j in range(n_cols):\n",
    "            if i < n_rows-1:\n",
    "                energy -= Z_vals[i, j]*Z_vals[i+1, j]\n",
    "            if j < n_cols-1:\n",
    "                energy -= Z_vals[i, j]*Z_vals[i, j+1]\n",
    "            energy -= h[i,j]*Z_vals[i,j]\n",
    "    return energy/(n_rows*n_cols)"
   ]
  },
  {
   "cell_type": "markdown",
   "metadata": {
    "id": "kkUl5LYnG7E7"
   },
   "source": [
    "Now consider the 10 most common outputs of our measurements, and compute the energies of those:"
   ]
  },
  {
   "cell_type": "code",
   "execution_count": 21,
   "metadata": {
    "id": "t2SHZj_-TTFS"
   },
   "outputs": [],
   "source": [
    "hist = result.histogram(key='m')\n",
    "num = 10\n",
    "probs = [v/result.repetitions for _,v in hist.most_common(num)]\n",
    "configs = [c for c,_ in hist.most_common(num)]"
   ]
  },
  {
   "cell_type": "code",
   "execution_count": 22,
   "metadata": {
    "id": "6-jbvrc_WOgP"
   },
   "outputs": [
    {
     "data": {
      "image/png": "[encoded data removed]",
      "text/plain": [
       "<Figure size 432x288 with 1 Axes>"
      ]
     },
     "metadata": {
      "needs_background": "light"
     },
     "output_type": "display_data"
    },
    {
     "data": {
      "image/png": "[encoded data removed]",
      "text/plain": [
       "<Figure size 432x288 with 1 Axes>"
      ]
     },
     "metadata": {
      "needs_background": "light"
     },
     "output_type": "display_data"
    },
    {
     "name": "stdout",
     "output_type": "stream",
     "text": [
      "Fraction of outputs displayed: 0.26\n"
     ]
    }
   ],
   "source": [
    "plt.title('Probability of {} Most Common Outputs'.format(num))\n",
    "plt.bar([x for x in range(len(probs))],probs)\n",
    "plt.show()\n",
    "meas = [[int(s) for s in ''.join([str(b) for b in bin(k)[2:]]).zfill(n_rows*n_cols)] for k in configs]\n",
    "costs = [compute_energy(np.array(m), h) for m in meas]\n",
    "plt.title('Energy of {} Most Common Outputs'.format(num))\n",
    "plt.bar([x for x in range(len(costs))],costs)\n",
    "plt.show()\n",
    "print('Fraction of outputs displayed: {}'.format(np.sum(probs).round(2)))"
   ]
  },
  {
   "cell_type": "markdown",
   "metadata": {
    "id": "4gj23-BnHEtS"
   },
   "source": [
    "We see that, for a good choice of $\\gamma$ and $\\beta$, ground state is the most probable outcome.\n",
    "\n",
    "Try changing the values of $\\gamma$ and $\\beta$ away from the optimal ones. You'll see that this experiment no longer finds the ground state for us."
   ]
  },
  {
   "cell_type": "markdown",
   "metadata": {
    "id": "iIUkW0w4FGfa"
   },
   "source": [
    "### Exercise: Experiment with Different Numbers of Layers\n",
    "See if you can get a closer to the true ground state (i.e., a larger fraction of measurements yielding the minimal energy) by adding more layers to the circuit."
   ]
  },
  {
   "cell_type": "markdown",
   "metadata": {
    "id": "9JRyH-WDVfMp"
   },
   "source": [
    "### Exercise: Try Ising Model on a different graph, or With Different Interaction Strengths\n",
    "Instead of a square lattice, you can try to formulate the Ising Model on any graph you like. This just changes which qubits you link in the $U(\\gamma, C)$ layer. Each edge of the graph could also come with a different interaction coefficient, so that instead of $\\exp(i\\pi \\gamma Z_iZ_j/2)$ for that edge you would have $\\exp(i\\pi \\gamma J_{ij}Z_iZ_j/2)$ for some matrix $J_{ij}$ of coefficients. Note that you have to change both the $U(\\gamma, C)$ layer and the definition of the energy function to make this work."
   ]
  },
  {
   "cell_type": "markdown",
   "metadata": {
    "id": "--aUfkiaUb3S"
   },
   "source": [
    "### Exercise: Repeat Using Sampling\n",
    "\n",
    "On real hardware we need to use sampling to estimate expectation values.\n",
    "\n",
    "Adjust your code so that sampling is used instead of wavefunction evaluation.\n",
    "\n",
    "How many samples do you need to take to get good results? Try different values.\n"
   ]
  },
  {
   "cell_type": "markdown",
   "metadata": {
    "id": "klGsAVyNtxl2"
   },
   "source": [
    "### Exercise: Transverse field Ising Model\n",
    "The Ising Model with transverse field replaces the $\\sum h_i Z_i$ term with a $\\sum h_i X_i$ term. Can we use the QAOA here as well? What are the differences?\n",
    "This is no longer a classical problem: in general the ground state will now be a superposition of elements of the computational basis. Can you make a circuit that prepares a state close to the gound state?\n"
   ]
  }
 ],
 "metadata": {
  "colab": {
   "collapsed_sections": [],
   "name": "qaoa_ising.ipynb",
   "toc_visible": true
  },
  "kernelspec": {
   "display_name": "Python 3",
   "name": "python3"
  }
 },
 "nbformat": 4,
 "nbformat_minor": 0
}
