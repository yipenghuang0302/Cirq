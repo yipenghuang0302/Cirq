{
  "nbformat": 4,
  "nbformat_minor": 0,
  "metadata": {
    "colab": {
      "name": "reservations.ipynb",
      "provenance": [],
      "collapsed_sections": []
    },
    "kernelspec": {
      "name": "python3",
      "display_name": "Python 3"
    },
    "nbsphinx": {
      "execute": "never",
      "orphan": true
    }
  },
  "cells": [
    {
      "cell_type": "markdown",
      "metadata": {
        "id": "D1o2qv7Ha1IT",
        "colab_type": "text"
      },
      "source": [
        "# Quantum Engine Reservation Utility\n",
        "\n",
        "This Colab provides canned interactions with Cirq to manage a project's reservations on the Quantum Engine.\n",
        "\n",
        "For information on how to download a colab from github, see [these instructions](colab.ipynb).  You can also [view this file](https://github.com/quantumlib/Cirq/blob/master/docs/tutorials/google/reservations.ipynb) or download the [raw content](https://raw.githubusercontent.com/quantumlib/Cirq/master/docs/tutorials/google/reservations.ipynb) of this content from Github."
      ]
    },
    {
      "cell_type": "markdown",
      "metadata": {
        "id": "7z1RYfLob8dW",
        "colab_type": "text"
      },
      "source": [
        "## Configure.\n",
        "Choose the project to manage, autheticate, and install the necessary tools."
      ]
    },
    {
      "cell_type": "code",
      "metadata": {
        "id": "YoqI9GrOPExP",
        "colab_type": "code",
        "cellView": "form",
        "colab": {}
      },
      "source": [
        "def setup_auth():\n",
        "  \"\"\"Runs the user through the Colab OAuth process to set the local Application\n",
        "  Default Credentials.\n",
        "  \n",
        "  For more information on on using Application Default Credentials see \n",
        "  https://cloud.google.com/docs/authentication/production\n",
        "  \"\"\"\n",
        "  from google.colab import auth\n",
        "  auth.authenticate_user(clear_output=False)\n",
        "\n",
        "print(\"Getting OAuth2 credentials.\")\n",
        "print(\"Press enter after entering the verification code.\")\n",
        "setup_auth()\n",
        "print(\"Installing cirq.\")\n",
        "#!pip install cirq\n",
        "!pip install git+https://github.com/quantumlib/cirq.git --quiet\n",
        "\n",
        "import cirq\n",
        "from cirq.google.engine.client.quantum_v1alpha1.gapic import enums\n",
        "\n",
        "# The Google Cloud Project id to use.\n",
        "project_id = '' #@param {type:\"string\"}\n",
        "# The processor to view.\n",
        "processor_id = 'mcgee' #@param ['rainbow', 'pacific', 'mcgee']\n",
        "# The local time zone.\n",
        "time_zone = 'America/Los_Angeles'  #@param {type:\"string\"}\n",
        "\n",
        "engine = cirq.google.Engine(project_id, proto_version=cirq.google.ProtoVersion.V2)\n",
        "processor = engine.get_processor(processor_id)\n",
        "\n",
        "import datetime\n",
        "import pytz\n",
        "tz = pytz.timezone(time_zone)\n",
        "now = tz.localize(datetime.datetime.now())\n",
        "\n",
        "def date_string(timestamp):\n",
        "  if timestamp.seconds < 0:\n",
        "    return 'Beginning of time'\n",
        "  if timestamp.seconds > 4771848621:\n",
        "    return 'End of time'\n",
        "  time = datetime.datetime.fromtimestamp(timestamp.seconds).astimezone(tz)\n",
        "  return time.strftime('%Y-%m-%d %H:%M:%S')\n",
        "  \n",
        "def delta(start, end):\n",
        "  if start.seconds < 0 or end.seconds > 5000000000:\n",
        "    return \"∞\"\n",
        "  return \"{} hrs\".format((end.seconds - start.seconds) / (60 * 60))\n",
        "\n",
        "def time_slot_string(time_slot):\n",
        "  start = date_string(time_slot.start_time)\n",
        "  end = date_string(time_slot.end_time)\n",
        "  slot_type = cirq.google.engine.client.quantum_v1alpha1.types.QuantumTimeSlot.TimeSlotType.Name(time_slot.slot_type)\n",
        "  slot_string = \"{} to {} ({}) - {}\".format(start, end, delta(time_slot.start_time, time_slot.end_time), slot_type)\n",
        "  if time_slot.HasField('reservation_config'):\n",
        "    return \"{} for {}\".format(slot_string, time_slot.reservation_config.project_id) \n",
        "  if time_slot.HasField('maintenance_config'):\n",
        "    return \"{} {} - {}\".format(slot_string, time_slot.maintenance_config.title, time_slot.maintenance_config.description) \n",
        "  return slot_string\n",
        "\n",
        "def reservation_string(reservation):\n",
        "  start = date_string(reservation.start_time)\n",
        "  end = date_string(reservation.end_time)\n",
        "  id = reservation.name.split('/reservations/')[1]\n",
        "  reservation_string = \"{} to {} ({}) - {}\".format(start, end, delta(reservation.start_time, reservation.end_time), id)\n",
        "  if len(reservation.whitelisted_users) > 0:\n",
        "    return \"{} {}\".format(reservation_string, reservation.whitelisted_users)\n",
        "  return reservation_string \n",
        "\n",
        "print(\"============================\")\n",
        "print(\"Runtime setup completed\")"
      ],
      "execution_count": null,
      "outputs": []
    },
    {
      "cell_type": "markdown",
      "metadata": {
        "id": "riEmJXOCi5lK",
        "colab_type": "text"
      },
      "source": [
        "# Checkout the upcoming schedule"
      ]
    },
    {
      "cell_type": "code",
      "metadata": {
        "colab_type": "code",
        "cellView": "form",
        "id": "hFsclRLBwrpr",
        "colab": {}
      },
      "source": [
        "#@title\n",
        "schedule = processor.get_schedule()\n",
        "for s in schedule:\n",
        "  print(time_slot_string(s))"
      ],
      "execution_count": null,
      "outputs": []
    },
    {
      "cell_type": "markdown",
      "metadata": {
        "colab_type": "text",
        "id": "q0ud21aowieD"
      },
      "source": [
        "## Find available time."
      ]
    },
    {
      "cell_type": "code",
      "metadata": {
        "id": "pNGFoBMm1TgK",
        "colab_type": "code",
        "cellView": "form",
        "colab": {}
      },
      "source": [
        "#@title\n",
        "schedule = processor.get_schedule()\n",
        "unallocated = list(filter(lambda t: t.slot_type == enums.QuantumTimeSlot.TimeSlotType.UNALLOCATED, schedule))\n",
        "for s in unallocated:\n",
        "  print(time_slot_string(s))\n",
        "\n",
        "if len(unallocated) == 0:\n",
        "  print(\"No available time slots\")"
      ],
      "execution_count": null,
      "outputs": []
    },
    {
      "cell_type": "markdown",
      "metadata": {
        "id": "PH5HPWIilgHk",
        "colab_type": "text"
      },
      "source": [
        "# List upcoming reservations for the project"
      ]
    },
    {
      "cell_type": "code",
      "metadata": {
        "id": "xLahT_dblq-j",
        "colab_type": "code",
        "cellView": "form",
        "colab": {}
      },
      "source": [
        "#@title\n",
        "reservations = processor.list_reservations()\n",
        "\n",
        "for r in reservations:\n",
        "  print(reservation_string(r))"
      ],
      "execution_count": null,
      "outputs": []
    },
    {
      "cell_type": "markdown",
      "metadata": {
        "id": "nTjE4odUs5xL",
        "colab_type": "text"
      },
      "source": [
        "# Reserve time."
      ]
    },
    {
      "cell_type": "code",
      "metadata": {
        "colab_type": "code",
        "id": "AB4DbjPbuk7E",
        "cellView": "form",
        "colab": {}
      },
      "source": [
        "#@markdown Create a new reservation for the given start date and time with the given duration in hours.\n",
        "start_date_picker = \"2020-07-30\" #@param {type:\"date\"}\n",
        "start_time = \"12\" #@param [0,1,2,3,4,5,6,7,8,9,10,11,12,13,14,15,16,17,18,19,20,21,22,23]\n",
        "hours =  2#@param {type:\"integer\"}\n",
        "#@markdown Comma-separated email addresses of any additional users to explicitly whitelist for the reservation.\n",
        "whitelist_user_emails = \"\" #@param {type:\"string\"}\n",
        "\n",
        "start_time_naive = datetime.datetime.strptime(\"{} {}\".format(start_date_picker, start_time), '%Y-%m-%d %H')\n",
        "start_time = tz.localize(start_time_naive)\n",
        "end_time = start_time + datetime.timedelta(hours=hours)\n",
        "\n",
        "print(reservation_string(processor.create_reservation(start_time=start_time,\n",
        "                                   end_time=end_time,\n",
        "                                   whitelisted_users=[e.strip() for e in whitelist_user_emails.split(',') if e])))"
      ],
      "execution_count": null,
      "outputs": []
    },
    {
      "cell_type": "markdown",
      "metadata": {
        "id": "ECCLMU4Bu-aF",
        "colab_type": "text"
      },
      "source": [
        "# Update reservation time."
      ]
    },
    {
      "cell_type": "code",
      "metadata": {
        "id": "DJdEDa_kvDlo",
        "colab_type": "code",
        "cellView": "form",
        "colab": {}
      },
      "source": [
        "#@markdown Update the deatils of an existing reservation. _You can find the `reservation_id` by listing your reservations or checking the output when you create a new reservation._\n",
        "reservation_id = \"\" #@param {type:\"string\"}\n",
        "start_date_picker = \"2020-03-27\" #@param {type:\"date\"}\n",
        "start_time = \"12\" #@param [0,1,2,3,4,5,6,7,8,9,10,11,12,13,14,15,16,17,18,19,20,21,22,23]\n",
        "hours =  2#@param {type:\"integer\"}\n",
        "\n",
        "start_time_naive = datetime.datetime.strptime(\"{} {}\".format(start_date_picker, start_time), '%Y-%m-%d %H')\n",
        "start_time = tz.localize(start_time_naive)\n",
        "end_time = start_time + datetime.timedelta(hours=hours)\n",
        "\n",
        "print(reservation_string(processor.update_reservation(reservation_id=reservation_id,\n",
        "                                   start_time=start_time,\n",
        "                                   end_time=end_time)))"
      ],
      "execution_count": null,
      "outputs": []
    },
    {
      "cell_type": "markdown",
      "metadata": {
        "colab_type": "text",
        "id": "zFi797gdyFuJ"
      },
      "source": [
        "# Update reservation whitelisted users."
      ]
    },
    {
      "cell_type": "code",
      "metadata": {
        "colab_type": "code",
        "id": "8HlzMB2nyIP7",
        "cellView": "form",
        "colab": {}
      },
      "source": [
        "#@markdown Update the deatils of an existing reservation. _You can find the `reservation_id` by listing your reservations or checking the output when you create a new reservation._\n",
        "reservation_id = \"\" #@param {type:\"string\"}\n",
        "#@markdown Comma-separated email addresses of any additional users to explicitly whitelist for the reservation.\n",
        "whitelisted_user_emails = \"\" #@param {type:\"string\"}\n",
        "\n",
        "print(reservation_string(processor.update_reservation(reservation_id=reservation_id,\n",
        "                                   whitelisted_users=[e.strip() for e in whitelisted_user_emails.split(',') if e])))"
      ],
      "execution_count": null,
      "outputs": []
    },
    {
      "cell_type": "markdown",
      "metadata": {
        "id": "RFx1yhDYtOuJ",
        "colab_type": "text"
      },
      "source": [
        "# Remove reservation."
      ]
    },
    {
      "cell_type": "code",
      "metadata": {
        "id": "qvqIyUGBv3Hy",
        "colab_type": "code",
        "cellView": "form",
        "colab": {}
      },
      "source": [
        "#@markdown Delete a specific reservation as long as it is outside the schedule freeze. Inside the schedule freeze period reservations are cancelled instead.\n",
        "reservation_id = \"\" #@param {type:\"string\"}\n",
        "\n",
        "processor.remove_reservation(reservation_id)"
      ],
      "execution_count": null,
      "outputs": []
    }
  ]
}
