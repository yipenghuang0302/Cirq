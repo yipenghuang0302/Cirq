{
  "nbformat": 4,
  "nbformat_minor": 0,
  "metadata": {
    "kernelspec": {
      "display_name": "Python 3",
      "language": "python",
      "name": "python3"
    },
    "language_info": {
      "codemirror_mode": {
        "name": "ipython",
        "version": 3
      },
      "file_extension": ".py",
      "mimetype": "text/x-python",
      "name": "python",
      "nbconvert_exporter": "python",
      "pygments_lexer": "ipython3",
      "version": "3.7.5"
    },
    "colab": {
      "name": "circuits.ipynb",
      "provenance": [],
      "collapsed_sections": []
    }
  },
  "cells": [
    {
      "cell_type": "markdown",
      "metadata": {
        "id": "doUaJJGSAwCO",
        "colab_type": "text"
      },
      "source": [
        "# Circuits\n",
        "\n",
        "## Conceptual Overview\n",
        "\n",
        "The primary representation of quantum programs in Cirq is the `Circuit` class. A `Circuit` is a collection of `Moments`. A `Moment` is a collection of `Operations` that all act during the same abstract time slice. An `Operation` is a some effect that operates on a specific subset of Qubits, the most common type of `Operation` is a `GateOperation`.\n",
        "\n"
      ]
    },
    {
      "cell_type": "markdown",
      "metadata": {
        "id": "77zB_UqkAwCR",
        "colab_type": "text"
      },
      "source": [
        "![Circuits and Moments](https://cirq.readthedocs.io/en/stable/_images/CircuitMomentOperation.png)"
      ]
    },
    {
      "cell_type": "markdown",
      "metadata": {
        "id": "uB8cQJ0PAwCT",
        "colab_type": "text"
      },
      "source": [
        "Let's unpack this.\n",
        "\n",
        "At the base of this construction is the notion of a qubit. In Cirq, qubits and other quantum objects are identified by instances of subclasses of the Qid base class. Different subclasses of Qid can be used for different purposes. For example, the qubits that Google’s Xmon devices use are often arranged on the vertices of a square grid. For this, the class GridQubit subclasses Qid. For example, we can create a 3 by 3 grid of qubits using"
      ]
    },
    {
      "cell_type": "code",
      "metadata": {
        "id": "G30Zl1VwAwCU",
        "colab_type": "code",
        "colab": {},
        "outputId": "1b173023-70ca-443b-cbc2-de7f160199b3"
      },
      "source": [
        "import cirq\n",
        "qubits = [cirq.GridQubit(x, y) for x in range(3) for y in range(3)]\n",
        "\n",
        "print(qubits[0])"
      ],
      "execution_count": 0,
      "outputs": [
        {
          "output_type": "stream",
          "text": [
            "(0, 0)\n"
          ],
          "name": "stdout"
        }
      ]
    },
    {
      "cell_type": "markdown",
      "metadata": {
        "id": "gpi9rwuiAwCZ",
        "colab_type": "text"
      },
      "source": [
        "The next level up is the notion of a `Gate`. A `Gate` represents a physical process that occurs on a `Qubit`. The important property of a `Gate` is that it can be applied to one or more qubits. This can be done via the `Gate.on` method itself or via `()`, and doing this turns the `Gate` into a `GateOperation`."
      ]
    },
    {
      "cell_type": "code",
      "metadata": {
        "id": "-X_LL4_nAwCa",
        "colab_type": "code",
        "colab": {},
        "outputId": "8766c233-6f9a-4bd7-fff7-7e9a16e6b5fe"
      },
      "source": [
        "# This is an Pauli X gate. It is an object instance.\n",
        "x_gate = cirq.X\n",
        "# Applying it to the qubit at location (0, 0) (defined above)\n",
        "# turns it into an operation.\n",
        "x_op = x_gate(qubits[0])\n",
        "\n",
        "print(x_op)"
      ],
      "execution_count": 0,
      "outputs": [
        {
          "output_type": "stream",
          "text": [
            "X((0, 0))\n"
          ],
          "name": "stdout"
        }
      ]
    },
    {
      "cell_type": "markdown",
      "metadata": {
        "id": "0N7X3nmFAwCd",
        "colab_type": "text"
      },
      "source": [
        "A `Moment` is simply a collection of operations, each of which operates on a different set of qubits, and which conceptually represents these operations as occurring during this abstract time slice. The `Moment` structure itself is not required to be related to the actual scheduling of the operations on a quantum computer, or via a simulator, though it can be. For example, here is a `Moment` in which **Pauli** `X` and a `CZ` gate operate on three qubits:"
      ]
    },
    {
      "cell_type": "code",
      "metadata": {
        "id": "naO0-nS0AwCe",
        "colab_type": "code",
        "colab": {},
        "outputId": "3d6f1f15-066b-4c4b-949b-5d7a394a7629"
      },
      "source": [
        "cz = cirq.CZ(qubits[0], qubits[1])\n",
        "x = cirq.X(qubits[2])\n",
        "moment = cirq.Moment([x, cz])\n",
        "\n",
        "print(moment)"
      ],
      "execution_count": 0,
      "outputs": [
        {
          "output_type": "stream",
          "text": [
            "X((0, 2)) and CZ((0, 0), (0, 1))\n"
          ],
          "name": "stdout"
        }
      ]
    },
    {
      "cell_type": "markdown",
      "metadata": {
        "id": "8TxICnXCAwCh",
        "colab_type": "text"
      },
      "source": [
        "The above is not the only way one can construct moments, nor even the typical method, but illustrates that a `Moment` is just a collection of operations on disjoint sets of qubits.\n",
        "\n",
        "Finally, at the top level a `Circuit` is an ordered series of `Moment` objects. The first `Moment` in this series contains the first `Operations that will be applied. Here, for example, is a simple circuit made up of two moments:"
      ]
    },
    {
      "cell_type": "code",
      "metadata": {
        "id": "W7ToOyp9AwCi",
        "colab_type": "code",
        "colab": {},
        "outputId": "b3a33883-e1d1-4f1f-e617-bf185da696ef"
      },
      "source": [
        "cz01 = cirq.CZ(qubits[0], qubits[1])\n",
        "x2 = cirq.X(qubits[2])\n",
        "cz12 = cirq.CZ(qubits[1], qubits[2])\n",
        "moment0 = cirq.Moment([cz01, x2])\n",
        "moment1 = cirq.Moment([cz12])\n",
        "circuit = cirq.Circuit((moment0, moment1))\n",
        "\n",
        "print(circuit)"
      ],
      "execution_count": 0,
      "outputs": [
        {
          "output_type": "stream",
          "text": [
            "(0, 0): ───@───────\n",
            "           │\n",
            "(0, 1): ───@───@───\n",
            "               │\n",
            "(0, 2): ───X───@───\n"
          ],
          "name": "stdout"
        }
      ]
    },
    {
      "cell_type": "markdown",
      "metadata": {
        "id": "YMXONr0SAwCl",
        "colab_type": "text"
      },
      "source": [
        "Note that the above is one of the many ways to construct a `Circuit`, which illustrates the concept that a `Circuit` is an iterable of `Moment` objects."
      ]
    },
    {
      "cell_type": "markdown",
      "metadata": {
        "id": "93Wlr_HjAwCm",
        "colab_type": "text"
      },
      "source": [
        "## Constructing circuits\n",
        "\n",
        "Constructing Circuits as a series of `Moment` objects, with each `Moment` being hand-crafted, is tedious. Instead, we provide a variety of different ways to create a `Circuit`.\n",
        "\n",
        "One of the most useful ways to construct a `Circuit` is by appending onto the `Circuit` with the `Circuit.append` method.\n"
      ]
    },
    {
      "cell_type": "code",
      "metadata": {
        "id": "7xtjmYzKAwCn",
        "colab_type": "code",
        "colab": {},
        "outputId": "36353281-8b5d-49d3-d3ea-8ae1b98a485a"
      },
      "source": [
        "from cirq.ops import CZ, H\n",
        "q0, q1, q2 = [cirq.GridQubit(i, 0) for i in range(3)]\n",
        "circuit = cirq.Circuit()\n",
        "circuit.append([CZ(q0, q1), H(q2)])\n",
        "\n",
        "print(circuit)"
      ],
      "execution_count": 0,
      "outputs": [
        {
          "output_type": "stream",
          "text": [
            "(0, 0): ───@───\n",
            "           │\n",
            "(1, 0): ───@───\n",
            "\n",
            "(2, 0): ───H───\n"
          ],
          "name": "stdout"
        }
      ]
    },
    {
      "cell_type": "markdown",
      "metadata": {
        "id": "CKuRApDeAwCp",
        "colab_type": "text"
      },
      "source": [
        "This appended a new moment to the qubit, which we can continue to do:"
      ]
    },
    {
      "cell_type": "code",
      "metadata": {
        "id": "HO8WYyU9AwCq",
        "colab_type": "code",
        "colab": {},
        "outputId": "afb0cef5-12f9-44e7-df28-76629882d57f"
      },
      "source": [
        "circuit.append([H(q0), CZ(q1, q2)])\n",
        "\n",
        "print(circuit)"
      ],
      "execution_count": 0,
      "outputs": [
        {
          "output_type": "stream",
          "text": [
            "(0, 0): ───@───H───\n",
            "           │\n",
            "(1, 0): ───@───@───\n",
            "               │\n",
            "(2, 0): ───H───@───\n"
          ],
          "name": "stdout"
        }
      ]
    },
    {
      "cell_type": "markdown",
      "metadata": {
        "id": "8HNpFd0UAwCs",
        "colab_type": "text"
      },
      "source": [
        "In these two examples, we appended full moments, what happens when we append all of these at once?"
      ]
    },
    {
      "cell_type": "code",
      "metadata": {
        "id": "Q3qzMlQmAwCt",
        "colab_type": "code",
        "colab": {},
        "outputId": "beedeb10-103d-45e7-9acc-d92d921a25b7"
      },
      "source": [
        "circuit = cirq.Circuit()\n",
        "circuit.append([CZ(q0, q1), H(q2), H(q0), CZ(q1, q2)])\n",
        "\n",
        "print(circuit)"
      ],
      "execution_count": 0,
      "outputs": [
        {
          "output_type": "stream",
          "text": [
            "(0, 0): ───@───H───\n",
            "           │\n",
            "(1, 0): ───@───@───\n",
            "               │\n",
            "(2, 0): ───H───@───\n"
          ],
          "name": "stdout"
        }
      ]
    },
    {
      "cell_type": "markdown",
      "metadata": {
        "id": "OQX8FTMyAwCw",
        "colab_type": "text"
      },
      "source": [
        "We see that here we have again created two `Moment` objects. How did `Circuit` know how to do this? `Circuit`'s `Circuit.append` method (and its cousin, `Circuit.insert`) both take an argument called the `InsertStrategy`. By default, `InsertStrategy` is `InsertStrategy.NEW_THEN_INLINE`."
      ]
    },
    {
      "cell_type": "markdown",
      "metadata": {
        "id": "2t7qgbPkAwCx",
        "colab_type": "text"
      },
      "source": [
        "### InsertStrategies\n",
        "\n",
        "`InsertStrategy` defines how `Operations` are placed in a `Circuit` when requested to be inserted at a given location. Here, a location is identified by the index of the `Moment` (in the `Circuit`) where the insertion is requested to be placed at (in the case of `Circuit.append`, this means inserting at the `Moment`, at an index one greater than the maximum moment index in the `Circuit`). \n",
        "\n",
        "There are four such strategies: `InsertStrategy.EARLIEST`, `InsertStrategy.NEW`, `InsertStrategy.INLINE` and `InsertStrategy.NEW_THEN_INLINE`.\n",
        "\n",
        "`InsertStrategy.EARLIEST` is defined as:\n",
        "\n",
        "*Scans backward from the insert location until a moment with operations touching qubits affected by the operation to insert is found. The operation is added to the moment just after that location.*\n",
        "\n",
        "For example, if we first create an `Operation` in a single moment, and then use `InsertStrategy.EARLIEST`, `Operation` can slide back to this first ` Moment` if there is space:"
      ]
    },
    {
      "cell_type": "code",
      "metadata": {
        "id": "Hd5IGmQrAwCx",
        "colab_type": "code",
        "colab": {},
        "outputId": "deb3e447-fd7c-4bb5-8126-fe6d8ddb6849"
      },
      "source": [
        "from cirq.circuits import InsertStrategy\n",
        "circuit = cirq.Circuit()\n",
        "circuit.append([CZ(q0, q1)])\n",
        "circuit.append([H(q0), H(q2)], strategy=InsertStrategy.EARLIEST)\n",
        "\n",
        "print(circuit)"
      ],
      "execution_count": 0,
      "outputs": [
        {
          "output_type": "stream",
          "text": [
            "(0, 0): ───@───H───\n",
            "           │\n",
            "(1, 0): ───@───────\n",
            "\n",
            "(2, 0): ───H───────\n"
          ],
          "name": "stdout"
        }
      ]
    },
    {
      "cell_type": "markdown",
      "metadata": {
        "id": "BGnlt-kPAwCz",
        "colab_type": "text"
      },
      "source": [
        "After creating the first moment with a `CZ` gate, the second append uses the `InsertStrategy.EARLIEST` strategy. The `H` on `q0` cannot slide back, while the `H` on `q2` can and so ends up in the first `Moment`.\n",
        "\n",
        "Contrast this with the `InsertStrategy.NEW` `InsertStrategy`:\n",
        "\n",
        "*Every operation that is inserted is created in a new moment.*"
      ]
    },
    {
      "cell_type": "code",
      "metadata": {
        "id": "Yupv8gQOAwC0",
        "colab_type": "code",
        "colab": {},
        "outputId": "8236fcc2-a1fe-4454-d47c-eb279ee18fc8"
      },
      "source": [
        "circuit = cirq.Circuit()\n",
        "circuit.append([H(q0), H(q1), H(q2)], strategy=InsertStrategy.NEW)\n",
        "\n",
        "print(circuit)"
      ],
      "execution_count": 0,
      "outputs": [
        {
          "output_type": "stream",
          "text": [
            "(0, 0): ───H───────────\n",
            "\n",
            "(1, 0): ───────H───────\n",
            "\n",
            "(2, 0): ───────────H───\n"
          ],
          "name": "stdout"
        }
      ]
    },
    {
      "cell_type": "markdown",
      "metadata": {
        "id": "F7ziPs17AwC2",
        "colab_type": "text"
      },
      "source": [
        "Here every operator processed by the append ends up in a new moment. `InsertStrategy.NEW` is most useful when you are inserting a single operation and do not want it to interfere with other `Moments`."
      ]
    },
    {
      "cell_type": "markdown",
      "metadata": {
        "id": "Ceb0nBxeAwC3",
        "colab_type": "text"
      },
      "source": [
        "Another strategy is `InsertStrategy.INLINE`:"
      ]
    },
    {
      "cell_type": "markdown",
      "metadata": {
        "id": "zsbTh2QhAwC4",
        "colab_type": "text"
      },
      "source": [
        "*Attempts to add the operation to insert into the moment just before the desired insert location. But, if there’s already an existing operation affecting any of the qubits touched by the operation to insert, a new moment is created instead.*"
      ]
    },
    {
      "cell_type": "code",
      "metadata": {
        "id": "J3LTjH9-AwC5",
        "colab_type": "code",
        "colab": {},
        "outputId": "4b316785-f974-4f8f-95ac-2700d9fef640"
      },
      "source": [
        "circuit = cirq.Circuit()\n",
        "circuit.append([CZ(q1, q2)])\n",
        "circuit.append([CZ(q1, q2)])\n",
        "circuit.append([H(q0), H(q1), H(q2)], strategy=InsertStrategy.INLINE)\n",
        "\n",
        "print(circuit)"
      ],
      "execution_count": 0,
      "outputs": [
        {
          "output_type": "stream",
          "text": [
            "(0, 0): ───────H───────\n",
            "\n",
            "(1, 0): ───@───@───H───\n",
            "           │   │\n",
            "(2, 0): ───@───@───H───\n"
          ],
          "name": "stdout"
        }
      ]
    },
    {
      "cell_type": "markdown",
      "metadata": {
        "id": "7iDg6j4fAwC7",
        "colab_type": "text"
      },
      "source": [
        "After two initial `CZ` between the second and third qubit, we try to insert three `H` `Operations`. We see that the `H` on the first qubit is inserted into the previous `Moment`, but the `H` on the second and third qubits cannot be inserted into the previous `Moment`, so a new `Moment` is created.\n",
        "\n",
        "Finally, we turn to the default strategy:"
      ]
    },
    {
      "cell_type": "markdown",
      "metadata": {
        "id": "O-LfqxSWAwC8",
        "colab_type": "text"
      },
      "source": [
        "*Creates a new moment at the desired insert location for the first operation, but then switches to inserting operations according to `InsertStrategy.INLINE`.*"
      ]
    },
    {
      "cell_type": "code",
      "metadata": {
        "id": "LmT3IKEEAwC9",
        "colab_type": "code",
        "colab": {},
        "outputId": "b9bf10e0-619a-4e8b-d8a6-8c4f1e9aa1cf"
      },
      "source": [
        "circuit = cirq.Circuit()\n",
        "circuit.append([H(q0)])\n",
        "circuit.append([CZ(q1,q2), H(q0)], strategy=InsertStrategy.NEW_THEN_INLINE)\n",
        "\n",
        "print(circuit)"
      ],
      "execution_count": 0,
      "outputs": [
        {
          "output_type": "stream",
          "text": [
            "(0, 0): ───H───H───\n",
            "\n",
            "(1, 0): ───────@───\n",
            "               │\n",
            "(2, 0): ───────@───\n"
          ],
          "name": "stdout"
        }
      ]
    },
    {
      "cell_type": "markdown",
      "metadata": {
        "id": "m2SoYFsFAwC_",
        "colab_type": "text"
      },
      "source": [
        "The first append creates a single moment with an `H` on the first qubit. Then, the append with the `InsertStrategy.NEW_THEN_INLINE` strategy begins by inserting the `CZ` in a new `Moment` (the `InsertStrategy.NEW` in `InsertStrategy.NEW_THEN_INLINE`). Subsequent appending is done `InsertStrategy.INLINE`, so the next `H` on the first qubit is appending in the just created `Moment`."
      ]
    },
    {
      "cell_type": "markdown",
      "metadata": {
        "id": "Ij28qJdtAwC_",
        "colab_type": "text"
      },
      "source": [
        "### Patterns for Arguments to Append and Insert\n",
        "\n",
        "In the above examples, we used a series of `Circuit.append `calls with a list of different `Operations` added to the circuit. However, the argument where we have supplied a list can also take more than just list values. For instance:"
      ]
    },
    {
      "cell_type": "code",
      "metadata": {
        "id": "kmt8hAfZAwDA",
        "colab_type": "code",
        "colab": {},
        "outputId": "51ff942e-b3f7-48d2-bc09-4706cdbd57b9"
      },
      "source": [
        "def my_layer():\n",
        "    yield CZ(q0, q1)\n",
        "    yield [H(q) for q in (q0, q1, q2)]\n",
        "    yield [CZ(q1, q2)]\n",
        "    yield [H(q0), [CZ(q1, q2)]]\n",
        "\n",
        "circuit = cirq.Circuit()\n",
        "circuit.append(my_layer())\n",
        "\n",
        "for x in my_layer():\n",
        "    print(x)"
      ],
      "execution_count": 0,
      "outputs": [
        {
          "output_type": "stream",
          "text": [
            "CZ((0, 0), (1, 0))\n",
            "[cirq.H.on(cirq.GridQubit(0, 0)), cirq.H.on(cirq.GridQubit(1, 0)), cirq.H.on(cirq.GridQubit(2, 0))]\n",
            "[cirq.CZ.on(cirq.GridQubit(1, 0), cirq.GridQubit(2, 0))]\n",
            "[cirq.H.on(cirq.GridQubit(0, 0)), [cirq.CZ.on(cirq.GridQubit(1, 0), cirq.GridQubit(2, 0))]]\n"
          ],
          "name": "stdout"
        }
      ]
    },
    {
      "cell_type": "code",
      "metadata": {
        "id": "LXs7ffVWAwDC",
        "colab_type": "code",
        "colab": {},
        "outputId": "f3876cd0-6487-48a7-b744-661465b07da6"
      },
      "source": [
        "print(circuit)"
      ],
      "execution_count": 0,
      "outputs": [
        {
          "output_type": "stream",
          "text": [
            "(0, 0): ───@───H───H───────\n",
            "           │\n",
            "(1, 0): ───@───H───@───@───\n",
            "                   │   │\n",
            "(2, 0): ───H───────@───@───\n"
          ],
          "name": "stdout"
        }
      ]
    },
    {
      "cell_type": "markdown",
      "metadata": {
        "id": "DpGimiozAwDE",
        "colab_type": "text"
      },
      "source": [
        "Recall that Python functions with a `yield` are generators. Generators are functions that act as iterators. In the above example, we see that we can iterate `over my_layer()`. In this case, each of the `yield` returns produces what was yielded, and here these are:\n",
        "\n",
        "* `Operations`, \n",
        "* lists of `Operations`,\n",
        "* or lists of `Operations` mixed with lists of `Operations`. \n",
        "\n",
        "\n",
        "When we pass an iterator to the `append` method, `Circuit` is able to flatten all of these and pass them as one giant list to `Circuit.append` (this also works for `Circuit.insert`).\n",
        "\n",
        "The above idea uses the concept of `OP_TREE`. An `OP_TREE` is not a class, but a *contract*. The basic idea is that, if the input can be iteratively flattened into a list of operations, then the input is an `OP_TREE`.\n",
        "\n",
        "A very nice pattern emerges from this structure: define generators for sub-circuits, which can vary by size or `Operation` parameters.\n",
        "\n",
        "Another useful method to construct a `Circuit` fully formed from an `OP_TREE` is to pass the `OP_TREE` into `Circuit` when initializing it:"
      ]
    },
    {
      "cell_type": "code",
      "metadata": {
        "id": "dC6iBIqrAwDF",
        "colab_type": "code",
        "colab": {},
        "outputId": "3b617652-6df0-4948-9c0b-17bdf96661e6"
      },
      "source": [
        "circuit = cirq.Circuit(H(q0), H(q1))\n",
        "print(circuit)"
      ],
      "execution_count": 0,
      "outputs": [
        {
          "output_type": "stream",
          "text": [
            "(0, 0): ───H───\n",
            "\n",
            "(1, 0): ───H───\n"
          ],
          "name": "stdout"
        }
      ]
    },
    {
      "cell_type": "markdown",
      "metadata": {
        "id": "dE0kxo6tAwDI",
        "colab_type": "text"
      },
      "source": [
        "### Slicing and Iterating over Circuits\n",
        "\n",
        "Circuits can be iterated over and sliced. When they are iterated, each item in the iteration is a moment:\n",
        "\n"
      ]
    },
    {
      "cell_type": "code",
      "metadata": {
        "id": "z2csEbbyAwDI",
        "colab_type": "code",
        "colab": {},
        "outputId": "59cc5497-f076-462f-cb5c-1088686717d2"
      },
      "source": [
        "circuit = cirq.Circuit(H(q0), CZ(q0, q1))\n",
        "for moment in circuit:\n",
        "    print(moment)"
      ],
      "execution_count": 0,
      "outputs": [
        {
          "output_type": "stream",
          "text": [
            "H((0, 0))\n",
            "CZ((0, 0), (1, 0))\n"
          ],
          "name": "stdout"
        }
      ]
    },
    {
      "cell_type": "markdown",
      "metadata": {
        "id": "8gT1t2drAwDL",
        "colab_type": "text"
      },
      "source": [
        "Slicing a `Circuit`, on the other hand, produces a new `Circuit` with only the moments corresponding to the slice:"
      ]
    },
    {
      "cell_type": "code",
      "metadata": {
        "id": "hxczWjkMAwDL",
        "colab_type": "code",
        "colab": {},
        "outputId": "6a7d3e0b-542c-45b5-86e0-87ac8c4b07c7"
      },
      "source": [
        "circuit = cirq.Circuit(H(q0), CZ(q0, q1), H(q1), CZ(q0, q1))\n",
        "print(circuit[1:3])"
      ],
      "execution_count": 0,
      "outputs": [
        {
          "output_type": "stream",
          "text": [
            "(0, 0): ───@───────\n",
            "           │\n",
            "(1, 0): ───@───H───\n"
          ],
          "name": "stdout"
        }
      ]
    },
    {
      "cell_type": "markdown",
      "metadata": {
        "id": "cDAVDT7bAwDO",
        "colab_type": "text"
      },
      "source": [
        "Especially useful is dropping the last moment (which are often just measurements): `circuit[:-1]`, or reversing a circuit: `circuit[::-1]`.\n"
      ]
    },
    {
      "cell_type": "markdown",
      "metadata": {
        "id": "knjYZkXXAwDO",
        "colab_type": "text"
      },
      "source": [
        "### Importing from OpenQASM\n",
        "\n",
        "The QASM importer is in an experimental state and currently only supports a subset of the full **OpenQASM spec**. Amongst others, classical control, arbitrary gate definitions, and even some of the gates that don't have a one-to-one representation in Cirq, are not yet supported. The functionality should be sufficient to import interesting quantum circuits. Error handling is very simple - on any lexical or syntactical error, a `QasmException` is raised.\n",
        "\n",
        "#### Importing cirq.Circuit from QASM format\n",
        "\n",
        "Requirements: `ply`\n",
        "\n",
        "```\n",
        "pip install ply==3.4\n",
        "```"
      ]
    },
    {
      "cell_type": "markdown",
      "metadata": {
        "id": "TXFjdV6BAwDP",
        "colab_type": "text"
      },
      "source": [
        "The following call will create a circuit defined by the input QASM string:"
      ]
    },
    {
      "cell_type": "code",
      "metadata": {
        "id": "jwIi_IpzAwDQ",
        "colab_type": "code",
        "colab": {},
        "outputId": "3db9aef0-10b4-45d8-848a-4ede7060edae"
      },
      "source": [
        "from cirq.contrib.qasm_import import circuit_from_qasm\n",
        "circuit = circuit_from_qasm(\"\"\"\n",
        "    OPENQASM 2.0;\n",
        "    include \"qelib1.inc\";\n",
        "    qreg q[3];\n",
        "    creg meas[3];\n",
        "    h q;\n",
        "    measure q -> meas;\n",
        "    \"\"\")\n",
        "print(circuit)"
      ],
      "execution_count": 0,
      "outputs": [
        {
          "output_type": "stream",
          "text": [
            "q_0: ───H───M('meas_0')───\n",
            "\n",
            "q_1: ───H───M('meas_1')───\n",
            "\n",
            "q_2: ───H───M('meas_2')───\n"
          ],
          "name": "stdout"
        }
      ]
    },
    {
      "cell_type": "markdown",
      "metadata": {
        "colab_type": "text",
        "id": "kMb3vuNLbjQV"
      },
      "source": [
        "#### Supported Control statements \n",
        "\n",
        "\n",
        "| Statement|Cirq support|Description|Example|\n",
        "|----| --------| --------| --------|\n",
        "|`OPENQASM 2.0;`| supported| Denotes a file in Open QASM format| OPENQASM 2.0;|\n",
        "|`qreg name[size];`| supported (see mapping qubits)| Declare a named register of qubits|`qreg q[5];`|\n",
        "|`creg name[size];`|supported (see mapping classical register to measurement keys)|  Declare a named register of bits|`creg c[5];`|\n",
        "|`include \"filename\";`| supported ONLY to include the standard \"qelib1.inc\" lib for compatibility| Open and parse another source file|`include \"qelib1.inc\";`|\n",
        "|`gate name(params) qargs;`|NOT supported| Declare a unitary gate||\n",
        "|`opaque name(params) qargs;`| NOT supported| Declare an opaque gate||\n",
        "|`// comment text`| supported|Comment a line of text|`// supported!`|\n",
        "|`U(θ,φ,λ) qubit/qreg;`|  supported| Apply built-in single qubit gate(s)|``U(pi/2,2*pi/3,0) q[0];``|\n",
        "|`CX qubit/qreg,qubit/qreg;`| supported|Apply built-in CNOT gate(s)|`CX q[0],q[1];`|\n",
        "|measure qubit/qreg|supported|Make measurements in Z basis||\n",
        "|`reset qubit/qreg;`| NOT supported|Prepare qubit(s) in <code>&#124;0></code>|`reset q[0];`| \n",
        "|`gatename(params) qargs;`|  supported for ONLY the supported subset of standard gates defined in \"qelib1.inc\"|Apply a user-defined unitary gate|`rz(pi/2) q[0];`|\n",
        "|`if(creg==int) qop;`| NOT supported| Conditionally apply quantum operation|`if(c==5) CX q[0],q[1];`|\n",
        "|`barrier qargs;`| NOT supported| Prevent transformations across this source line|`barrier q[0],q[1];`|\n"
      ]
    },
    {
      "cell_type": "markdown",
      "metadata": {
        "colab_type": "text",
        "id": "dFWd8o_EbjpE"
      },
      "source": [
        "#### Gate conversion rules \n",
        "\n",
        "Note: The standard Quantum Experience standard gates are defined in ([qelib.inc](https://github.com/Qiskit/qiskit-terra/blob/master/qiskit/qasm/libs/qelib1.inc)) \n",
        "based on the `U` and `CX` built-in instructions, and we could generate them dynamically. Instead, we chose to map them to native Cirq gates explicitly, which results in a more user-friendly circuit. \n",
        "\n",
        "| QE gates| Cirq translation| Notes|\n",
        "| --------| --------| --------|\n",
        "|`U(θ,φ,λ)` |`QasmUGate(θ,φ,λ)`|| \n",
        "|`CX` |`cirq.CX`|| \n",
        "|`u3(θ,φ,λ)`|`QasmUGate(θ,φ,λ)`||\n",
        "|`u2(φ,λ) = u3(π/2,φ,λ)`|`QasmUGate(π/2,φ,λ)`|| \n",
        "|`u1 (λ) = u3(0,0,λ)`| NOT supported || \n",
        "|`id`|`cirq.Identity`| one single-qubit Identity gate is created for each qubit if applied on a register|  \n",
        "|`u0(γ)`| NOT supported| this is the \"WAIT gate\" for length γ in QE| \n",
        "|`x`|`cirq.X`|| \n",
        "|`y`|`cirq.Y`|| \n",
        "|`z`|`cirq.Z`|| \n",
        "|`h`|`cirq.H`|| \n",
        "|`s`|`cirq.S`|| \n",
        "|`sdg`|``cirq.S**-1``|| \n",
        "|`t`|`cirq.T`|| \n",
        "|`tdg`|``cirq.T**-1``||\n",
        "|`rx(θ)`|`cirq.Rx(θ)`|| \n",
        "|`ry(θ)`|`cirq.Ry(θ)`|| \n",
        "|`rz(θ)`|`cirq.Rz(θ)`|| \n",
        "|`cx`|`cirq.CX`|| \n",
        "|`cy`|`cirq.ControlledGate(cirq.Y)`|| \n",
        "|`cz`|`cirq.CZ`|| \n",
        "|`ch`|`cirq.ControlledGate(cirq.H)`|| \n",
        "|`swap`|`cirq.SWAP`|| \n",
        "|`ccx`|`cirq.CCX`|| \n",
        "|`cswap`|`cirq.CSWAP`|| \n",
        "|`crz`| NOT supported || \n",
        "|`cu1`| NOT supported|| \n",
        "|`cu3`| NOT supported|| \n",
        "|`rzz`| NOT supported|| "
      ]
    },
    {
      "cell_type": "markdown",
      "metadata": {
        "colab_type": "text",
        "id": "Yfg2OtI_rvmA"
      },
      "source": [
        "#### Mapping quantum registers to qubits \n",
        "\n",
        "For a quantum register `qreg qfoo[n];` the QASM importer will create `cirq.NamedQubit`s named `qfoo_0`..`qfoo_<n-1>`. \n",
        "\n",
        "#### Mapping classical registers to measurement keys\n",
        "\n",
        "For a classical register `creg cbar[n];` the QASM importer will create measurement keys named `cbar_0`..`cbar_<n-1>`. "
      ]
    }
  ]
}